{
  "nbformat": 4,
  "nbformat_minor": 0,
  "metadata": {
    "colab": {
      "name": "basic_numpy.ipynb",
      "version": "0.3.2",
      "views": {},
      "default_view": {},
      "provenance": []
    }
  },
  "cells": [
    {
      "metadata": {
        "id": "NutvBzo_VcpT",
        "colab_type": "text"
      },
      "source": [
        "# NumPy แบบเร่งรัด\n",
        "### @srakrn"
      ],
      "cell_type": "markdown"
    },
    {
      "metadata": {
        "id": "oQ0wod-gVhw-",
        "colab_type": "text"
      },
      "source": [
        "## รู้จัก NumPy\n",
        "\n",
        "NumPy เป็นไลบรารี่สำหรับการทำงานทางคณิตศาสตร์ที่ทรงพลัง หนึ่งในตัวอย่างที่ผู้เขียนมักหยิบมาเพื่อยกตัวอย่างความสามารถของ NumPy คือการดำเนินการทางเวกเตอร์ของ NumPy\n",
        "\n",
        "หากเรามีเวกเตอร์ $\\vec{u}=2\\hat{i}+3\\hat{j}+4\\hat{k}$ และ $\\vec{v}=3\\hat{i}+4\\hat{j}+5\\hat{k}$ เราอาจเขียนแทนค่าของ $\\vec{u}$ และ $\\vec{v}$ ได้ด้วย Tuple ดังนี้"
      ],
      "cell_type": "markdown"
    },
    {
      "metadata": {
        "id": "SEGIIsVlWJcW",
        "colab_type": "code",
        "colab": {
          "autoexec": {
            "startup": false,
            "wait_interval": 0
          }
        }
      },
      "source": [
        "vec_u_tuple = (2, 3, 4)\n",
        "vec_v_tuple = (3, 4, 5)"
      ],
      "cell_type": "code",
      "execution_count": 0,
      "outputs": []
    },
    {
      "metadata": {
        "id": "NKe1pZlJWO2V",
        "colab_type": "text"
      },
      "source": [
        "หากเราต้องการหาค่าของ $\\vec{u}+\\vec{v}$ เราจะพบว่าเมื่อเรานำตัวแปรทั้งสองตัวมาบวกกัน..."
      ],
      "cell_type": "markdown"
    },
    {
      "metadata": {
        "id": "0l15DZEYWWYI",
        "colab_type": "code",
        "colab": {
          "autoexec": {
            "startup": false,
            "wait_interval": 0
          },
          "output_extras": [
            {
              "item_id": 1
            }
          ],
          "base_uri": "https://localhost:8080/",
          "height": 35
        },
        "outputId": "bf5ae261-0d0d-4075-e20f-74da3f094934",
        "executionInfo": {
          "status": "ok",
          "timestamp": 1510628378210,
          "user_tz": -420,
          "elapsed": 817,
          "user": {
            "displayName": "Sirakorn Lamyai",
            "photoUrl": "//lh4.googleusercontent.com/-wZrHO4ylioI/AAAAAAAAAAI/AAAAAAAAiTI/MHjf1ZzXuz0/s50-c-k-no/photo.jpg",
            "userId": "112598566285839351739"
          }
        }
      },
      "source": [
        "vec_u_tuple + vec_v_tuple"
      ],
      "cell_type": "code",
      "execution_count": 20,
      "outputs": [
        {
          "output_type": "execute_result",
          "data": {
            "text/plain": [
              "(2, 3, 4, 3, 4, 5)"
            ]
          },
          "metadata": {
            "tags": []
          },
          "execution_count": 20
        }
      ]
    },
    {
      "metadata": {
        "id": "JvHWV8FqWZ-E",
        "colab_type": "text"
      },
      "source": [
        "จะกลายเป็นการทำ Tuple มาต่อกันแทน"
      ],
      "cell_type": "markdown"
    },
    {
      "metadata": {
        "id": "papRVyISWeIQ",
        "colab_type": "text"
      },
      "source": [
        "## การนำเข้าโมดูล NumPy\n",
        "\n",
        "การนำเข้าไลบรารี NumPy สามารถทำได้โดยใช้คำสั่ง"
      ],
      "cell_type": "markdown"
    },
    {
      "metadata": {
        "id": "LLKEvKybWkuc",
        "colab_type": "code",
        "colab": {
          "autoexec": {
            "startup": false,
            "wait_interval": 0
          }
        }
      },
      "source": [
        "import numpy\n",
        "# จะเห็นว่าใช้วิธีเดียวกับ import math เลย\n",
        "import math"
      ],
      "cell_type": "code",
      "execution_count": 0,
      "outputs": []
    },
    {
      "metadata": {
        "id": "pmh3SYArWo5Q",
        "colab_type": "text"
      },
      "source": [
        "ซึ่งจะทำให้ได้ชุดคำสั่งจากไลบรารี NumPy ตามที่ต้องการ"
      ],
      "cell_type": "markdown"
    },
    {
      "metadata": {
        "id": "hgm8MYEwWyeR",
        "colab_type": "text"
      },
      "source": [
        "## numpy.array"
      ],
      "cell_type": "markdown"
    },
    {
      "metadata": {
        "id": "Qv2ITBB0W2c7",
        "colab_type": "text"
      },
      "source": [
        "NumPy มาพร้อมชนิดข้อมูลหนึ่งตัวที่สำคัญนั่นคือ `numpy.array` เราสามารถแปลงลิสต์ หรือทูเปิลใดๆ ไปเป็น NumPy array ได้ด้วยการใช้คำสั่ง `numpy.array()` ครอบ (เช่นเดียวกับการแปลง int/float)"
      ],
      "cell_type": "markdown"
    },
    {
      "metadata": {
        "id": "roOXxHOkXFXx",
        "colab_type": "code",
        "colab": {
          "autoexec": {
            "startup": false,
            "wait_interval": 0
          }
        }
      },
      "source": [
        "vec_u = numpy.array(vec_u_tuple)\n",
        "vec_v = numpy.array(vec_v_tuple)"
      ],
      "cell_type": "code",
      "execution_count": 0,
      "outputs": []
    },
    {
      "metadata": {
        "id": "lcpG3d4oXMYp",
        "colab_type": "text"
      },
      "source": [
        "### การดำเนินการทางคณิตศาสตร์ของ NumPy array\n",
        "\n",
        "เราจะพบว่าเมื่อเรานำ `vec_u` และ `vec_v` มาบวกกัน"
      ],
      "cell_type": "markdown"
    },
    {
      "metadata": {
        "id": "s3BV-qjwXQuL",
        "colab_type": "code",
        "colab": {
          "autoexec": {
            "startup": false,
            "wait_interval": 0
          },
          "output_extras": [
            {
              "item_id": 1
            }
          ],
          "base_uri": "https://localhost:8080/",
          "height": 35
        },
        "outputId": "10d032ac-aa10-4811-f4c6-b9d8a7da1b4a",
        "executionInfo": {
          "status": "ok",
          "timestamp": 1510628381159,
          "user_tz": -420,
          "elapsed": 835,
          "user": {
            "displayName": "Sirakorn Lamyai",
            "photoUrl": "//lh4.googleusercontent.com/-wZrHO4ylioI/AAAAAAAAAAI/AAAAAAAAiTI/MHjf1ZzXuz0/s50-c-k-no/photo.jpg",
            "userId": "112598566285839351739"
          }
        }
      },
      "source": [
        "vec_u + vec_v"
      ],
      "cell_type": "code",
      "execution_count": 23,
      "outputs": [
        {
          "output_type": "execute_result",
          "data": {
            "text/plain": [
              "array([5, 7, 9])"
            ]
          },
          "metadata": {
            "tags": []
          },
          "execution_count": 23
        }
      ]
    },
    {
      "metadata": {
        "id": "IyXZJwBtXTgv",
        "colab_type": "text"
      },
      "source": [
        "จะได้ค่าของ $\\vec{u}+\\vec{v}$ ตามที่ต้องการ นั่นหมายถึงว่าชนิดข้อมูล `numpy.array` ถูกออกแบบโดยเน้นการใช้งานทางคณิตศาสตร์เป็นหลัก\n",
        "\n",
        "ในขณะเดียวกัน เราสามารถใช้ตัวดำเนินการ + - * / กับ `numpy.array` ได้ด้วย ซึ่งจะให้ผลเป็นการที่สมาชิกทุกตัวของ `numpy.array` ถูกกระทำ"
      ],
      "cell_type": "markdown"
    },
    {
      "metadata": {
        "id": "wKaCxszjX0GC",
        "colab_type": "code",
        "colab": {
          "autoexec": {
            "startup": false,
            "wait_interval": 0
          },
          "output_extras": [
            {
              "item_id": 1
            }
          ],
          "base_uri": "https://localhost:8080/",
          "height": 35
        },
        "outputId": "6336d57c-ca29-438a-a2e2-bb72280a28e0",
        "executionInfo": {
          "status": "ok",
          "timestamp": 1510628382020,
          "user_tz": -420,
          "elapsed": 694,
          "user": {
            "displayName": "Sirakorn Lamyai",
            "photoUrl": "//lh4.googleusercontent.com/-wZrHO4ylioI/AAAAAAAAAAI/AAAAAAAAiTI/MHjf1ZzXuz0/s50-c-k-no/photo.jpg",
            "userId": "112598566285839351739"
          }
        }
      },
      "source": [
        "vec_u"
      ],
      "cell_type": "code",
      "execution_count": 24,
      "outputs": [
        {
          "output_type": "execute_result",
          "data": {
            "text/plain": [
              "array([2, 3, 4])"
            ]
          },
          "metadata": {
            "tags": []
          },
          "execution_count": 24
        }
      ]
    },
    {
      "metadata": {
        "id": "xveAoNDXYGVB",
        "colab_type": "code",
        "colab": {
          "autoexec": {
            "startup": false,
            "wait_interval": 0
          },
          "output_extras": [
            {
              "item_id": 1
            }
          ],
          "base_uri": "https://localhost:8080/",
          "height": 35
        },
        "outputId": "3e64a439-e3ca-4c90-f670-2e3280f5f3f2",
        "executionInfo": {
          "status": "ok",
          "timestamp": 1510628382919,
          "user_tz": -420,
          "elapsed": 715,
          "user": {
            "displayName": "Sirakorn Lamyai",
            "photoUrl": "//lh4.googleusercontent.com/-wZrHO4ylioI/AAAAAAAAAAI/AAAAAAAAiTI/MHjf1ZzXuz0/s50-c-k-no/photo.jpg",
            "userId": "112598566285839351739"
          }
        }
      },
      "source": [
        "vec_u + 2"
      ],
      "cell_type": "code",
      "execution_count": 25,
      "outputs": [
        {
          "output_type": "execute_result",
          "data": {
            "text/plain": [
              "array([4, 5, 6])"
            ]
          },
          "metadata": {
            "tags": []
          },
          "execution_count": 25
        }
      ]
    },
    {
      "metadata": {
        "id": "bCtyMGMJYHXr",
        "colab_type": "code",
        "colab": {
          "autoexec": {
            "startup": false,
            "wait_interval": 0
          },
          "output_extras": [
            {
              "item_id": 1
            }
          ],
          "base_uri": "https://localhost:8080/",
          "height": 35
        },
        "outputId": "0769e1c3-913d-4f29-f99c-506ebdd1a520",
        "executionInfo": {
          "status": "ok",
          "timestamp": 1510628384155,
          "user_tz": -420,
          "elapsed": 1066,
          "user": {
            "displayName": "Sirakorn Lamyai",
            "photoUrl": "//lh4.googleusercontent.com/-wZrHO4ylioI/AAAAAAAAAAI/AAAAAAAAiTI/MHjf1ZzXuz0/s50-c-k-no/photo.jpg",
            "userId": "112598566285839351739"
          }
        }
      },
      "source": [
        "vec_u * 3"
      ],
      "cell_type": "code",
      "execution_count": 26,
      "outputs": [
        {
          "output_type": "execute_result",
          "data": {
            "text/plain": [
              "array([ 6,  9, 12])"
            ]
          },
          "metadata": {
            "tags": []
          },
          "execution_count": 26
        }
      ]
    },
    {
      "metadata": {
        "id": "Z8j-iDwVYQUt",
        "colab_type": "text"
      },
      "source": [
        "### `numpy.arange()`\n",
        "\n",
        "เราสามารถใช้คำสั่ง `numpy.arange()` สร้าง NumPy array ที่จะให้ผลลัพธ์ลักษณะเดียวกับ `range()` ของไพธอนได้"
      ],
      "cell_type": "markdown"
    },
    {
      "metadata": {
        "id": "nXf7FpptYbDe",
        "colab_type": "code",
        "colab": {
          "autoexec": {
            "startup": false,
            "wait_interval": 0
          },
          "output_extras": [
            {
              "item_id": 1
            }
          ],
          "base_uri": "https://localhost:8080/",
          "height": 52
        },
        "outputId": "e3dc46d2-cbdd-48f4-af94-f2e9ae80d6ac",
        "executionInfo": {
          "status": "ok",
          "timestamp": 1510628385373,
          "user_tz": -420,
          "elapsed": 974,
          "user": {
            "displayName": "Sirakorn Lamyai",
            "photoUrl": "//lh4.googleusercontent.com/-wZrHO4ylioI/AAAAAAAAAAI/AAAAAAAAiTI/MHjf1ZzXuz0/s50-c-k-no/photo.jpg",
            "userId": "112598566285839351739"
          }
        }
      },
      "source": [
        "# สร้าง range ของ [1, 5) โดยเพิ่มขึ้นทีละ 0.2\n",
        "numpy.arange(1, 5, 0.2)"
      ],
      "cell_type": "code",
      "execution_count": 27,
      "outputs": [
        {
          "output_type": "execute_result",
          "data": {
            "text/plain": [
              "array([ 1. ,  1.2,  1.4,  1.6,  1.8,  2. ,  2.2,  2.4,  2.6,  2.8,  3. ,\n",
              "        3.2,  3.4,  3.6,  3.8,  4. ,  4.2,  4.4,  4.6,  4.8])"
            ]
          },
          "metadata": {
            "tags": []
          },
          "execution_count": 27
        }
      ]
    },
    {
      "metadata": {
        "id": "xanRqXrgYMzF",
        "colab_type": "text"
      },
      "source": [
        "### array ขนาดหลายมิติ\n",
        "\n",
        "ในขณะเดียวกัน NumPy array ไม่ได้จำกัดอยู่เพียงแค่ขนาดหนึ่งมิติ เราสามารถขยาย array ออกไปเป็นสอง หรือสามมิติได้ ตัวอย่างด้านล่างคือ array ขนาดสองมิติ"
      ],
      "cell_type": "markdown"
    },
    {
      "metadata": {
        "id": "n-u40y-2Y0MA",
        "colab_type": "code",
        "colab": {
          "autoexec": {
            "startup": false,
            "wait_interval": 0
          },
          "output_extras": [
            {
              "item_id": 1
            }
          ],
          "base_uri": "https://localhost:8080/",
          "height": 70
        },
        "outputId": "acae3635-c039-41ef-9943-83990ab943a8",
        "executionInfo": {
          "status": "ok",
          "timestamp": 1510628386507,
          "user_tz": -420,
          "elapsed": 905,
          "user": {
            "displayName": "Sirakorn Lamyai",
            "photoUrl": "//lh4.googleusercontent.com/-wZrHO4ylioI/AAAAAAAAAAI/AAAAAAAAiTI/MHjf1ZzXuz0/s50-c-k-no/photo.jpg",
            "userId": "112598566285839351739"
          }
        }
      },
      "source": [
        "numpy.array([\n",
        "    [1, 2, 3],\n",
        "    [4, 5, 6],\n",
        "    [7, 8, 9]\n",
        "])"
      ],
      "cell_type": "code",
      "execution_count": 28,
      "outputs": [
        {
          "output_type": "execute_result",
          "data": {
            "text/plain": [
              "array([[1, 2, 3],\n",
              "       [4, 5, 6],\n",
              "       [7, 8, 9]])"
            ]
          },
          "metadata": {
            "tags": []
          },
          "execution_count": 28
        }
      ]
    },
    {
      "metadata": {
        "id": "OOVKmobbZLvn",
        "colab_type": "text"
      },
      "source": [
        "เราสามารถสร้าง array ขนาด n มิติของค่า 0 ได้ด้วยคำสั่ง `numpy.zeros()`"
      ],
      "cell_type": "markdown"
    },
    {
      "metadata": {
        "id": "x8k3-Hp_ZTkg",
        "colab_type": "code",
        "colab": {
          "autoexec": {
            "startup": false,
            "wait_interval": 0
          },
          "output_extras": [
            {
              "item_id": 1
            }
          ],
          "base_uri": "https://localhost:8080/",
          "height": 52
        },
        "outputId": "1ec89960-c14d-4eb6-d314-c88282df5304",
        "executionInfo": {
          "status": "ok",
          "timestamp": 1510628387449,
          "user_tz": -420,
          "elapsed": 736,
          "user": {
            "displayName": "Sirakorn Lamyai",
            "photoUrl": "//lh4.googleusercontent.com/-wZrHO4ylioI/AAAAAAAAAAI/AAAAAAAAiTI/MHjf1ZzXuz0/s50-c-k-no/photo.jpg",
            "userId": "112598566285839351739"
          }
        }
      },
      "source": [
        "# สร้าง NumPy array ขนาด 2*3 ที่มีแต่ค่า 0\n",
        "numpy.zeros([2, 3])"
      ],
      "cell_type": "code",
      "execution_count": 29,
      "outputs": [
        {
          "output_type": "execute_result",
          "data": {
            "text/plain": [
              "array([[ 0.,  0.,  0.],\n",
              "       [ 0.,  0.,  0.]])"
            ]
          },
          "metadata": {
            "tags": []
          },
          "execution_count": 29
        }
      ]
    },
    {
      "metadata": {
        "id": "dhT78xdVZeHk",
        "colab_type": "text"
      },
      "source": [
        "และสร้าง array ในรูปแบบเดียวกันของค่า 1 ได้ด้วยคำสั่ง `numpy.ones()`"
      ],
      "cell_type": "markdown"
    },
    {
      "metadata": {
        "id": "439AHKfkZjIU",
        "colab_type": "code",
        "colab": {
          "autoexec": {
            "startup": false,
            "wait_interval": 0
          },
          "output_extras": [
            {
              "item_id": 1
            }
          ],
          "base_uri": "https://localhost:8080/",
          "height": 88
        },
        "outputId": "ca638aca-8b75-4379-f367-2e1ca24d2148",
        "executionInfo": {
          "status": "ok",
          "timestamp": 1510628388547,
          "user_tz": -420,
          "elapsed": 921,
          "user": {
            "displayName": "Sirakorn Lamyai",
            "photoUrl": "//lh4.googleusercontent.com/-wZrHO4ylioI/AAAAAAAAAAI/AAAAAAAAiTI/MHjf1ZzXuz0/s50-c-k-no/photo.jpg",
            "userId": "112598566285839351739"
          }
        }
      },
      "source": [
        "# สร้าง NumPy array ขนาด 4*5 ที่มีแต่ค่า 1\n",
        "numpy.ones([4, 5])"
      ],
      "cell_type": "code",
      "execution_count": 30,
      "outputs": [
        {
          "output_type": "execute_result",
          "data": {
            "text/plain": [
              "array([[ 1.,  1.,  1.,  1.,  1.],\n",
              "       [ 1.,  1.,  1.,  1.,  1.],\n",
              "       [ 1.,  1.,  1.,  1.,  1.],\n",
              "       [ 1.,  1.,  1.,  1.,  1.]])"
            ]
          },
          "metadata": {
            "tags": []
          },
          "execution_count": 30
        }
      ]
    },
    {
      "metadata": {
        "id": "aaTvORyHZpK7",
        "colab_type": "text"
      },
      "source": [
        "ฟังก์ชั่นในการช่วยสร้าง NumPy array ยังมีอีกเยอะ เช่นฟังก์ชั่นด้านล่างนี้*เสก*เมทริกซ์เอกลักษณ์มาให้เราได้ทันที"
      ],
      "cell_type": "markdown"
    },
    {
      "metadata": {
        "id": "zPMObXBTZ3j4",
        "colab_type": "code",
        "colab": {
          "autoexec": {
            "startup": false,
            "wait_interval": 0
          },
          "output_extras": [
            {
              "item_id": 1
            }
          ],
          "base_uri": "https://localhost:8080/",
          "height": 88
        },
        "outputId": "b89c2e42-a4bc-4807-f94b-03fb2081af6a",
        "executionInfo": {
          "status": "ok",
          "timestamp": 1510628389574,
          "user_tz": -420,
          "elapsed": 852,
          "user": {
            "displayName": "Sirakorn Lamyai",
            "photoUrl": "//lh4.googleusercontent.com/-wZrHO4ylioI/AAAAAAAAAAI/AAAAAAAAiTI/MHjf1ZzXuz0/s50-c-k-no/photo.jpg",
            "userId": "112598566285839351739"
          }
        }
      },
      "source": [
        "numpy.identity(4)"
      ],
      "cell_type": "code",
      "execution_count": 31,
      "outputs": [
        {
          "output_type": "execute_result",
          "data": {
            "text/plain": [
              "array([[ 1.,  0.,  0.,  0.],\n",
              "       [ 0.,  1.,  0.,  0.],\n",
              "       [ 0.,  0.,  1.,  0.],\n",
              "       [ 0.,  0.,  0.,  1.]])"
            ]
          },
          "metadata": {
            "tags": []
          },
          "execution_count": 31
        }
      ]
    },
    {
      "metadata": {
        "id": "4rX-vTUNaCar",
        "colab_type": "text"
      },
      "source": [
        "### Slicing สำหรับ NumPy array"
      ],
      "cell_type": "markdown"
    },
    {
      "metadata": {
        "id": "BE2bMCBWaHVx",
        "colab_type": "text"
      },
      "source": [
        "กำหนด `array_a` เป็นอาร์เรย์ของค่าด้านล่าง"
      ],
      "cell_type": "markdown"
    },
    {
      "metadata": {
        "id": "mUrQFpD_aNjm",
        "colab_type": "code",
        "colab": {
          "autoexec": {
            "startup": false,
            "wait_interval": 0
          }
        }
      },
      "source": [
        "array_a = numpy.array([\n",
        "    [0.0, 0.1, 0.2, 0.3, 0.4],\n",
        "    [1.0, 1.1, 1.2, 1.3, 1.4],\n",
        "    [2.0, 2.1, 2.2, 2.3, 2.4],\n",
        "    [3.0, 3.1, 3.2, 3.3, 3.4],\n",
        "    [4.0, 4.1, 4.2, 4.3, 4.4]\n",
        "])\n",
        "\n",
        "# array_a = numpy.array([x+numpy.arange(0, 0.5, 0.1) for x in range(5)])"
      ],
      "cell_type": "code",
      "execution_count": 0,
      "outputs": []
    },
    {
      "metadata": {
        "id": "plINjewXacy1",
        "colab_type": "text"
      },
      "source": [
        "เราทราบดีอยู่แล้วว่าเราสามารถ slice ข้อมูลตามปกติในแบบไพธอนได้"
      ],
      "cell_type": "markdown"
    },
    {
      "metadata": {
        "id": "l2VTRLLwaktV",
        "colab_type": "code",
        "colab": {
          "autoexec": {
            "startup": false,
            "wait_interval": 0
          },
          "output_extras": [
            {
              "item_id": 1
            }
          ],
          "base_uri": "https://localhost:8080/",
          "height": 52
        },
        "outputId": "09562b75-308b-4016-e7dc-01c75c1ee06d",
        "executionInfo": {
          "status": "ok",
          "timestamp": 1510628391622,
          "user_tz": -420,
          "elapsed": 854,
          "user": {
            "displayName": "Sirakorn Lamyai",
            "photoUrl": "//lh4.googleusercontent.com/-wZrHO4ylioI/AAAAAAAAAAI/AAAAAAAAiTI/MHjf1ZzXuz0/s50-c-k-no/photo.jpg",
            "userId": "112598566285839351739"
          }
        }
      },
      "source": [
        "array_a[0:2]"
      ],
      "cell_type": "code",
      "execution_count": 33,
      "outputs": [
        {
          "output_type": "execute_result",
          "data": {
            "text/plain": [
              "array([[ 0. ,  0.1,  0.2,  0.3,  0.4],\n",
              "       [ 1. ,  1.1,  1.2,  1.3,  1.4]])"
            ]
          },
          "metadata": {
            "tags": []
          },
          "execution_count": 33
        }
      ]
    },
    {
      "metadata": {
        "id": "xomHJX6SapzC",
        "colab_type": "text"
      },
      "source": [
        "แต่หนึ่งในความสะดวกคือ เราสามารถ slice ข้อมูลในแนวตั้งได้ด้วย โดยใช้ `,` (comma) คั่น slicer"
      ],
      "cell_type": "markdown"
    },
    {
      "metadata": {
        "id": "Q_UaILfRavjJ",
        "colab_type": "code",
        "colab": {
          "autoexec": {
            "startup": false,
            "wait_interval": 0
          },
          "output_extras": [
            {
              "item_id": 1
            }
          ],
          "base_uri": "https://localhost:8080/",
          "height": 52
        },
        "outputId": "e81ca01b-9d7f-4f77-ae2c-15b8b5f4cc7d",
        "executionInfo": {
          "status": "ok",
          "timestamp": 1510628392501,
          "user_tz": -420,
          "elapsed": 673,
          "user": {
            "displayName": "Sirakorn Lamyai",
            "photoUrl": "//lh4.googleusercontent.com/-wZrHO4ylioI/AAAAAAAAAAI/AAAAAAAAiTI/MHjf1ZzXuz0/s50-c-k-no/photo.jpg",
            "userId": "112598566285839351739"
          }
        }
      },
      "source": [
        "array_a[0:2, 1:4]"
      ],
      "cell_type": "code",
      "execution_count": 34,
      "outputs": [
        {
          "output_type": "execute_result",
          "data": {
            "text/plain": [
              "array([[ 0.1,  0.2,  0.3],\n",
              "       [ 1.1,  1.2,  1.3]])"
            ]
          },
          "metadata": {
            "tags": []
          },
          "execution_count": 34
        }
      ]
    },
    {
      "metadata": {
        "id": "A-QjxmT3dsc0",
        "colab_type": "text"
      },
      "source": [
        "ดังนั้น เมื่อ slicer ของเรารองรับการ slice หลายมิติ เราอาจใช้ syntax การ slice ที่เหมือนมาจากภาษาอื่นมากกว่าไพธอนก็ได้ (ใช้ลักษณะนี้กับ list ไม่ได้)\n",
        "\n",
        "(โค้ดด้านล่างจะมีปัญหาเรื่อง [floating point precision](https://th.wikipedia.org/wiki/%E0%B8%88%E0%B8%B3%E0%B8%99%E0%B8%A7%E0%B8%99%E0%B8%88%E0%B8%B8%E0%B8%94%E0%B8%A5%E0%B8%AD%E0%B8%A2%E0%B8%95%E0%B8%B1%E0%B8%A7))"
      ],
      "cell_type": "markdown"
    },
    {
      "metadata": {
        "id": "V-eUAzRmd3Ki",
        "colab_type": "code",
        "colab": {
          "autoexec": {
            "startup": false,
            "wait_interval": 0
          },
          "output_extras": [
            {
              "item_id": 1
            }
          ],
          "base_uri": "https://localhost:8080/",
          "height": 35
        },
        "outputId": "e7bc2340-7143-4e57-8657-5aa66ce97e16",
        "executionInfo": {
          "status": "ok",
          "timestamp": 1510628393397,
          "user_tz": -420,
          "elapsed": 740,
          "user": {
            "displayName": "Sirakorn Lamyai",
            "photoUrl": "//lh4.googleusercontent.com/-wZrHO4ylioI/AAAAAAAAAAI/AAAAAAAAiTI/MHjf1ZzXuz0/s50-c-k-no/photo.jpg",
            "userId": "112598566285839351739"
          }
        }
      },
      "source": [
        "array_a[3, 4]"
      ],
      "cell_type": "code",
      "execution_count": 35,
      "outputs": [
        {
          "output_type": "execute_result",
          "data": {
            "text/plain": [
              "3.3999999999999999"
            ]
          },
          "metadata": {
            "tags": []
          },
          "execution_count": 35
        }
      ]
    },
    {
      "metadata": {
        "id": "pdG4M6B7hEFI",
        "colab_type": "text"
      },
      "source": [
        "นอกจากนั้น เราสามารถยุบ NumPy array หลายมิติให้สามารถ iterate วนในอาร์เรย์ได้ ด้วย property `flat` หรือเมธอด `ravel()`"
      ],
      "cell_type": "markdown"
    },
    {
      "metadata": {
        "id": "xQ4dM03vhDcG",
        "colab_type": "code",
        "colab": {
          "autoexec": {
            "startup": false,
            "wait_interval": 0
          },
          "output_extras": [
            {
              "item_id": 1
            }
          ],
          "base_uri": "https://localhost:8080/",
          "height": 459
        },
        "outputId": "5baca350-51e7-47e4-eaec-bb62a4ea18f1",
        "executionInfo": {
          "status": "ok",
          "timestamp": 1510629234910,
          "user_tz": -420,
          "elapsed": 1014,
          "user": {
            "displayName": "Sirakorn Lamyai",
            "photoUrl": "//lh4.googleusercontent.com/-wZrHO4ylioI/AAAAAAAAAAI/AAAAAAAAiTI/MHjf1ZzXuz0/s50-c-k-no/photo.jpg",
            "userId": "112598566285839351739"
          }
        }
      },
      "source": [
        "for i in array_a.flat:\n",
        "  print(i)"
      ],
      "cell_type": "code",
      "execution_count": 45,
      "outputs": [
        {
          "output_type": "stream",
          "text": [
            "0.0\n",
            "0.1\n",
            "0.2\n",
            "0.3\n",
            "0.4\n",
            "1.0\n",
            "1.1\n",
            "1.2\n",
            "1.3\n",
            "1.4\n",
            "2.0\n",
            "2.1\n",
            "2.2\n",
            "2.3\n",
            "2.4\n",
            "3.0\n",
            "3.1\n",
            "3.2\n",
            "3.3\n",
            "3.4\n",
            "4.0\n",
            "4.1\n",
            "4.2\n",
            "4.3\n",
            "4.4\n"
          ],
          "name": "stdout"
        }
      ]
    },
    {
      "metadata": {
        "id": "nYvzo9WJhffO",
        "colab_type": "code",
        "colab": {
          "autoexec": {
            "startup": false,
            "wait_interval": 0
          },
          "output_extras": [
            {
              "item_id": 1
            }
          ],
          "base_uri": "https://localhost:8080/",
          "height": 70
        },
        "outputId": "f86760f2-6273-4e92-d6b1-476cab434993",
        "executionInfo": {
          "status": "ok",
          "timestamp": 1510629315386,
          "user_tz": -420,
          "elapsed": 853,
          "user": {
            "displayName": "Sirakorn Lamyai",
            "photoUrl": "//lh4.googleusercontent.com/-wZrHO4ylioI/AAAAAAAAAAI/AAAAAAAAiTI/MHjf1ZzXuz0/s50-c-k-no/photo.jpg",
            "userId": "112598566285839351739"
          }
        }
      },
      "source": [
        "array_a.ravel()"
      ],
      "cell_type": "code",
      "execution_count": 46,
      "outputs": [
        {
          "output_type": "execute_result",
          "data": {
            "text/plain": [
              "array([ 0. ,  0.1,  0.2,  0.3,  0.4,  1. ,  1.1,  1.2,  1.3,  1.4,  2. ,\n",
              "        2.1,  2.2,  2.3,  2.4,  3. ,  3.1,  3.2,  3.3,  3.4,  4. ,  4.1,\n",
              "        4.2,  4.3,  4.4])"
            ]
          },
          "metadata": {
            "tags": []
          },
          "execution_count": 46
        }
      ]
    },
    {
      "metadata": {
        "id": "g1m7k4zHeZRX",
        "colab_type": "text"
      },
      "source": [
        "## ฟังก์ชั่นทางคณิตศาสตร์ของ NumPy\n",
        "\n",
        "NumPy มาพร้อมฟังก์ชั่นทางคณิตศาสตร์ซึ่งสามารถใช้กับ NumPy array ได้"
      ],
      "cell_type": "markdown"
    },
    {
      "metadata": {
        "id": "-fOsMiBxgFf9",
        "colab_type": "code",
        "colab": {
          "autoexec": {
            "startup": false,
            "wait_interval": 0
          },
          "output_extras": [
            {
              "item_id": 1
            }
          ],
          "base_uri": "https://localhost:8080/",
          "height": 477
        },
        "outputId": "c717f610-f455-4d37-f349-7d4417079297",
        "executionInfo": {
          "status": "ok",
          "timestamp": 1510629130244,
          "user_tz": -420,
          "elapsed": 919,
          "user": {
            "displayName": "Sirakorn Lamyai",
            "photoUrl": "//lh4.googleusercontent.com/-wZrHO4ylioI/AAAAAAAAAAI/AAAAAAAAiTI/MHjf1ZzXuz0/s50-c-k-no/photo.jpg",
            "userId": "112598566285839351739"
          }
        }
      },
      "source": [
        "sin_values = numpy.sin(numpy.arange(0, 4*math.pi, 0.5))\n",
        "for i in sin_values:\n",
        "  print(' '*(int(round(i*10))+10)+'*')"
      ],
      "cell_type": "code",
      "execution_count": 43,
      "outputs": [
        {
          "output_type": "stream",
          "text": [
            "          *\n",
            "               *\n",
            "                  *\n",
            "                    *\n",
            "                   *\n",
            "                *\n",
            "           *\n",
            "      *\n",
            "  *\n",
            "*\n",
            "*\n",
            "   *\n",
            "       *\n",
            "            *\n",
            "                 *\n",
            "                   *\n",
            "                    *\n",
            "                  *\n",
            "              *\n",
            "         *\n",
            "     *\n",
            " *\n",
            "*\n",
            " *\n",
            "     *\n",
            "         *\n"
          ],
          "name": "stdout"
        }
      ]
    },
    {
      "metadata": {
        "id": "3tm-LIYQiCMT",
        "colab_type": "text"
      },
      "source": [
        "## ฟังก์ชั่นทางเมทริกซ์\n",
        "\n",
        "เราทราบดีว่าเราสามารถสร้าง NumPy array แทนเมทริกซ์ได้"
      ],
      "cell_type": "markdown"
    },
    {
      "metadata": {
        "id": "ll9yYtdiiDov",
        "colab_type": "code",
        "colab": {
          "autoexec": {
            "startup": false,
            "wait_interval": 0
          }
        }
      },
      "source": [
        "# สร้างเมทริกซ์เลขสุ่มของ [0, 1) ขนาด 4*4, คูณด้วย 10 แล้วแปลงเป็น int ทั้งหมด\n",
        "\n",
        "matrix_a = (numpy.random.rand(4,4)*10).astype(int)\n",
        "matrix_b = (numpy.random.rand(4,4)*10).astype(int)"
      ],
      "cell_type": "code",
      "execution_count": 0,
      "outputs": []
    },
    {
      "metadata": {
        "id": "CfCOL75piobm",
        "colab_type": "code",
        "colab": {
          "autoexec": {
            "startup": false,
            "wait_interval": 0
          },
          "output_extras": [
            {
              "item_id": 1
            }
          ],
          "base_uri": "https://localhost:8080/",
          "height": 88
        },
        "outputId": "d1ff9552-bda2-4e50-9d71-706c9cdf7296",
        "executionInfo": {
          "status": "ok",
          "timestamp": 1510629691703,
          "user_tz": -420,
          "elapsed": 966,
          "user": {
            "displayName": "Sirakorn Lamyai",
            "photoUrl": "//lh4.googleusercontent.com/-wZrHO4ylioI/AAAAAAAAAAI/AAAAAAAAiTI/MHjf1ZzXuz0/s50-c-k-no/photo.jpg",
            "userId": "112598566285839351739"
          }
        }
      },
      "source": [
        "matrix_a"
      ],
      "cell_type": "code",
      "execution_count": 62,
      "outputs": [
        {
          "output_type": "execute_result",
          "data": {
            "text/plain": [
              "array([[3, 4, 9, 1],\n",
              "       [4, 4, 6, 0],\n",
              "       [3, 8, 2, 8],\n",
              "       [4, 1, 5, 2]])"
            ]
          },
          "metadata": {
            "tags": []
          },
          "execution_count": 62
        }
      ]
    },
    {
      "metadata": {
        "id": "eu9ueaUgipWO",
        "colab_type": "code",
        "colab": {
          "autoexec": {
            "startup": false,
            "wait_interval": 0
          },
          "output_extras": [
            {
              "item_id": 1
            }
          ],
          "base_uri": "https://localhost:8080/",
          "height": 88
        },
        "outputId": "0bc4638e-bf4d-42e1-e6ec-2b1017958bdf",
        "executionInfo": {
          "status": "ok",
          "timestamp": 1510629693346,
          "user_tz": -420,
          "elapsed": 987,
          "user": {
            "displayName": "Sirakorn Lamyai",
            "photoUrl": "//lh4.googleusercontent.com/-wZrHO4ylioI/AAAAAAAAAAI/AAAAAAAAiTI/MHjf1ZzXuz0/s50-c-k-no/photo.jpg",
            "userId": "112598566285839351739"
          }
        }
      },
      "source": [
        "matrix_b"
      ],
      "cell_type": "code",
      "execution_count": 63,
      "outputs": [
        {
          "output_type": "execute_result",
          "data": {
            "text/plain": [
              "array([[7, 1, 5, 5],\n",
              "       [5, 1, 6, 8],\n",
              "       [4, 4, 9, 4],\n",
              "       [5, 5, 1, 4]])"
            ]
          },
          "metadata": {
            "tags": []
          },
          "execution_count": 63
        }
      ]
    },
    {
      "metadata": {
        "id": "2gywzdmOjLPs",
        "colab_type": "text"
      },
      "source": [
        "เราสามารถเปลี่ยนขนาดของ NumPy array ได้ด้วยคำสั่ง `reshape()`"
      ],
      "cell_type": "markdown"
    },
    {
      "metadata": {
        "id": "oCKGEIcLjQte",
        "colab_type": "code",
        "colab": {
          "autoexec": {
            "startup": false,
            "wait_interval": 0
          },
          "output_extras": [
            {
              "item_id": 1
            }
          ],
          "base_uri": "https://localhost:8080/",
          "height": 158
        },
        "outputId": "dd091f11-2845-474a-ba82-0341850ac227",
        "executionInfo": {
          "status": "ok",
          "timestamp": 1510629779800,
          "user_tz": -420,
          "elapsed": 913,
          "user": {
            "displayName": "Sirakorn Lamyai",
            "photoUrl": "//lh4.googleusercontent.com/-wZrHO4ylioI/AAAAAAAAAAI/AAAAAAAAiTI/MHjf1ZzXuz0/s50-c-k-no/photo.jpg",
            "userId": "112598566285839351739"
          }
        }
      },
      "source": [
        "matrix_a.reshape(8, 2)"
      ],
      "cell_type": "code",
      "execution_count": 64,
      "outputs": [
        {
          "output_type": "execute_result",
          "data": {
            "text/plain": [
              "array([[3, 4],\n",
              "       [9, 1],\n",
              "       [4, 4],\n",
              "       [6, 0],\n",
              "       [3, 8],\n",
              "       [2, 8],\n",
              "       [4, 1],\n",
              "       [5, 2]])"
            ]
          },
          "metadata": {
            "tags": []
          },
          "execution_count": 64
        }
      ]
    },
    {
      "metadata": {
        "id": "M3lM57z-jUNx",
        "colab_type": "text"
      },
      "source": [
        "และหาทรานส์โพสของ NumPy array ได้ด้วยพารามิเตอร์ `T`"
      ],
      "cell_type": "markdown"
    },
    {
      "metadata": {
        "id": "5Wd84FvMjZn-",
        "colab_type": "code",
        "colab": {
          "autoexec": {
            "startup": false,
            "wait_interval": 0
          },
          "output_extras": [
            {
              "item_id": 1
            }
          ],
          "base_uri": "https://localhost:8080/",
          "height": 88
        },
        "outputId": "96e542c1-400c-4ef0-f169-4985f03e2471",
        "executionInfo": {
          "status": "ok",
          "timestamp": 1510629814320,
          "user_tz": -420,
          "elapsed": 1460,
          "user": {
            "displayName": "Sirakorn Lamyai",
            "photoUrl": "//lh4.googleusercontent.com/-wZrHO4ylioI/AAAAAAAAAAI/AAAAAAAAiTI/MHjf1ZzXuz0/s50-c-k-no/photo.jpg",
            "userId": "112598566285839351739"
          }
        }
      },
      "source": [
        "matrix_a.T"
      ],
      "cell_type": "code",
      "execution_count": 65,
      "outputs": [
        {
          "output_type": "execute_result",
          "data": {
            "text/plain": [
              "array([[3, 4, 3, 4],\n",
              "       [4, 4, 8, 1],\n",
              "       [9, 6, 2, 5],\n",
              "       [1, 0, 8, 2]])"
            ]
          },
          "metadata": {
            "tags": []
          },
          "execution_count": 65
        }
      ]
    },
    {
      "metadata": {
        "id": "Lb-MAG8XkDJV",
        "colab_type": "text"
      },
      "source": [
        "### การคูณเมทริกซ์\n",
        "\n",
        "หากเราจับ `matrix_a * matrix_b` ตรงๆ เราจะได้ผลลัพธ์ของ A\\*B เป็นการคูณเรียงตัว ($(A*B)_{ij} = A_{ij} \\times B_{ij}$)"
      ],
      "cell_type": "markdown"
    },
    {
      "metadata": {
        "id": "zBhx2PM9kZQ4",
        "colab_type": "code",
        "colab": {
          "autoexec": {
            "startup": false,
            "wait_interval": 0
          },
          "output_extras": [
            {
              "item_id": 1
            }
          ],
          "base_uri": "https://localhost:8080/",
          "height": 88
        },
        "outputId": "c38d4207-50ca-4705-f3ab-7e0f07fef9ad",
        "executionInfo": {
          "status": "ok",
          "timestamp": 1510630076013,
          "user_tz": -420,
          "elapsed": 1163,
          "user": {
            "displayName": "Sirakorn Lamyai",
            "photoUrl": "//lh4.googleusercontent.com/-wZrHO4ylioI/AAAAAAAAAAI/AAAAAAAAiTI/MHjf1ZzXuz0/s50-c-k-no/photo.jpg",
            "userId": "112598566285839351739"
          }
        }
      },
      "source": [
        "matrix_a * matrix_b"
      ],
      "cell_type": "code",
      "execution_count": 66,
      "outputs": [
        {
          "output_type": "execute_result",
          "data": {
            "text/plain": [
              "array([[21,  4, 45,  5],\n",
              "       [20,  4, 36,  0],\n",
              "       [12, 32, 18, 32],\n",
              "       [20,  5,  5,  8]])"
            ]
          },
          "metadata": {
            "tags": []
          },
          "execution_count": 66
        }
      ]
    },
    {
      "metadata": {
        "id": "rPE_UrcEkcIb",
        "colab_type": "text"
      },
      "source": [
        "หากต้องการคูณเมทริกซ์ ให้ใช้คำสั่ง `numpy.dot()`"
      ],
      "cell_type": "markdown"
    },
    {
      "metadata": {
        "id": "31Z7WvPeke9f",
        "colab_type": "code",
        "colab": {
          "autoexec": {
            "startup": false,
            "wait_interval": 0
          },
          "output_extras": [
            {
              "item_id": 1
            }
          ],
          "base_uri": "https://localhost:8080/",
          "height": 88
        },
        "outputId": "3c30926b-6a72-4fb8-9cc0-715f99b42bd4",
        "executionInfo": {
          "status": "ok",
          "timestamp": 1510630099270,
          "user_tz": -420,
          "elapsed": 850,
          "user": {
            "displayName": "Sirakorn Lamyai",
            "photoUrl": "//lh4.googleusercontent.com/-wZrHO4ylioI/AAAAAAAAAAI/AAAAAAAAiTI/MHjf1ZzXuz0/s50-c-k-no/photo.jpg",
            "userId": "112598566285839351739"
          }
        }
      },
      "source": [
        "numpy.dot(matrix_a, matrix_b)"
      ],
      "cell_type": "code",
      "execution_count": 67,
      "outputs": [
        {
          "output_type": "execute_result",
          "data": {
            "text/plain": [
              "array([[ 82,  48, 121,  87],\n",
              "       [ 72,  32,  98,  76],\n",
              "       [109,  59,  89, 119],\n",
              "       [ 63,  35,  73,  56]])"
            ]
          },
          "metadata": {
            "tags": []
          },
          "execution_count": 67
        }
      ]
    },
    {
      "metadata": {
        "id": "POEHfhWSk1d-",
        "colab_type": "text"
      },
      "source": [
        "ในขณะเดียวกันก็มีคำสั่ง `numpy.cross()` สำหรับครอสเวกเตอร์เช่นกัน (ใม่ใช่ matrix แล้ว)"
      ],
      "cell_type": "markdown"
    },
    {
      "metadata": {
        "id": "PVdZS-gZkwkU",
        "colab_type": "code",
        "colab": {
          "autoexec": {
            "startup": false,
            "wait_interval": 0
          },
          "output_extras": [
            {
              "item_id": 1
            }
          ],
          "base_uri": "https://localhost:8080/",
          "height": 35
        },
        "outputId": "799f795b-4abe-4dd7-f337-11a8cb77d4b3",
        "executionInfo": {
          "status": "ok",
          "timestamp": 1510630209640,
          "user_tz": -420,
          "elapsed": 893,
          "user": {
            "displayName": "Sirakorn Lamyai",
            "photoUrl": "//lh4.googleusercontent.com/-wZrHO4ylioI/AAAAAAAAAAI/AAAAAAAAiTI/MHjf1ZzXuz0/s50-c-k-no/photo.jpg",
            "userId": "112598566285839351739"
          }
        }
      },
      "source": [
        "numpy.cross(vec_u, vec_v)\n",
        "# ถ้าจำไม่ได้ว่า vec_u, vec_v มาจากไหน ให้ขึ้นไปบนสุด"
      ],
      "cell_type": "code",
      "execution_count": 69,
      "outputs": [
        {
          "output_type": "execute_result",
          "data": {
            "text/plain": [
              "array([-1,  2, -1])"
            ]
          },
          "metadata": {
            "tags": []
          },
          "execution_count": 69
        }
      ]
    },
    {
      "metadata": {
        "id": "h9iihxO6lGMh",
        "colab_type": "text"
      },
      "source": [
        "### ดีเทอร์มิแนนท์ และอินเวิร์ส"
      ],
      "cell_type": "markdown"
    },
    {
      "metadata": {
        "id": "GbtMcettlfl2",
        "colab_type": "text"
      },
      "source": [
        "ไลบรารี NumPy มีไลบรารีย่อย `numpy.linalg` สำหรับจัดการ linear algebra เป็นพิเศษ คำสั่งทางเมทริกซ์หลายคำสั่งอยู่ในไลบรารีย่อยนี้\n",
        "\n",
        "สามารถหาดีเทอร์มิแนนท์ได้ด้วยคำสั่ง `numpy.linalg.det()` และหาอินเวิร์สได้ด้วยคำสั่ง `numpy.linalg.inv()`"
      ],
      "cell_type": "markdown"
    },
    {
      "metadata": {
        "id": "tZAmFgVzlboX",
        "colab_type": "code",
        "colab": {
          "autoexec": {
            "startup": false,
            "wait_interval": 0
          },
          "output_extras": [
            {
              "item_id": 1
            }
          ],
          "base_uri": "https://localhost:8080/",
          "height": 35
        },
        "outputId": "f29a7cbf-d9a3-4812-c710-a001af6aa299",
        "executionInfo": {
          "status": "ok",
          "timestamp": 1510630353235,
          "user_tz": -420,
          "elapsed": 885,
          "user": {
            "displayName": "Sirakorn Lamyai",
            "photoUrl": "//lh4.googleusercontent.com/-wZrHO4ylioI/AAAAAAAAAAI/AAAAAAAAiTI/MHjf1ZzXuz0/s50-c-k-no/photo.jpg",
            "userId": "112598566285839351739"
          }
        }
      },
      "source": [
        "numpy.linalg.det(matrix_a)"
      ],
      "cell_type": "code",
      "execution_count": 70,
      "outputs": [
        {
          "output_type": "execute_result",
          "data": {
            "text/plain": [
              "649.99999999999989"
            ]
          },
          "metadata": {
            "tags": []
          },
          "execution_count": 70
        }
      ]
    },
    {
      "metadata": {
        "id": "c-6qNqlZlnNt",
        "colab_type": "code",
        "colab": {
          "autoexec": {
            "startup": false,
            "wait_interval": 0
          },
          "output_extras": [
            {
              "item_id": 1
            }
          ],
          "base_uri": "https://localhost:8080/",
          "height": 88
        },
        "outputId": "e0488b93-fa1f-47d2-b5f3-d17bda56045a",
        "executionInfo": {
          "status": "ok",
          "timestamp": 1510630397104,
          "user_tz": -420,
          "elapsed": 919,
          "user": {
            "displayName": "Sirakorn Lamyai",
            "photoUrl": "//lh4.googleusercontent.com/-wZrHO4ylioI/AAAAAAAAAAI/AAAAAAAAiTI/MHjf1ZzXuz0/s50-c-k-no/photo.jpg",
            "userId": "112598566285839351739"
          }
        }
      },
      "source": [
        "numpy.linalg.inv(matrix_a)"
      ],
      "cell_type": "code",
      "execution_count": 71,
      "outputs": [
        {
          "output_type": "execute_result",
          "data": {
            "text/plain": [
              "array([[-0.29538462,  0.27384615, -0.01538462,  0.20923077],\n",
              "       [-0.01846154,  0.20461538,  0.06153846, -0.23692308],\n",
              "       [ 0.20923077, -0.15230769, -0.03076923,  0.01846154],\n",
              "       [ 0.07692308, -0.26923077,  0.07692308,  0.15384615]])"
            ]
          },
          "metadata": {
            "tags": []
          },
          "execution_count": 71
        }
      ]
    },
    {
      "metadata": {
        "id": "CfWYQJbnlqGg",
        "colab_type": "code",
        "colab": {
          "autoexec": {
            "startup": false,
            "wait_interval": 0
          },
          "output_extras": [
            {
              "item_id": 1
            }
          ],
          "base_uri": "https://localhost:8080/",
          "height": 158
        },
        "outputId": "21c56fb9-6479-4f92-f688-eec69e477954",
        "executionInfo": {
          "status": "ok",
          "timestamp": 1510630417363,
          "user_tz": -420,
          "elapsed": 579,
          "user": {
            "displayName": "Sirakorn Lamyai",
            "photoUrl": "//lh4.googleusercontent.com/-wZrHO4ylioI/AAAAAAAAAAI/AAAAAAAAiTI/MHjf1ZzXuz0/s50-c-k-no/photo.jpg",
            "userId": "112598566285839351739"
          }
        }
      },
      "source": [
        "numpy.dot(matrix_a, numpy.linalg.inv(matrix_a))\n",
        "# สังเกตว่าค่ามีความใกล้เคียงเมทริกซ์เอกลักษณ์ ที่ไม่เป๊ะเพราะ floating point precision"
      ],
      "cell_type": "code",
      "execution_count": 72,
      "outputs": [
        {
          "output_type": "execute_result",
          "data": {
            "text/plain": [
              "array([[  1.00000000e+00,   1.11022302e-16,   0.00000000e+00,\n",
              "          5.55111512e-17],\n",
              "       [ -5.55111512e-17,   1.00000000e+00,   0.00000000e+00,\n",
              "          4.85722573e-17],\n",
              "       [ -1.11022302e-16,   0.00000000e+00,   1.00000000e+00,\n",
              "          0.00000000e+00],\n",
              "       [ -3.33066907e-16,   1.11022302e-16,   2.77555756e-17,\n",
              "          1.00000000e+00]])"
            ]
          },
          "metadata": {
            "tags": []
          },
          "execution_count": 72
        }
      ]
    }
  ]
}