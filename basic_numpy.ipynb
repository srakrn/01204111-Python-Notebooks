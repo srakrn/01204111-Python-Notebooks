{
  "nbformat": 4,
  "nbformat_minor": 0,
  "metadata": {
    "colab": {
      "name": "basic_numpy.ipynb",
      "version": "0.3.2",
      "views": {},
      "default_view": {},
      "provenance": []
    }
  },
  "cells": [
    {
      "metadata": {
        "id": "NutvBzo_VcpT",
        "colab_type": "text"
      },
      "source": [
        "# NumPy แบบเร่งรัด\n",
        "### @srakrn"
      ],
      "cell_type": "markdown"
    },
    {
      "metadata": {
        "id": "oQ0wod-gVhw-",
        "colab_type": "text"
      },
      "source": [
        "## รู้จัก NumPy\n",
        "\n",
        "NumPy เป็นไลบรารี่สำหรับการทำงานทางคณิตศาสตร์ที่ทรงพลัง หนึ่งในตัวอย่างที่ผู้เขียนมักหยิบมาเพื่อยกตัวอย่างความสามารถของ NumPy คือการดำเนินการทางเวกเตอร์ของ NumPy\n",
        "\n",
        "หากเรามีเวกเตอร์ $\\vec{u}=2\\hat{i}+3\\hat{j}+4\\hat{k}$ และ $\\vec{v}=3\\hat{i}+4\\hat{j}+5\\hat{k}$ เราอาจเขียนแทนค่าของ $\\vec{u}$ และ $\\vec{v}$ ได้ด้วย Tuple ดังนี้"
      ],
      "cell_type": "markdown"
    },
    {
      "metadata": {
        "id": "SEGIIsVlWJcW",
        "colab_type": "code",
        "colab": {
          "autoexec": {
            "startup": false,
            "wait_interval": 0
          }
        }
      },
      "source": [
        "vec_u_tuple = (2, 3, 4)\n",
        "vec_v_tuple = (3, 4, 5)"
      ],
      "cell_type": "code",
      "execution_count": 0,
      "outputs": []
    },
    {
      "metadata": {
        "id": "NKe1pZlJWO2V",
        "colab_type": "text"
      },
      "source": [
        "หากเราต้องการหาค่าของ $\\vec{u}+\\vec{v}$ เราจะพบว่าเมื่อเรานำตัวแปรทั้งสองตัวมาบวกกัน..."
      ],
      "cell_type": "markdown"
    },
    {
      "metadata": {
        "id": "0l15DZEYWWYI",
        "colab_type": "code",
        "colab": {
          "autoexec": {
            "startup": false,
            "wait_interval": 0
          },
          "output_extras": [
            {
              "item_id": 1
            }
          ],
          "base_uri": "https://localhost:8080/",
          "height": 35
        },
        "outputId": "6b0e3cce-555a-411a-f7fa-0372dee3963a",
        "executionInfo": {
          "status": "ok",
          "timestamp": 1510630532206,
          "user_tz": -420,
          "elapsed": 865,
          "user": {
            "displayName": "Sirakorn Lamyai",
            "photoUrl": "//lh4.googleusercontent.com/-wZrHO4ylioI/AAAAAAAAAAI/AAAAAAAAiTI/MHjf1ZzXuz0/s50-c-k-no/photo.jpg",
            "userId": "112598566285839351739"
          }
        }
      },
      "source": [
        "vec_u_tuple + vec_v_tuple"
      ],
      "cell_type": "code",
      "execution_count": 2,
      "outputs": [
        {
          "output_type": "execute_result",
          "data": {
            "text/plain": [
              "(2, 3, 4, 3, 4, 5)"
            ]
          },
          "metadata": {
            "tags": []
          },
          "execution_count": 2
        }
      ]
    },
    {
      "metadata": {
        "id": "JvHWV8FqWZ-E",
        "colab_type": "text"
      },
      "source": [
        "จะกลายเป็นการทำ Tuple มาต่อกันแทน"
      ],
      "cell_type": "markdown"
    },
    {
      "metadata": {
        "id": "papRVyISWeIQ",
        "colab_type": "text"
      },
      "source": [
        "## การนำเข้าโมดูล NumPy\n",
        "\n",
        "การนำเข้าไลบรารี NumPy สามารถทำได้โดยใช้คำสั่ง"
      ],
      "cell_type": "markdown"
    },
    {
      "metadata": {
        "id": "LLKEvKybWkuc",
        "colab_type": "code",
        "colab": {
          "autoexec": {
            "startup": false,
            "wait_interval": 0
          }
        }
      },
      "source": [
        "import numpy\n",
        "# จะเห็นว่าใช้วิธีเดียวกับ import math เลย\n",
        "import math"
      ],
      "cell_type": "code",
      "execution_count": 0,
      "outputs": []
    },
    {
      "metadata": {
        "id": "pmh3SYArWo5Q",
        "colab_type": "text"
      },
      "source": [
        "ซึ่งจะทำให้ได้ชุดคำสั่งจากไลบรารี NumPy ตามที่ต้องการ"
      ],
      "cell_type": "markdown"
    },
    {
      "metadata": {
        "id": "hgm8MYEwWyeR",
        "colab_type": "text"
      },
      "source": [
        "## numpy.array"
      ],
      "cell_type": "markdown"
    },
    {
      "metadata": {
        "id": "Qv2ITBB0W2c7",
        "colab_type": "text"
      },
      "source": [
        "NumPy มาพร้อมชนิดข้อมูลหนึ่งตัวที่สำคัญนั่นคือ `numpy.array` เราสามารถแปลงลิสต์ หรือทูเปิลใดๆ ไปเป็น NumPy array ได้ด้วยการใช้คำสั่ง `numpy.array()` ครอบ (เช่นเดียวกับการแปลง int/float)"
      ],
      "cell_type": "markdown"
    },
    {
      "metadata": {
        "id": "roOXxHOkXFXx",
        "colab_type": "code",
        "colab": {
          "autoexec": {
            "startup": false,
            "wait_interval": 0
          }
        }
      },
      "source": [
        "vec_u = numpy.array(vec_u_tuple)\n",
        "vec_v = numpy.array(vec_v_tuple)"
      ],
      "cell_type": "code",
      "execution_count": 0,
      "outputs": []
    },
    {
      "metadata": {
        "id": "lcpG3d4oXMYp",
        "colab_type": "text"
      },
      "source": [
        "### การดำเนินการทางคณิตศาสตร์ของ NumPy array\n",
        "\n",
        "เราจะพบว่าเมื่อเรานำ `vec_u` และ `vec_v` มาบวกกัน"
      ],
      "cell_type": "markdown"
    },
    {
      "metadata": {
        "id": "s3BV-qjwXQuL",
        "colab_type": "code",
        "colab": {
          "autoexec": {
            "startup": false,
            "wait_interval": 0
          },
          "output_extras": [
            {
              "item_id": 1
            }
          ],
          "base_uri": "https://localhost:8080/",
          "height": 35
        },
        "outputId": "7d8f1589-9d3c-4473-ea94-2125a6c00b60",
        "executionInfo": {
          "status": "ok",
          "timestamp": 1510630535687,
          "user_tz": -420,
          "elapsed": 922,
          "user": {
            "displayName": "Sirakorn Lamyai",
            "photoUrl": "//lh4.googleusercontent.com/-wZrHO4ylioI/AAAAAAAAAAI/AAAAAAAAiTI/MHjf1ZzXuz0/s50-c-k-no/photo.jpg",
            "userId": "112598566285839351739"
          }
        }
      },
      "source": [
        "vec_u + vec_v"
      ],
      "cell_type": "code",
      "execution_count": 5,
      "outputs": [
        {
          "output_type": "execute_result",
          "data": {
            "text/plain": [
              "array([5, 7, 9])"
            ]
          },
          "metadata": {
            "tags": []
          },
          "execution_count": 5
        }
      ]
    },
    {
      "metadata": {
        "id": "IyXZJwBtXTgv",
        "colab_type": "text"
      },
      "source": [
        "จะได้ค่าของ $\\vec{u}+\\vec{v}$ ตามที่ต้องการ นั่นหมายถึงว่าชนิดข้อมูล `numpy.array` ถูกออกแบบโดยเน้นการใช้งานทางคณิตศาสตร์เป็นหลัก\n",
        "\n",
        "ในขณะเดียวกัน เราสามารถใช้ตัวดำเนินการ + - * / กับ `numpy.array` ได้ด้วย ซึ่งจะให้ผลเป็นการที่สมาชิกทุกตัวของ `numpy.array` ถูกกระทำ"
      ],
      "cell_type": "markdown"
    },
    {
      "metadata": {
        "id": "wKaCxszjX0GC",
        "colab_type": "code",
        "colab": {
          "autoexec": {
            "startup": false,
            "wait_interval": 0
          },
          "output_extras": [
            {
              "item_id": 1
            }
          ],
          "base_uri": "https://localhost:8080/",
          "height": 35
        },
        "outputId": "ed2fa42b-e97a-450a-ec1c-75f307a9da20",
        "executionInfo": {
          "status": "ok",
          "timestamp": 1510630536645,
          "user_tz": -420,
          "elapsed": 772,
          "user": {
            "displayName": "Sirakorn Lamyai",
            "photoUrl": "//lh4.googleusercontent.com/-wZrHO4ylioI/AAAAAAAAAAI/AAAAAAAAiTI/MHjf1ZzXuz0/s50-c-k-no/photo.jpg",
            "userId": "112598566285839351739"
          }
        }
      },
      "source": [
        "vec_u"
      ],
      "cell_type": "code",
      "execution_count": 6,
      "outputs": [
        {
          "output_type": "execute_result",
          "data": {
            "text/plain": [
              "array([2, 3, 4])"
            ]
          },
          "metadata": {
            "tags": []
          },
          "execution_count": 6
        }
      ]
    },
    {
      "metadata": {
        "id": "xveAoNDXYGVB",
        "colab_type": "code",
        "colab": {
          "autoexec": {
            "startup": false,
            "wait_interval": 0
          },
          "output_extras": [
            {
              "item_id": 1
            }
          ],
          "base_uri": "https://localhost:8080/",
          "height": 35
        },
        "outputId": "c6b36512-fa06-4b7a-d0ec-87125e0fb7a6",
        "executionInfo": {
          "status": "ok",
          "timestamp": 1510630537433,
          "user_tz": -420,
          "elapsed": 570,
          "user": {
            "displayName": "Sirakorn Lamyai",
            "photoUrl": "//lh4.googleusercontent.com/-wZrHO4ylioI/AAAAAAAAAAI/AAAAAAAAiTI/MHjf1ZzXuz0/s50-c-k-no/photo.jpg",
            "userId": "112598566285839351739"
          }
        }
      },
      "source": [
        "vec_u + 2"
      ],
      "cell_type": "code",
      "execution_count": 7,
      "outputs": [
        {
          "output_type": "execute_result",
          "data": {
            "text/plain": [
              "array([4, 5, 6])"
            ]
          },
          "metadata": {
            "tags": []
          },
          "execution_count": 7
        }
      ]
    },
    {
      "metadata": {
        "id": "bCtyMGMJYHXr",
        "colab_type": "code",
        "colab": {
          "autoexec": {
            "startup": false,
            "wait_interval": 0
          },
          "output_extras": [
            {
              "item_id": 1
            }
          ],
          "base_uri": "https://localhost:8080/",
          "height": 35
        },
        "outputId": "27a29c0a-61f1-4805-b9f2-18272ee59b43",
        "executionInfo": {
          "status": "ok",
          "timestamp": 1510630538370,
          "user_tz": -420,
          "elapsed": 733,
          "user": {
            "displayName": "Sirakorn Lamyai",
            "photoUrl": "//lh4.googleusercontent.com/-wZrHO4ylioI/AAAAAAAAAAI/AAAAAAAAiTI/MHjf1ZzXuz0/s50-c-k-no/photo.jpg",
            "userId": "112598566285839351739"
          }
        }
      },
      "source": [
        "vec_u * 3"
      ],
      "cell_type": "code",
      "execution_count": 8,
      "outputs": [
        {
          "output_type": "execute_result",
          "data": {
            "text/plain": [
              "array([ 6,  9, 12])"
            ]
          },
          "metadata": {
            "tags": []
          },
          "execution_count": 8
        }
      ]
    },
    {
      "metadata": {
        "id": "Z8j-iDwVYQUt",
        "colab_type": "text"
      },
      "source": [
        "### `numpy.arange()`\n",
        "\n",
        "เราสามารถใช้คำสั่ง `numpy.arange()` สร้าง NumPy array ที่จะให้ผลลัพธ์ลักษณะเดียวกับ `range()` ของไพธอนได้"
      ],
      "cell_type": "markdown"
    },
    {
      "metadata": {
        "id": "nXf7FpptYbDe",
        "colab_type": "code",
        "colab": {
          "autoexec": {
            "startup": false,
            "wait_interval": 0
          },
          "output_extras": [
            {
              "item_id": 1
            }
          ],
          "base_uri": "https://localhost:8080/",
          "height": 52
        },
        "outputId": "b287954a-da80-4c0a-8a38-bfa6b2af0583",
        "executionInfo": {
          "status": "ok",
          "timestamp": 1510630539506,
          "user_tz": -420,
          "elapsed": 975,
          "user": {
            "displayName": "Sirakorn Lamyai",
            "photoUrl": "//lh4.googleusercontent.com/-wZrHO4ylioI/AAAAAAAAAAI/AAAAAAAAiTI/MHjf1ZzXuz0/s50-c-k-no/photo.jpg",
            "userId": "112598566285839351739"
          }
        }
      },
      "source": [
        "# สร้าง range ของ [1, 5) โดยเพิ่มขึ้นทีละ 0.2\n",
        "numpy.arange(1, 5, 0.2)"
      ],
      "cell_type": "code",
      "execution_count": 9,
      "outputs": [
        {
          "output_type": "execute_result",
          "data": {
            "text/plain": [
              "array([ 1. ,  1.2,  1.4,  1.6,  1.8,  2. ,  2.2,  2.4,  2.6,  2.8,  3. ,\n",
              "        3.2,  3.4,  3.6,  3.8,  4. ,  4.2,  4.4,  4.6,  4.8])"
            ]
          },
          "metadata": {
            "tags": []
          },
          "execution_count": 9
        }
      ]
    },
    {
      "metadata": {
        "id": "xanRqXrgYMzF",
        "colab_type": "text"
      },
      "source": [
        "### array ขนาดหลายมิติ\n",
        "\n",
        "ในขณะเดียวกัน NumPy array ไม่ได้จำกัดอยู่เพียงแค่ขนาดหนึ่งมิติ เราสามารถขยาย array ออกไปเป็นสอง หรือสามมิติได้ ตัวอย่างด้านล่างคือ array ขนาดสองมิติ"
      ],
      "cell_type": "markdown"
    },
    {
      "metadata": {
        "id": "n-u40y-2Y0MA",
        "colab_type": "code",
        "colab": {
          "autoexec": {
            "startup": false,
            "wait_interval": 0
          },
          "output_extras": [
            {
              "item_id": 1
            }
          ],
          "base_uri": "https://localhost:8080/",
          "height": 70
        },
        "outputId": "159a455e-ba4c-406d-a3ea-b50a9bacb01a",
        "executionInfo": {
          "status": "ok",
          "timestamp": 1510630545068,
          "user_tz": -420,
          "elapsed": 4798,
          "user": {
            "displayName": "Sirakorn Lamyai",
            "photoUrl": "//lh4.googleusercontent.com/-wZrHO4ylioI/AAAAAAAAAAI/AAAAAAAAiTI/MHjf1ZzXuz0/s50-c-k-no/photo.jpg",
            "userId": "112598566285839351739"
          }
        }
      },
      "source": [
        "numpy.array([\n",
        "    [1, 2, 3],\n",
        "    [4, 5, 6],\n",
        "    [7, 8, 9]\n",
        "])"
      ],
      "cell_type": "code",
      "execution_count": 10,
      "outputs": [
        {
          "output_type": "execute_result",
          "data": {
            "text/plain": [
              "array([[1, 2, 3],\n",
              "       [4, 5, 6],\n",
              "       [7, 8, 9]])"
            ]
          },
          "metadata": {
            "tags": []
          },
          "execution_count": 10
        }
      ]
    },
    {
      "metadata": {
        "id": "OOVKmobbZLvn",
        "colab_type": "text"
      },
      "source": [
        "เราสามารถสร้าง array ขนาด n มิติของค่า 0 ได้ด้วยคำสั่ง `numpy.zeros()`"
      ],
      "cell_type": "markdown"
    },
    {
      "metadata": {
        "id": "x8k3-Hp_ZTkg",
        "colab_type": "code",
        "colab": {
          "autoexec": {
            "startup": false,
            "wait_interval": 0
          },
          "output_extras": [
            {
              "item_id": 1
            }
          ],
          "base_uri": "https://localhost:8080/",
          "height": 52
        },
        "outputId": "0dffa757-a580-4c51-f8ef-2ebefa8574da",
        "executionInfo": {
          "status": "ok",
          "timestamp": 1510630546348,
          "user_tz": -420,
          "elapsed": 999,
          "user": {
            "displayName": "Sirakorn Lamyai",
            "photoUrl": "//lh4.googleusercontent.com/-wZrHO4ylioI/AAAAAAAAAAI/AAAAAAAAiTI/MHjf1ZzXuz0/s50-c-k-no/photo.jpg",
            "userId": "112598566285839351739"
          }
        }
      },
      "source": [
        "# สร้าง NumPy array ขนาด 2*3 ที่มีแต่ค่า 0\n",
        "numpy.zeros([2, 3])"
      ],
      "cell_type": "code",
      "execution_count": 11,
      "outputs": [
        {
          "output_type": "execute_result",
          "data": {
            "text/plain": [
              "array([[ 0.,  0.,  0.],\n",
              "       [ 0.,  0.,  0.]])"
            ]
          },
          "metadata": {
            "tags": []
          },
          "execution_count": 11
        }
      ]
    },
    {
      "metadata": {
        "id": "dhT78xdVZeHk",
        "colab_type": "text"
      },
      "source": [
        "และสร้าง array ในรูปแบบเดียวกันของค่า 1 ได้ด้วยคำสั่ง `numpy.ones()`"
      ],
      "cell_type": "markdown"
    },
    {
      "metadata": {
        "id": "439AHKfkZjIU",
        "colab_type": "code",
        "colab": {
          "autoexec": {
            "startup": false,
            "wait_interval": 0
          },
          "output_extras": [
            {
              "item_id": 1
            }
          ],
          "base_uri": "https://localhost:8080/",
          "height": 88
        },
        "outputId": "fd72ed92-df90-40ea-dc06-846777e686db",
        "executionInfo": {
          "status": "ok",
          "timestamp": 1510630547330,
          "user_tz": -420,
          "elapsed": 806,
          "user": {
            "displayName": "Sirakorn Lamyai",
            "photoUrl": "//lh4.googleusercontent.com/-wZrHO4ylioI/AAAAAAAAAAI/AAAAAAAAiTI/MHjf1ZzXuz0/s50-c-k-no/photo.jpg",
            "userId": "112598566285839351739"
          }
        }
      },
      "source": [
        "# สร้าง NumPy array ขนาด 4*5 ที่มีแต่ค่า 1\n",
        "numpy.ones([4, 5])"
      ],
      "cell_type": "code",
      "execution_count": 12,
      "outputs": [
        {
          "output_type": "execute_result",
          "data": {
            "text/plain": [
              "array([[ 1.,  1.,  1.,  1.,  1.],\n",
              "       [ 1.,  1.,  1.,  1.,  1.],\n",
              "       [ 1.,  1.,  1.,  1.,  1.],\n",
              "       [ 1.,  1.,  1.,  1.,  1.]])"
            ]
          },
          "metadata": {
            "tags": []
          },
          "execution_count": 12
        }
      ]
    },
    {
      "metadata": {
        "id": "aaTvORyHZpK7",
        "colab_type": "text"
      },
      "source": [
        "ฟังก์ชั่นในการช่วยสร้าง NumPy array ยังมีอีกเยอะ เช่นฟังก์ชั่นด้านล่างนี้*เสก*เมทริกซ์เอกลักษณ์มาให้เราได้ทันที"
      ],
      "cell_type": "markdown"
    },
    {
      "metadata": {
        "id": "zPMObXBTZ3j4",
        "colab_type": "code",
        "colab": {
          "autoexec": {
            "startup": false,
            "wait_interval": 0
          },
          "output_extras": [
            {
              "item_id": 1
            }
          ],
          "base_uri": "https://localhost:8080/",
          "height": 88
        },
        "outputId": "7d0b89b9-835f-4505-ab4a-86217bf2f79b",
        "executionInfo": {
          "status": "ok",
          "timestamp": 1510630548384,
          "user_tz": -420,
          "elapsed": 760,
          "user": {
            "displayName": "Sirakorn Lamyai",
            "photoUrl": "//lh4.googleusercontent.com/-wZrHO4ylioI/AAAAAAAAAAI/AAAAAAAAiTI/MHjf1ZzXuz0/s50-c-k-no/photo.jpg",
            "userId": "112598566285839351739"
          }
        }
      },
      "source": [
        "numpy.identity(4)"
      ],
      "cell_type": "code",
      "execution_count": 13,
      "outputs": [
        {
          "output_type": "execute_result",
          "data": {
            "text/plain": [
              "array([[ 1.,  0.,  0.,  0.],\n",
              "       [ 0.,  1.,  0.,  0.],\n",
              "       [ 0.,  0.,  1.,  0.],\n",
              "       [ 0.,  0.,  0.,  1.]])"
            ]
          },
          "metadata": {
            "tags": []
          },
          "execution_count": 13
        }
      ]
    },
    {
      "metadata": {
        "id": "4rX-vTUNaCar",
        "colab_type": "text"
      },
      "source": [
        "### Slicing สำหรับ NumPy array"
      ],
      "cell_type": "markdown"
    },
    {
      "metadata": {
        "id": "BE2bMCBWaHVx",
        "colab_type": "text"
      },
      "source": [
        "กำหนด `array_a` เป็นอาร์เรย์ของค่าด้านล่าง"
      ],
      "cell_type": "markdown"
    },
    {
      "metadata": {
        "id": "mUrQFpD_aNjm",
        "colab_type": "code",
        "colab": {
          "autoexec": {
            "startup": false,
            "wait_interval": 0
          }
        }
      },
      "source": [
        "array_a = numpy.array([\n",
        "    [0.0, 0.1, 0.2, 0.3, 0.4],\n",
        "    [1.0, 1.1, 1.2, 1.3, 1.4],\n",
        "    [2.0, 2.1, 2.2, 2.3, 2.4],\n",
        "    [3.0, 3.1, 3.2, 3.3, 3.4],\n",
        "    [4.0, 4.1, 4.2, 4.3, 4.4]\n",
        "])\n",
        "\n",
        "# array_a = numpy.array([x+numpy.arange(0, 0.5, 0.1) for x in range(5)])"
      ],
      "cell_type": "code",
      "execution_count": 0,
      "outputs": []
    },
    {
      "metadata": {
        "id": "plINjewXacy1",
        "colab_type": "text"
      },
      "source": [
        "เราทราบดีอยู่แล้วว่าเราสามารถ slice ข้อมูลตามปกติในแบบไพธอนได้"
      ],
      "cell_type": "markdown"
    },
    {
      "metadata": {
        "id": "l2VTRLLwaktV",
        "colab_type": "code",
        "colab": {
          "autoexec": {
            "startup": false,
            "wait_interval": 0
          },
          "output_extras": [
            {
              "item_id": 1
            }
          ],
          "base_uri": "https://localhost:8080/",
          "height": 52
        },
        "outputId": "06b3ddcb-afb7-49b3-d9d2-dbab7c5fecd9",
        "executionInfo": {
          "status": "ok",
          "timestamp": 1510630550652,
          "user_tz": -420,
          "elapsed": 753,
          "user": {
            "displayName": "Sirakorn Lamyai",
            "photoUrl": "//lh4.googleusercontent.com/-wZrHO4ylioI/AAAAAAAAAAI/AAAAAAAAiTI/MHjf1ZzXuz0/s50-c-k-no/photo.jpg",
            "userId": "112598566285839351739"
          }
        }
      },
      "source": [
        "array_a[0:2]"
      ],
      "cell_type": "code",
      "execution_count": 15,
      "outputs": [
        {
          "output_type": "execute_result",
          "data": {
            "text/plain": [
              "array([[ 0. ,  0.1,  0.2,  0.3,  0.4],\n",
              "       [ 1. ,  1.1,  1.2,  1.3,  1.4]])"
            ]
          },
          "metadata": {
            "tags": []
          },
          "execution_count": 15
        }
      ]
    },
    {
      "metadata": {
        "id": "xomHJX6SapzC",
        "colab_type": "text"
      },
      "source": [
        "แต่หนึ่งในความสะดวกคือ เราสามารถ slice ข้อมูลในแนวตั้งได้ด้วย โดยใช้ `,` (comma) คั่น slicer"
      ],
      "cell_type": "markdown"
    },
    {
      "metadata": {
        "id": "Q_UaILfRavjJ",
        "colab_type": "code",
        "colab": {
          "autoexec": {
            "startup": false,
            "wait_interval": 0
          },
          "output_extras": [
            {
              "item_id": 1
            }
          ],
          "base_uri": "https://localhost:8080/",
          "height": 52
        },
        "outputId": "47ba29f3-a2c0-414c-95ef-b70ea4926929",
        "executionInfo": {
          "status": "ok",
          "timestamp": 1510630551761,
          "user_tz": -420,
          "elapsed": 749,
          "user": {
            "displayName": "Sirakorn Lamyai",
            "photoUrl": "//lh4.googleusercontent.com/-wZrHO4ylioI/AAAAAAAAAAI/AAAAAAAAiTI/MHjf1ZzXuz0/s50-c-k-no/photo.jpg",
            "userId": "112598566285839351739"
          }
        }
      },
      "source": [
        "array_a[0:2, 1:4]"
      ],
      "cell_type": "code",
      "execution_count": 16,
      "outputs": [
        {
          "output_type": "execute_result",
          "data": {
            "text/plain": [
              "array([[ 0.1,  0.2,  0.3],\n",
              "       [ 1.1,  1.2,  1.3]])"
            ]
          },
          "metadata": {
            "tags": []
          },
          "execution_count": 16
        }
      ]
    },
    {
      "metadata": {
        "id": "A-QjxmT3dsc0",
        "colab_type": "text"
      },
      "source": [
        "ดังนั้น เมื่อ slicer ของเรารองรับการ slice หลายมิติ เราอาจใช้ syntax การ slice ที่เหมือนมาจากภาษาอื่นมากกว่าไพธอนก็ได้ (ใช้ลักษณะนี้กับ list ไม่ได้)\n",
        "\n",
        "(โค้ดด้านล่างจะมีปัญหาเรื่อง [floating point precision](https://th.wikipedia.org/wiki/%E0%B8%88%E0%B8%B3%E0%B8%99%E0%B8%A7%E0%B8%99%E0%B8%88%E0%B8%B8%E0%B8%94%E0%B8%A5%E0%B8%AD%E0%B8%A2%E0%B8%95%E0%B8%B1%E0%B8%A7))"
      ],
      "cell_type": "markdown"
    },
    {
      "metadata": {
        "id": "V-eUAzRmd3Ki",
        "colab_type": "code",
        "colab": {
          "autoexec": {
            "startup": false,
            "wait_interval": 0
          },
          "output_extras": [
            {
              "item_id": 1
            }
          ],
          "base_uri": "https://localhost:8080/",
          "height": 35
        },
        "outputId": "5422cbe0-dd92-4b9a-feac-0a360a0198fb",
        "executionInfo": {
          "status": "ok",
          "timestamp": 1510630552729,
          "user_tz": -420,
          "elapsed": 736,
          "user": {
            "displayName": "Sirakorn Lamyai",
            "photoUrl": "//lh4.googleusercontent.com/-wZrHO4ylioI/AAAAAAAAAAI/AAAAAAAAiTI/MHjf1ZzXuz0/s50-c-k-no/photo.jpg",
            "userId": "112598566285839351739"
          }
        }
      },
      "source": [
        "array_a[3, 4]"
      ],
      "cell_type": "code",
      "execution_count": 17,
      "outputs": [
        {
          "output_type": "execute_result",
          "data": {
            "text/plain": [
              "3.3999999999999999"
            ]
          },
          "metadata": {
            "tags": []
          },
          "execution_count": 17
        }
      ]
    },
    {
      "metadata": {
        "id": "pdG4M6B7hEFI",
        "colab_type": "text"
      },
      "source": [
        "นอกจากนั้น เราสามารถยุบ NumPy array หลายมิติให้สามารถ iterate วนในอาร์เรย์ได้ ด้วย property `flat` หรือเมธอด `ravel()`"
      ],
      "cell_type": "markdown"
    },
    {
      "metadata": {
        "id": "xQ4dM03vhDcG",
        "colab_type": "code",
        "colab": {
          "autoexec": {
            "startup": false,
            "wait_interval": 0
          },
          "output_extras": [
            {
              "item_id": 1
            }
          ],
          "base_uri": "https://localhost:8080/",
          "height": 459
        },
        "outputId": "a31be5a0-1346-4007-c7c5-90441da6ca2f",
        "executionInfo": {
          "status": "ok",
          "timestamp": 1510630553710,
          "user_tz": -420,
          "elapsed": 742,
          "user": {
            "displayName": "Sirakorn Lamyai",
            "photoUrl": "//lh4.googleusercontent.com/-wZrHO4ylioI/AAAAAAAAAAI/AAAAAAAAiTI/MHjf1ZzXuz0/s50-c-k-no/photo.jpg",
            "userId": "112598566285839351739"
          }
        }
      },
      "source": [
        "for i in array_a.flat:\n",
        "  print(i)"
      ],
      "cell_type": "code",
      "execution_count": 18,
      "outputs": [
        {
          "output_type": "stream",
          "text": [
            "0.0\n",
            "0.1\n",
            "0.2\n",
            "0.3\n",
            "0.4\n",
            "1.0\n",
            "1.1\n",
            "1.2\n",
            "1.3\n",
            "1.4\n",
            "2.0\n",
            "2.1\n",
            "2.2\n",
            "2.3\n",
            "2.4\n",
            "3.0\n",
            "3.1\n",
            "3.2\n",
            "3.3\n",
            "3.4\n",
            "4.0\n",
            "4.1\n",
            "4.2\n",
            "4.3\n",
            "4.4\n"
          ],
          "name": "stdout"
        }
      ]
    },
    {
      "metadata": {
        "id": "nYvzo9WJhffO",
        "colab_type": "code",
        "colab": {
          "autoexec": {
            "startup": false,
            "wait_interval": 0
          },
          "output_extras": [
            {
              "item_id": 1
            }
          ],
          "base_uri": "https://localhost:8080/",
          "height": 70
        },
        "outputId": "bc1c7187-aff0-4b78-817a-802588f1be05",
        "executionInfo": {
          "status": "ok",
          "timestamp": 1510630554703,
          "user_tz": -420,
          "elapsed": 796,
          "user": {
            "displayName": "Sirakorn Lamyai",
            "photoUrl": "//lh4.googleusercontent.com/-wZrHO4ylioI/AAAAAAAAAAI/AAAAAAAAiTI/MHjf1ZzXuz0/s50-c-k-no/photo.jpg",
            "userId": "112598566285839351739"
          }
        }
      },
      "source": [
        "array_a.ravel()"
      ],
      "cell_type": "code",
      "execution_count": 19,
      "outputs": [
        {
          "output_type": "execute_result",
          "data": {
            "text/plain": [
              "array([ 0. ,  0.1,  0.2,  0.3,  0.4,  1. ,  1.1,  1.2,  1.3,  1.4,  2. ,\n",
              "        2.1,  2.2,  2.3,  2.4,  3. ,  3.1,  3.2,  3.3,  3.4,  4. ,  4.1,\n",
              "        4.2,  4.3,  4.4])"
            ]
          },
          "metadata": {
            "tags": []
          },
          "execution_count": 19
        }
      ]
    },
    {
      "metadata": {
        "id": "g1m7k4zHeZRX",
        "colab_type": "text"
      },
      "source": [
        "## ฟังก์ชั่นทางคณิตศาสตร์ของ NumPy\n",
        "\n",
        "NumPy มาพร้อมฟังก์ชั่นทางคณิตศาสตร์ซึ่งสามารถใช้กับ NumPy array ได้"
      ],
      "cell_type": "markdown"
    },
    {
      "metadata": {
        "id": "-fOsMiBxgFf9",
        "colab_type": "code",
        "colab": {
          "autoexec": {
            "startup": false,
            "wait_interval": 0
          },
          "output_extras": [
            {
              "item_id": 1
            }
          ],
          "base_uri": "https://localhost:8080/",
          "height": 477
        },
        "outputId": "02c45b55-03a4-4322-deeb-c38bf2a0e552",
        "executionInfo": {
          "status": "ok",
          "timestamp": 1510630555886,
          "user_tz": -420,
          "elapsed": 776,
          "user": {
            "displayName": "Sirakorn Lamyai",
            "photoUrl": "//lh4.googleusercontent.com/-wZrHO4ylioI/AAAAAAAAAAI/AAAAAAAAiTI/MHjf1ZzXuz0/s50-c-k-no/photo.jpg",
            "userId": "112598566285839351739"
          }
        }
      },
      "source": [
        "sin_values = numpy.sin(numpy.arange(0, 4*math.pi, 0.5))\n",
        "for i in sin_values:\n",
        "  print(' '*(int(round(i*10))+10)+'*')"
      ],
      "cell_type": "code",
      "execution_count": 20,
      "outputs": [
        {
          "output_type": "stream",
          "text": [
            "          *\n",
            "               *\n",
            "                  *\n",
            "                    *\n",
            "                   *\n",
            "                *\n",
            "           *\n",
            "      *\n",
            "  *\n",
            "*\n",
            "*\n",
            "   *\n",
            "       *\n",
            "            *\n",
            "                 *\n",
            "                   *\n",
            "                    *\n",
            "                  *\n",
            "              *\n",
            "         *\n",
            "     *\n",
            " *\n",
            "*\n",
            " *\n",
            "     *\n",
            "         *\n"
          ],
          "name": "stdout"
        }
      ]
    },
    {
      "metadata": {
        "id": "3tm-LIYQiCMT",
        "colab_type": "text"
      },
      "source": [
        "## ฟังก์ชั่นทางเมทริกซ์\n",
        "\n",
        "เราทราบดีว่าเราสามารถสร้าง NumPy array แทนเมทริกซ์ได้"
      ],
      "cell_type": "markdown"
    },
    {
      "metadata": {
        "id": "ll9yYtdiiDov",
        "colab_type": "code",
        "colab": {
          "autoexec": {
            "startup": false,
            "wait_interval": 0
          }
        }
      },
      "source": [
        "# สร้างเมทริกซ์เลขสุ่มของ [0, 1) ขนาด 4*4, คูณด้วย 10 แล้วแปลงเป็น int ทั้งหมด\n",
        "\n",
        "matrix_a = (numpy.random.rand(4,4)*10).astype(int)\n",
        "matrix_b = (numpy.random.rand(4,4)*10).astype(int)"
      ],
      "cell_type": "code",
      "execution_count": 0,
      "outputs": []
    },
    {
      "metadata": {
        "id": "CfCOL75piobm",
        "colab_type": "code",
        "colab": {
          "autoexec": {
            "startup": false,
            "wait_interval": 0
          },
          "output_extras": [
            {
              "item_id": 1
            }
          ],
          "base_uri": "https://localhost:8080/",
          "height": 88
        },
        "outputId": "11082ff5-3306-43c1-8660-4d07409e3a53",
        "executionInfo": {
          "status": "ok",
          "timestamp": 1510630558831,
          "user_tz": -420,
          "elapsed": 806,
          "user": {
            "displayName": "Sirakorn Lamyai",
            "photoUrl": "//lh4.googleusercontent.com/-wZrHO4ylioI/AAAAAAAAAAI/AAAAAAAAiTI/MHjf1ZzXuz0/s50-c-k-no/photo.jpg",
            "userId": "112598566285839351739"
          }
        }
      },
      "source": [
        "matrix_a"
      ],
      "cell_type": "code",
      "execution_count": 22,
      "outputs": [
        {
          "output_type": "execute_result",
          "data": {
            "text/plain": [
              "array([[5, 6, 2, 1],\n",
              "       [9, 3, 1, 6],\n",
              "       [1, 9, 2, 5],\n",
              "       [5, 7, 9, 8]])"
            ]
          },
          "metadata": {
            "tags": []
          },
          "execution_count": 22
        }
      ]
    },
    {
      "metadata": {
        "id": "eu9ueaUgipWO",
        "colab_type": "code",
        "colab": {
          "autoexec": {
            "startup": false,
            "wait_interval": 0
          },
          "output_extras": [
            {
              "item_id": 1
            }
          ],
          "base_uri": "https://localhost:8080/",
          "height": 88
        },
        "outputId": "a15c5138-8681-42f9-91fc-a4b45304da89",
        "executionInfo": {
          "status": "ok",
          "timestamp": 1510630559758,
          "user_tz": -420,
          "elapsed": 667,
          "user": {
            "displayName": "Sirakorn Lamyai",
            "photoUrl": "//lh4.googleusercontent.com/-wZrHO4ylioI/AAAAAAAAAAI/AAAAAAAAiTI/MHjf1ZzXuz0/s50-c-k-no/photo.jpg",
            "userId": "112598566285839351739"
          }
        }
      },
      "source": [
        "matrix_b"
      ],
      "cell_type": "code",
      "execution_count": 23,
      "outputs": [
        {
          "output_type": "execute_result",
          "data": {
            "text/plain": [
              "array([[3, 2, 9, 7],\n",
              "       [6, 1, 7, 9],\n",
              "       [9, 2, 9, 3],\n",
              "       [3, 5, 2, 6]])"
            ]
          },
          "metadata": {
            "tags": []
          },
          "execution_count": 23
        }
      ]
    },
    {
      "metadata": {
        "id": "2gywzdmOjLPs",
        "colab_type": "text"
      },
      "source": [
        "เราสามารถเปลี่ยนขนาดของ NumPy array ได้ด้วยคำสั่ง `reshape()`"
      ],
      "cell_type": "markdown"
    },
    {
      "metadata": {
        "id": "oCKGEIcLjQte",
        "colab_type": "code",
        "colab": {
          "autoexec": {
            "startup": false,
            "wait_interval": 0
          },
          "output_extras": [
            {
              "item_id": 1
            }
          ],
          "base_uri": "https://localhost:8080/",
          "height": 158
        },
        "outputId": "8c2ed983-9edd-49c7-920c-3c3d0f8945f4",
        "executionInfo": {
          "status": "ok",
          "timestamp": 1510630560696,
          "user_tz": -420,
          "elapsed": 755,
          "user": {
            "displayName": "Sirakorn Lamyai",
            "photoUrl": "//lh4.googleusercontent.com/-wZrHO4ylioI/AAAAAAAAAAI/AAAAAAAAiTI/MHjf1ZzXuz0/s50-c-k-no/photo.jpg",
            "userId": "112598566285839351739"
          }
        }
      },
      "source": [
        "matrix_a.reshape(8, 2)"
      ],
      "cell_type": "code",
      "execution_count": 24,
      "outputs": [
        {
          "output_type": "execute_result",
          "data": {
            "text/plain": [
              "array([[5, 6],\n",
              "       [2, 1],\n",
              "       [9, 3],\n",
              "       [1, 6],\n",
              "       [1, 9],\n",
              "       [2, 5],\n",
              "       [5, 7],\n",
              "       [9, 8]])"
            ]
          },
          "metadata": {
            "tags": []
          },
          "execution_count": 24
        }
      ]
    },
    {
      "metadata": {
        "id": "M3lM57z-jUNx",
        "colab_type": "text"
      },
      "source": [
        "และหาทรานส์โพสของ NumPy array ได้ด้วยพารามิเตอร์ `T`"
      ],
      "cell_type": "markdown"
    },
    {
      "metadata": {
        "id": "5Wd84FvMjZn-",
        "colab_type": "code",
        "colab": {
          "autoexec": {
            "startup": false,
            "wait_interval": 0
          },
          "output_extras": [
            {
              "item_id": 1
            }
          ],
          "base_uri": "https://localhost:8080/",
          "height": 88
        },
        "outputId": "2eba3d4e-e000-49a0-ef6a-53365f581608",
        "executionInfo": {
          "status": "ok",
          "timestamp": 1510630561535,
          "user_tz": -420,
          "elapsed": 660,
          "user": {
            "displayName": "Sirakorn Lamyai",
            "photoUrl": "//lh4.googleusercontent.com/-wZrHO4ylioI/AAAAAAAAAAI/AAAAAAAAiTI/MHjf1ZzXuz0/s50-c-k-no/photo.jpg",
            "userId": "112598566285839351739"
          }
        }
      },
      "source": [
        "matrix_a.T"
      ],
      "cell_type": "code",
      "execution_count": 25,
      "outputs": [
        {
          "output_type": "execute_result",
          "data": {
            "text/plain": [
              "array([[5, 9, 1, 5],\n",
              "       [6, 3, 9, 7],\n",
              "       [2, 1, 2, 9],\n",
              "       [1, 6, 5, 8]])"
            ]
          },
          "metadata": {
            "tags": []
          },
          "execution_count": 25
        }
      ]
    },
    {
      "metadata": {
        "id": "Lb-MAG8XkDJV",
        "colab_type": "text"
      },
      "source": [
        "### การคูณเมทริกซ์\n",
        "\n",
        "หากเราจับ `matrix_a * matrix_b` ตรงๆ เราจะได้ผลลัพธ์ของ A\\*B เป็นการคูณเรียงตัว ($(A*B)_{ij} = A_{ij} \\times B_{ij}$)"
      ],
      "cell_type": "markdown"
    },
    {
      "metadata": {
        "id": "zBhx2PM9kZQ4",
        "colab_type": "code",
        "colab": {
          "autoexec": {
            "startup": false,
            "wait_interval": 0
          },
          "output_extras": [
            {
              "item_id": 1
            }
          ],
          "base_uri": "https://localhost:8080/",
          "height": 88
        },
        "outputId": "39b35aa5-4e20-4bcc-ef7e-4fe753a2e43e",
        "executionInfo": {
          "status": "ok",
          "timestamp": 1510630563028,
          "user_tz": -420,
          "elapsed": 910,
          "user": {
            "displayName": "Sirakorn Lamyai",
            "photoUrl": "//lh4.googleusercontent.com/-wZrHO4ylioI/AAAAAAAAAAI/AAAAAAAAiTI/MHjf1ZzXuz0/s50-c-k-no/photo.jpg",
            "userId": "112598566285839351739"
          }
        }
      },
      "source": [
        "matrix_a * matrix_b"
      ],
      "cell_type": "code",
      "execution_count": 26,
      "outputs": [
        {
          "output_type": "execute_result",
          "data": {
            "text/plain": [
              "array([[15, 12, 18,  7],\n",
              "       [54,  3,  7, 54],\n",
              "       [ 9, 18, 18, 15],\n",
              "       [15, 35, 18, 48]])"
            ]
          },
          "metadata": {
            "tags": []
          },
          "execution_count": 26
        }
      ]
    },
    {
      "metadata": {
        "id": "rPE_UrcEkcIb",
        "colab_type": "text"
      },
      "source": [
        "หากต้องการคูณเมทริกซ์ ให้ใช้คำสั่ง `numpy.dot()`"
      ],
      "cell_type": "markdown"
    },
    {
      "metadata": {
        "id": "31Z7WvPeke9f",
        "colab_type": "code",
        "colab": {
          "autoexec": {
            "startup": false,
            "wait_interval": 0
          },
          "output_extras": [
            {
              "item_id": 1
            }
          ],
          "base_uri": "https://localhost:8080/",
          "height": 88
        },
        "outputId": "c713d02f-a5d9-4342-efca-b9406e781b8d",
        "executionInfo": {
          "status": "ok",
          "timestamp": 1510630563974,
          "user_tz": -420,
          "elapsed": 682,
          "user": {
            "displayName": "Sirakorn Lamyai",
            "photoUrl": "//lh4.googleusercontent.com/-wZrHO4ylioI/AAAAAAAAAAI/AAAAAAAAiTI/MHjf1ZzXuz0/s50-c-k-no/photo.jpg",
            "userId": "112598566285839351739"
          }
        }
      },
      "source": [
        "numpy.dot(matrix_a, matrix_b)"
      ],
      "cell_type": "code",
      "execution_count": 27,
      "outputs": [
        {
          "output_type": "execute_result",
          "data": {
            "text/plain": [
              "array([[ 72,  25, 107, 101],\n",
              "       [ 72,  53, 123, 129],\n",
              "       [ 90,  40, 100, 124],\n",
              "       [162,  75, 191, 173]])"
            ]
          },
          "metadata": {
            "tags": []
          },
          "execution_count": 27
        }
      ]
    },
    {
      "metadata": {
        "id": "POEHfhWSk1d-",
        "colab_type": "text"
      },
      "source": [
        "ในขณะเดียวกันก็มีคำสั่ง `numpy.cross()` สำหรับครอสเวกเตอร์เช่นกัน (ใม่ใช่ matrix แล้ว)"
      ],
      "cell_type": "markdown"
    },
    {
      "metadata": {
        "id": "PVdZS-gZkwkU",
        "colab_type": "code",
        "colab": {
          "autoexec": {
            "startup": false,
            "wait_interval": 0
          },
          "output_extras": [
            {
              "item_id": 1
            }
          ],
          "base_uri": "https://localhost:8080/",
          "height": 35
        },
        "outputId": "d6a3fe83-1dda-484e-858d-85491131ac1e",
        "executionInfo": {
          "status": "ok",
          "timestamp": 1510630564881,
          "user_tz": -420,
          "elapsed": 663,
          "user": {
            "displayName": "Sirakorn Lamyai",
            "photoUrl": "//lh4.googleusercontent.com/-wZrHO4ylioI/AAAAAAAAAAI/AAAAAAAAiTI/MHjf1ZzXuz0/s50-c-k-no/photo.jpg",
            "userId": "112598566285839351739"
          }
        }
      },
      "source": [
        "numpy.cross(vec_u, vec_v)\n",
        "# ถ้าจำไม่ได้ว่า vec_u, vec_v มาจากไหน ให้ขึ้นไปบนสุด"
      ],
      "cell_type": "code",
      "execution_count": 28,
      "outputs": [
        {
          "output_type": "execute_result",
          "data": {
            "text/plain": [
              "array([-1,  2, -1])"
            ]
          },
          "metadata": {
            "tags": []
          },
          "execution_count": 28
        }
      ]
    },
    {
      "metadata": {
        "id": "h9iihxO6lGMh",
        "colab_type": "text"
      },
      "source": [
        "### ดีเทอร์มิแนนท์ และอินเวิร์ส"
      ],
      "cell_type": "markdown"
    },
    {
      "metadata": {
        "id": "GbtMcettlfl2",
        "colab_type": "text"
      },
      "source": [
        "ไลบรารี NumPy มีไลบรารีย่อย `numpy.linalg` สำหรับจัดการ linear algebra เป็นพิเศษ คำสั่งทางเมทริกซ์หลายคำสั่งอยู่ในไลบรารีย่อยนี้\n",
        "\n",
        "สามารถหาดีเทอร์มิแนนท์ได้ด้วยคำสั่ง `numpy.linalg.det()` และหาอินเวิร์สได้ด้วยคำสั่ง `numpy.linalg.inv()`"
      ],
      "cell_type": "markdown"
    },
    {
      "metadata": {
        "id": "tZAmFgVzlboX",
        "colab_type": "code",
        "colab": {
          "autoexec": {
            "startup": false,
            "wait_interval": 0
          },
          "output_extras": [
            {
              "item_id": 1
            }
          ],
          "base_uri": "https://localhost:8080/",
          "height": 35
        },
        "outputId": "c92b6ea3-f394-41db-df39-ac0a1599fe97",
        "executionInfo": {
          "status": "ok",
          "timestamp": 1510630565761,
          "user_tz": -420,
          "elapsed": 688,
          "user": {
            "displayName": "Sirakorn Lamyai",
            "photoUrl": "//lh4.googleusercontent.com/-wZrHO4ylioI/AAAAAAAAAAI/AAAAAAAAiTI/MHjf1ZzXuz0/s50-c-k-no/photo.jpg",
            "userId": "112598566285839351739"
          }
        }
      },
      "source": [
        "numpy.linalg.det(matrix_a)"
      ],
      "cell_type": "code",
      "execution_count": 29,
      "outputs": [
        {
          "output_type": "execute_result",
          "data": {
            "text/plain": [
              "2633.9999999999991"
            ]
          },
          "metadata": {
            "tags": []
          },
          "execution_count": 29
        }
      ]
    },
    {
      "metadata": {
        "id": "c-6qNqlZlnNt",
        "colab_type": "code",
        "colab": {
          "autoexec": {
            "startup": false,
            "wait_interval": 0
          },
          "output_extras": [
            {
              "item_id": 1
            }
          ],
          "base_uri": "https://localhost:8080/",
          "height": 88
        },
        "outputId": "5f9097ca-5e6b-4596-ad7f-cb9ec44b06a0",
        "executionInfo": {
          "status": "ok",
          "timestamp": 1510630566687,
          "user_tz": -420,
          "elapsed": 678,
          "user": {
            "displayName": "Sirakorn Lamyai",
            "photoUrl": "//lh4.googleusercontent.com/-wZrHO4ylioI/AAAAAAAAAAI/AAAAAAAAiTI/MHjf1ZzXuz0/s50-c-k-no/photo.jpg",
            "userId": "112598566285839351739"
          }
        }
      },
      "source": [
        "numpy.linalg.inv(matrix_a)"
      ],
      "cell_type": "code",
      "execution_count": 30,
      "outputs": [
        {
          "output_type": "execute_result",
          "data": {
            "text/plain": [
              "array([[ 0.1055429 ,  0.06871678, -0.08352316, -0.01252847],\n",
              "       [ 0.09491268, -0.04252088,  0.09035687, -0.03644647],\n",
              "       [ 0.05922551, -0.09453303, -0.11161731,  0.1332574 ],\n",
              "       [-0.21564161,  0.10060744,  0.09870919,  0.01480638]])"
            ]
          },
          "metadata": {
            "tags": []
          },
          "execution_count": 30
        }
      ]
    },
    {
      "metadata": {
        "id": "CfWYQJbnlqGg",
        "colab_type": "code",
        "colab": {
          "autoexec": {
            "startup": false,
            "wait_interval": 0
          },
          "output_extras": [
            {
              "item_id": 1
            }
          ],
          "base_uri": "https://localhost:8080/",
          "height": 158
        },
        "outputId": "bf5b0c1c-4f32-45c2-fe02-b01c22ec7adb",
        "executionInfo": {
          "status": "ok",
          "timestamp": 1510630567690,
          "user_tz": -420,
          "elapsed": 801,
          "user": {
            "displayName": "Sirakorn Lamyai",
            "photoUrl": "//lh4.googleusercontent.com/-wZrHO4ylioI/AAAAAAAAAAI/AAAAAAAAiTI/MHjf1ZzXuz0/s50-c-k-no/photo.jpg",
            "userId": "112598566285839351739"
          }
        }
      },
      "source": [
        "numpy.dot(matrix_a, numpy.linalg.inv(matrix_a))\n",
        "# สังเกตว่าค่ามีความใกล้เคียงเมทริกซ์เอกลักษณ์ ที่ไม่เป๊ะเพราะ floating point precision"
      ],
      "cell_type": "code",
      "execution_count": 31,
      "outputs": [
        {
          "output_type": "execute_result",
          "data": {
            "text/plain": [
              "array([[  1.00000000e+00,  -2.77555756e-17,   2.77555756e-17,\n",
              "          1.56125113e-17],\n",
              "       [  5.55111512e-17,   1.00000000e+00,   0.00000000e+00,\n",
              "          1.04083409e-17],\n",
              "       [ -2.77555756e-17,  -2.77555756e-17,   1.00000000e+00,\n",
              "         -3.29597460e-17],\n",
              "       [  0.00000000e+00,  -1.11022302e-16,  -1.11022302e-16,\n",
              "          1.00000000e+00]])"
            ]
          },
          "metadata": {
            "tags": []
          },
          "execution_count": 31
        }
      ]
    }
  ]
}