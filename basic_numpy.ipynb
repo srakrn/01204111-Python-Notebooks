{
  "nbformat": 4,
  "nbformat_minor": 0,
  "metadata": {
    "colab": {
      "name": "basic_numpy.ipynb",
      "version": "0.3.2",
      "views": {},
      "default_view": {},
      "provenance": [],
      "collapsed_sections": [
        "Lb-MAG8XkDJV",
        "h9iihxO6lGMh"
      ]
    }
  },
  "cells": [
    {
      "metadata": {
        "id": "NutvBzo_VcpT",
        "colab_type": "text"
      },
      "source": [
        "# NumPy แบบเร่งรัด\n",
        "### @srakrn"
      ],
      "cell_type": "markdown"
    },
    {
      "metadata": {
        "id": "4g9qBEn26Zxh",
        "colab_type": "text"
      },
      "source": [
        "## ปรับปรุงเนื้อหา\n",
        "\n",
        "รายการการปรับปรุงเนื้อหา เรียงตามวันที่\n",
        "* 4 ธันวาคม 2560: เพิ่มเนื้อหาส่วนที่ออกสอบให้ละเอียดขึ้น (ครอบคลุมอยู่แล้ว แต่ไม่ละเอียดพอ), แจ้งเนื้อหาที่ไม่ออกสอบด้วยป้าย `[ไม่ออกสอบ]` ในหัวข้อ\n",
        "\n",
        "ดังนั้น โดยสรุปแล้ว เนื้อหาที่ออกสอบปลายภาค มีแค่\n",
        "* การสร้าง NumPy array ด้วยการเปลี่ยนจาก list เป็น NumPy array\n",
        "* การสร้าง NumPy array ด้วย `numpy.arange()`\n",
        "* การใช้ `ufunc` (เช่น ฟังก์ชั่นบวก ลบ คูณ หาร) กับ NumPy array\n",
        "\n",
        "จะเห็นว่าเนื้อหาออกสอบจริงน้อยกว่าที่ผู้เขียนคาดการณ์มาก\n",
        "\n",
        "---"
      ],
      "cell_type": "markdown"
    },
    {
      "metadata": {
        "id": "oQ0wod-gVhw-",
        "colab_type": "text"
      },
      "source": [
        "## รู้จัก NumPy\n",
        "\n",
        "NumPy เป็นไลบรารี่สำหรับการทำงานทางคณิตศาสตร์ที่ทรงพลัง หนึ่งในตัวอย่างที่ผู้เขียนมักหยิบมาเพื่อยกตัวอย่างความสามารถของ NumPy คือการดำเนินการทางเวกเตอร์ของ NumPy\n",
        "\n",
        "หากเรามีเวกเตอร์ $\\vec{u}=2\\hat{i}+3\\hat{j}+4\\hat{k}$ และ $\\vec{v}=3\\hat{i}+4\\hat{j}+5\\hat{k}$ เราอาจเขียนแทนค่าของ $\\vec{u}$ และ $\\vec{v}$ ได้ด้วย Tuple ดังนี้"
      ],
      "cell_type": "markdown"
    },
    {
      "metadata": {
        "id": "SEGIIsVlWJcW",
        "colab_type": "code",
        "colab": {
          "autoexec": {
            "startup": false,
            "wait_interval": 0
          }
        }
      },
      "source": [
        "vec_u_tuple = (2, 3, 4)\n",
        "vec_v_tuple = (3, 4, 5)"
      ],
      "cell_type": "code",
      "execution_count": 0,
      "outputs": []
    },
    {
      "metadata": {
        "id": "NKe1pZlJWO2V",
        "colab_type": "text"
      },
      "source": [
        "หากเราต้องการหาค่าของ $\\vec{u}+\\vec{v}$ เราจะพบว่าเมื่อเรานำตัวแปรทั้งสองตัวมาบวกกัน..."
      ],
      "cell_type": "markdown"
    },
    {
      "metadata": {
        "id": "0l15DZEYWWYI",
        "colab_type": "code",
        "colab": {
          "autoexec": {
            "startup": false,
            "wait_interval": 0
          },
          "output_extras": [
            {
              "item_id": 1
            }
          ],
          "base_uri": "https://localhost:8080/",
          "height": 35
        },
        "outputId": "69c713ba-8b24-4836-aee4-c150794a5458",
        "executionInfo": {
          "status": "ok",
          "timestamp": 1512399008561,
          "user_tz": -420,
          "elapsed": 774,
          "user": {
            "displayName": "Sirakorn Lamyai",
            "photoUrl": "//lh4.googleusercontent.com/-wZrHO4ylioI/AAAAAAAAAAI/AAAAAAAAiTI/MHjf1ZzXuz0/s50-c-k-no/photo.jpg",
            "userId": "112598566285839351739"
          }
        }
      },
      "source": [
        "vec_u_tuple + vec_v_tuple"
      ],
      "cell_type": "code",
      "execution_count": 2,
      "outputs": [
        {
          "output_type": "execute_result",
          "data": {
            "text/plain": [
              "(2, 3, 4, 3, 4, 5)"
            ]
          },
          "metadata": {
            "tags": []
          },
          "execution_count": 2
        }
      ]
    },
    {
      "metadata": {
        "id": "JvHWV8FqWZ-E",
        "colab_type": "text"
      },
      "source": [
        "จะกลายเป็นการทำ Tuple มาต่อกันแทน"
      ],
      "cell_type": "markdown"
    },
    {
      "metadata": {
        "id": "papRVyISWeIQ",
        "colab_type": "text"
      },
      "source": [
        "## การนำเข้าโมดูล NumPy\n",
        "\n",
        "การนำเข้าไลบรารี NumPy สามารถทำได้โดยใช้คำสั่ง"
      ],
      "cell_type": "markdown"
    },
    {
      "metadata": {
        "id": "LLKEvKybWkuc",
        "colab_type": "code",
        "colab": {
          "autoexec": {
            "startup": false,
            "wait_interval": 0
          }
        }
      },
      "source": [
        "import numpy\n",
        "# จะเห็นว่าใช้วิธีเดียวกับ import math เลย\n",
        "import math"
      ],
      "cell_type": "code",
      "execution_count": 0,
      "outputs": []
    },
    {
      "metadata": {
        "id": "pmh3SYArWo5Q",
        "colab_type": "text"
      },
      "source": [
        "ซึ่งจะทำให้ได้ชุดคำสั่งจากไลบรารี NumPy ตามที่ต้องการ"
      ],
      "cell_type": "markdown"
    },
    {
      "metadata": {
        "id": "hgm8MYEwWyeR",
        "colab_type": "text"
      },
      "source": [
        "## numpy.array"
      ],
      "cell_type": "markdown"
    },
    {
      "metadata": {
        "id": "Qv2ITBB0W2c7",
        "colab_type": "text"
      },
      "source": [
        "NumPy มาพร้อมชนิดข้อมูลหนึ่งตัวที่สำคัญนั่นคือ `numpy.array` เราสามารถแปลงลิสต์ หรือทูเปิลใดๆ ไปเป็น NumPy array ได้ด้วยการใช้คำสั่ง `numpy.array()` ครอบ (เช่นเดียวกับการแปลง int/float)"
      ],
      "cell_type": "markdown"
    },
    {
      "metadata": {
        "id": "roOXxHOkXFXx",
        "colab_type": "code",
        "colab": {
          "autoexec": {
            "startup": false,
            "wait_interval": 0
          }
        }
      },
      "source": [
        "vec_u = numpy.array(vec_u_tuple)\n",
        "vec_v = numpy.array(vec_v_tuple)"
      ],
      "cell_type": "code",
      "execution_count": 0,
      "outputs": []
    },
    {
      "metadata": {
        "id": "lcpG3d4oXMYp",
        "colab_type": "text"
      },
      "source": [
        "### การดำเนินการทางคณิตศาสตร์ของ NumPy array\n",
        "\n",
        "เราจะพบว่าเมื่อเรานำ `vec_u` และ `vec_v` มาบวกกัน"
      ],
      "cell_type": "markdown"
    },
    {
      "metadata": {
        "id": "s3BV-qjwXQuL",
        "colab_type": "code",
        "colab": {
          "autoexec": {
            "startup": false,
            "wait_interval": 0
          },
          "output_extras": [
            {
              "item_id": 1
            }
          ],
          "base_uri": "https://localhost:8080/",
          "height": 35
        },
        "outputId": "104a9451-ab65-4d63-a4bc-cc30ab96c31d",
        "executionInfo": {
          "status": "ok",
          "timestamp": 1512399011548,
          "user_tz": -420,
          "elapsed": 781,
          "user": {
            "displayName": "Sirakorn Lamyai",
            "photoUrl": "//lh4.googleusercontent.com/-wZrHO4ylioI/AAAAAAAAAAI/AAAAAAAAiTI/MHjf1ZzXuz0/s50-c-k-no/photo.jpg",
            "userId": "112598566285839351739"
          }
        }
      },
      "source": [
        "vec_u + vec_v"
      ],
      "cell_type": "code",
      "execution_count": 5,
      "outputs": [
        {
          "output_type": "execute_result",
          "data": {
            "text/plain": [
              "array([5, 7, 9])"
            ]
          },
          "metadata": {
            "tags": []
          },
          "execution_count": 5
        }
      ]
    },
    {
      "metadata": {
        "id": "IyXZJwBtXTgv",
        "colab_type": "text"
      },
      "source": [
        "จะได้ค่าของ $\\vec{u}+\\vec{v}$ ตามที่ต้องการ นั่นหมายถึงว่าชนิดข้อมูล `numpy.array` ถูกออกแบบโดยเน้นการใช้งานทางคณิตศาสตร์เป็นหลัก\n",
        "\n",
        "ในขณะเดียวกัน เราสามารถใช้ตัวดำเนินการ + - * / กับ `numpy.array` ได้ด้วย ซึ่งจะให้ผลเป็นการที่สมาชิกทุกตัวของ `numpy.array` ถูกกระทำ"
      ],
      "cell_type": "markdown"
    },
    {
      "metadata": {
        "id": "wKaCxszjX0GC",
        "colab_type": "code",
        "colab": {
          "autoexec": {
            "startup": false,
            "wait_interval": 0
          },
          "output_extras": [
            {
              "item_id": 1
            }
          ],
          "base_uri": "https://localhost:8080/",
          "height": 35
        },
        "outputId": "0bb0280a-6d48-4423-86e7-dc5579b0b3d8",
        "executionInfo": {
          "status": "ok",
          "timestamp": 1512399012575,
          "user_tz": -420,
          "elapsed": 735,
          "user": {
            "displayName": "Sirakorn Lamyai",
            "photoUrl": "//lh4.googleusercontent.com/-wZrHO4ylioI/AAAAAAAAAAI/AAAAAAAAiTI/MHjf1ZzXuz0/s50-c-k-no/photo.jpg",
            "userId": "112598566285839351739"
          }
        }
      },
      "source": [
        "vec_u"
      ],
      "cell_type": "code",
      "execution_count": 6,
      "outputs": [
        {
          "output_type": "execute_result",
          "data": {
            "text/plain": [
              "array([2, 3, 4])"
            ]
          },
          "metadata": {
            "tags": []
          },
          "execution_count": 6
        }
      ]
    },
    {
      "metadata": {
        "id": "xveAoNDXYGVB",
        "colab_type": "code",
        "colab": {
          "autoexec": {
            "startup": false,
            "wait_interval": 0
          },
          "output_extras": [
            {
              "item_id": 1
            }
          ],
          "base_uri": "https://localhost:8080/",
          "height": 35
        },
        "outputId": "2e534181-c9c1-432d-8cad-19da912d7ca0",
        "executionInfo": {
          "status": "ok",
          "timestamp": 1512399013427,
          "user_tz": -420,
          "elapsed": 664,
          "user": {
            "displayName": "Sirakorn Lamyai",
            "photoUrl": "//lh4.googleusercontent.com/-wZrHO4ylioI/AAAAAAAAAAI/AAAAAAAAiTI/MHjf1ZzXuz0/s50-c-k-no/photo.jpg",
            "userId": "112598566285839351739"
          }
        }
      },
      "source": [
        "vec_u + 2"
      ],
      "cell_type": "code",
      "execution_count": 7,
      "outputs": [
        {
          "output_type": "execute_result",
          "data": {
            "text/plain": [
              "array([4, 5, 6])"
            ]
          },
          "metadata": {
            "tags": []
          },
          "execution_count": 7
        }
      ]
    },
    {
      "metadata": {
        "id": "bCtyMGMJYHXr",
        "colab_type": "code",
        "colab": {
          "autoexec": {
            "startup": false,
            "wait_interval": 0
          },
          "output_extras": [
            {
              "item_id": 1
            }
          ],
          "base_uri": "https://localhost:8080/",
          "height": 35
        },
        "outputId": "0f4453c9-c372-41cd-b569-51dc70bfc941",
        "executionInfo": {
          "status": "ok",
          "timestamp": 1512399014437,
          "user_tz": -420,
          "elapsed": 814,
          "user": {
            "displayName": "Sirakorn Lamyai",
            "photoUrl": "//lh4.googleusercontent.com/-wZrHO4ylioI/AAAAAAAAAAI/AAAAAAAAiTI/MHjf1ZzXuz0/s50-c-k-no/photo.jpg",
            "userId": "112598566285839351739"
          }
        }
      },
      "source": [
        "vec_u * 3"
      ],
      "cell_type": "code",
      "execution_count": 8,
      "outputs": [
        {
          "output_type": "execute_result",
          "data": {
            "text/plain": [
              "array([ 6,  9, 12])"
            ]
          },
          "metadata": {
            "tags": []
          },
          "execution_count": 8
        }
      ]
    },
    {
      "metadata": {
        "id": "Z8j-iDwVYQUt",
        "colab_type": "text"
      },
      "source": [
        "### `numpy.arange()`\n",
        "\n",
        "เราสามารถใช้คำสั่ง `numpy.arange()` สร้าง NumPy array ที่จะให้ผลลัพธ์ลักษณะเดียวกับ `range()` ของไพธอนได้"
      ],
      "cell_type": "markdown"
    },
    {
      "metadata": {
        "id": "nXf7FpptYbDe",
        "colab_type": "code",
        "colab": {
          "autoexec": {
            "startup": false,
            "wait_interval": 0
          },
          "output_extras": [
            {
              "item_id": 1
            }
          ],
          "base_uri": "https://localhost:8080/",
          "height": 52
        },
        "outputId": "e710c088-9312-4734-9d45-cb6912448b08",
        "executionInfo": {
          "status": "ok",
          "timestamp": 1512399015322,
          "user_tz": -420,
          "elapsed": 703,
          "user": {
            "displayName": "Sirakorn Lamyai",
            "photoUrl": "//lh4.googleusercontent.com/-wZrHO4ylioI/AAAAAAAAAAI/AAAAAAAAiTI/MHjf1ZzXuz0/s50-c-k-no/photo.jpg",
            "userId": "112598566285839351739"
          }
        }
      },
      "source": [
        "# สร้าง range ของ [1, 5) โดยเพิ่มขึ้นทีละ 0.2\n",
        "numpy.arange(1, 5, 0.2)"
      ],
      "cell_type": "code",
      "execution_count": 9,
      "outputs": [
        {
          "output_type": "execute_result",
          "data": {
            "text/plain": [
              "array([ 1. ,  1.2,  1.4,  1.6,  1.8,  2. ,  2.2,  2.4,  2.6,  2.8,  3. ,\n",
              "        3.2,  3.4,  3.6,  3.8,  4. ,  4.2,  4.4,  4.6,  4.8])"
            ]
          },
          "metadata": {
            "tags": []
          },
          "execution_count": 9
        }
      ]
    },
    {
      "metadata": {
        "id": "xanRqXrgYMzF",
        "colab_type": "text"
      },
      "source": [
        "### array ขนาดหลายมิติ\n",
        "\n",
        "ในขณะเดียวกัน NumPy array ไม่ได้จำกัดอยู่เพียงแค่ขนาดหนึ่งมิติ เราสามารถขยาย array ออกไปเป็นสอง หรือสามมิติได้ ตัวอย่างด้านล่างคือ array ขนาดสองมิติ"
      ],
      "cell_type": "markdown"
    },
    {
      "metadata": {
        "id": "n-u40y-2Y0MA",
        "colab_type": "code",
        "colab": {
          "autoexec": {
            "startup": false,
            "wait_interval": 0
          },
          "output_extras": [
            {
              "item_id": 1
            }
          ],
          "base_uri": "https://localhost:8080/",
          "height": 70
        },
        "outputId": "21c42be4-e212-4ff6-d647-b8b026b7e21a",
        "executionInfo": {
          "status": "ok",
          "timestamp": 1512399016353,
          "user_tz": -420,
          "elapsed": 691,
          "user": {
            "displayName": "Sirakorn Lamyai",
            "photoUrl": "//lh4.googleusercontent.com/-wZrHO4ylioI/AAAAAAAAAAI/AAAAAAAAiTI/MHjf1ZzXuz0/s50-c-k-no/photo.jpg",
            "userId": "112598566285839351739"
          }
        }
      },
      "source": [
        "numpy.array([\n",
        "    [1, 2, 3],\n",
        "    [4, 5, 6],\n",
        "    [7, 8, 9]\n",
        "])"
      ],
      "cell_type": "code",
      "execution_count": 10,
      "outputs": [
        {
          "output_type": "execute_result",
          "data": {
            "text/plain": [
              "array([[1, 2, 3],\n",
              "       [4, 5, 6],\n",
              "       [7, 8, 9]])"
            ]
          },
          "metadata": {
            "tags": []
          },
          "execution_count": 10
        }
      ]
    },
    {
      "metadata": {
        "id": "OOVKmobbZLvn",
        "colab_type": "text"
      },
      "source": [
        "#### ตัวช่วยสร้าง array [ไม่ออกสอบ]\n",
        "\n",
        "เราสามารถสร้าง array ขนาด n มิติของค่า 0 ได้ด้วยคำสั่ง `numpy.zeros()`"
      ],
      "cell_type": "markdown"
    },
    {
      "metadata": {
        "id": "x8k3-Hp_ZTkg",
        "colab_type": "code",
        "colab": {
          "autoexec": {
            "startup": false,
            "wait_interval": 0
          },
          "output_extras": [
            {
              "item_id": 1
            }
          ],
          "base_uri": "https://localhost:8080/",
          "height": 52
        },
        "outputId": "e9fe182a-9ef7-4ea2-d237-20d982e43d5d",
        "executionInfo": {
          "status": "ok",
          "timestamp": 1512399017264,
          "user_tz": -420,
          "elapsed": 686,
          "user": {
            "displayName": "Sirakorn Lamyai",
            "photoUrl": "//lh4.googleusercontent.com/-wZrHO4ylioI/AAAAAAAAAAI/AAAAAAAAiTI/MHjf1ZzXuz0/s50-c-k-no/photo.jpg",
            "userId": "112598566285839351739"
          }
        }
      },
      "source": [
        "# สร้าง NumPy array ขนาด 2*3 ที่มีแต่ค่า 0\n",
        "numpy.zeros([2, 3])"
      ],
      "cell_type": "code",
      "execution_count": 11,
      "outputs": [
        {
          "output_type": "execute_result",
          "data": {
            "text/plain": [
              "array([[ 0.,  0.,  0.],\n",
              "       [ 0.,  0.,  0.]])"
            ]
          },
          "metadata": {
            "tags": []
          },
          "execution_count": 11
        }
      ]
    },
    {
      "metadata": {
        "id": "dhT78xdVZeHk",
        "colab_type": "text"
      },
      "source": [
        "และสร้าง array ในรูปแบบเดียวกันของค่า 1 ได้ด้วยคำสั่ง `numpy.ones()`"
      ],
      "cell_type": "markdown"
    },
    {
      "metadata": {
        "id": "439AHKfkZjIU",
        "colab_type": "code",
        "colab": {
          "autoexec": {
            "startup": false,
            "wait_interval": 0
          },
          "output_extras": [
            {
              "item_id": 1
            }
          ],
          "base_uri": "https://localhost:8080/",
          "height": 88
        },
        "outputId": "c9bacf10-26db-42e9-fd66-da96e9124fa6",
        "executionInfo": {
          "status": "ok",
          "timestamp": 1512399018362,
          "user_tz": -420,
          "elapsed": 896,
          "user": {
            "displayName": "Sirakorn Lamyai",
            "photoUrl": "//lh4.googleusercontent.com/-wZrHO4ylioI/AAAAAAAAAAI/AAAAAAAAiTI/MHjf1ZzXuz0/s50-c-k-no/photo.jpg",
            "userId": "112598566285839351739"
          }
        }
      },
      "source": [
        "# สร้าง NumPy array ขนาด 4*5 ที่มีแต่ค่า 1\n",
        "numpy.ones([4, 5])"
      ],
      "cell_type": "code",
      "execution_count": 12,
      "outputs": [
        {
          "output_type": "execute_result",
          "data": {
            "text/plain": [
              "array([[ 1.,  1.,  1.,  1.,  1.],\n",
              "       [ 1.,  1.,  1.,  1.,  1.],\n",
              "       [ 1.,  1.,  1.,  1.,  1.],\n",
              "       [ 1.,  1.,  1.,  1.,  1.]])"
            ]
          },
          "metadata": {
            "tags": []
          },
          "execution_count": 12
        }
      ]
    },
    {
      "metadata": {
        "id": "aaTvORyHZpK7",
        "colab_type": "text"
      },
      "source": [
        "ฟังก์ชั่นในการช่วยสร้าง NumPy array ยังมีอีกเยอะ เช่นฟังก์ชั่นด้านล่างนี้*เสก*เมทริกซ์เอกลักษณ์มาให้เราได้ทันที"
      ],
      "cell_type": "markdown"
    },
    {
      "metadata": {
        "id": "zPMObXBTZ3j4",
        "colab_type": "code",
        "colab": {
          "autoexec": {
            "startup": false,
            "wait_interval": 0
          },
          "output_extras": [
            {
              "item_id": 1
            }
          ],
          "base_uri": "https://localhost:8080/",
          "height": 88
        },
        "outputId": "a9bb66f9-b027-4672-d4f5-cb5bde9cd509",
        "executionInfo": {
          "status": "ok",
          "timestamp": 1512399019628,
          "user_tz": -420,
          "elapsed": 930,
          "user": {
            "displayName": "Sirakorn Lamyai",
            "photoUrl": "//lh4.googleusercontent.com/-wZrHO4ylioI/AAAAAAAAAAI/AAAAAAAAiTI/MHjf1ZzXuz0/s50-c-k-no/photo.jpg",
            "userId": "112598566285839351739"
          }
        }
      },
      "source": [
        "numpy.identity(4)"
      ],
      "cell_type": "code",
      "execution_count": 13,
      "outputs": [
        {
          "output_type": "execute_result",
          "data": {
            "text/plain": [
              "array([[ 1.,  0.,  0.,  0.],\n",
              "       [ 0.,  1.,  0.,  0.],\n",
              "       [ 0.,  0.,  1.,  0.],\n",
              "       [ 0.,  0.,  0.,  1.]])"
            ]
          },
          "metadata": {
            "tags": []
          },
          "execution_count": 13
        }
      ]
    },
    {
      "metadata": {
        "id": "4rX-vTUNaCar",
        "colab_type": "text"
      },
      "source": [
        "### Slicing สำหรับ NumPy array [ไม่ออกสอบ]"
      ],
      "cell_type": "markdown"
    },
    {
      "metadata": {
        "id": "BE2bMCBWaHVx",
        "colab_type": "text"
      },
      "source": [
        "กำหนด `array_a` เป็นอาร์เรย์ของค่าด้านล่าง"
      ],
      "cell_type": "markdown"
    },
    {
      "metadata": {
        "id": "mUrQFpD_aNjm",
        "colab_type": "code",
        "colab": {
          "autoexec": {
            "startup": false,
            "wait_interval": 0
          }
        }
      },
      "source": [
        "array_a = numpy.array([\n",
        "    [0.0, 0.1, 0.2, 0.3, 0.4],\n",
        "    [1.0, 1.1, 1.2, 1.3, 1.4],\n",
        "    [2.0, 2.1, 2.2, 2.3, 2.4],\n",
        "    [3.0, 3.1, 3.2, 3.3, 3.4],\n",
        "    [4.0, 4.1, 4.2, 4.3, 4.4]\n",
        "])\n",
        "\n",
        "# array_a = numpy.array([x+numpy.arange(0, 0.5, 0.1) for x in range(5)])"
      ],
      "cell_type": "code",
      "execution_count": 0,
      "outputs": []
    },
    {
      "metadata": {
        "id": "plINjewXacy1",
        "colab_type": "text"
      },
      "source": [
        "เราทราบดีอยู่แล้วว่าเราสามารถ slice ข้อมูลตามปกติในแบบไพธอนได้"
      ],
      "cell_type": "markdown"
    },
    {
      "metadata": {
        "id": "l2VTRLLwaktV",
        "colab_type": "code",
        "colab": {
          "autoexec": {
            "startup": false,
            "wait_interval": 0
          },
          "output_extras": [
            {
              "item_id": 1
            }
          ],
          "base_uri": "https://localhost:8080/",
          "height": 52
        },
        "outputId": "f98d2040-1b17-4678-ef72-37aff008fe0b",
        "executionInfo": {
          "status": "ok",
          "timestamp": 1512399021400,
          "user_tz": -420,
          "elapsed": 733,
          "user": {
            "displayName": "Sirakorn Lamyai",
            "photoUrl": "//lh4.googleusercontent.com/-wZrHO4ylioI/AAAAAAAAAAI/AAAAAAAAiTI/MHjf1ZzXuz0/s50-c-k-no/photo.jpg",
            "userId": "112598566285839351739"
          }
        }
      },
      "source": [
        "array_a[0:2]"
      ],
      "cell_type": "code",
      "execution_count": 15,
      "outputs": [
        {
          "output_type": "execute_result",
          "data": {
            "text/plain": [
              "array([[ 0. ,  0.1,  0.2,  0.3,  0.4],\n",
              "       [ 1. ,  1.1,  1.2,  1.3,  1.4]])"
            ]
          },
          "metadata": {
            "tags": []
          },
          "execution_count": 15
        }
      ]
    },
    {
      "metadata": {
        "id": "xomHJX6SapzC",
        "colab_type": "text"
      },
      "source": [
        "แต่หนึ่งในความสะดวกคือ เราสามารถ slice ข้อมูลในแนวตั้งได้ด้วย โดยใช้ `,` (comma) คั่น slicer"
      ],
      "cell_type": "markdown"
    },
    {
      "metadata": {
        "id": "Q_UaILfRavjJ",
        "colab_type": "code",
        "colab": {
          "autoexec": {
            "startup": false,
            "wait_interval": 0
          },
          "output_extras": [
            {
              "item_id": 1
            }
          ],
          "base_uri": "https://localhost:8080/",
          "height": 52
        },
        "outputId": "d45168a7-bd55-4ec9-93e7-e2d7c5e8ab34",
        "executionInfo": {
          "status": "ok",
          "timestamp": 1512399022488,
          "user_tz": -420,
          "elapsed": 887,
          "user": {
            "displayName": "Sirakorn Lamyai",
            "photoUrl": "//lh4.googleusercontent.com/-wZrHO4ylioI/AAAAAAAAAAI/AAAAAAAAiTI/MHjf1ZzXuz0/s50-c-k-no/photo.jpg",
            "userId": "112598566285839351739"
          }
        }
      },
      "source": [
        "array_a[0:2, 1:4]"
      ],
      "cell_type": "code",
      "execution_count": 16,
      "outputs": [
        {
          "output_type": "execute_result",
          "data": {
            "text/plain": [
              "array([[ 0.1,  0.2,  0.3],\n",
              "       [ 1.1,  1.2,  1.3]])"
            ]
          },
          "metadata": {
            "tags": []
          },
          "execution_count": 16
        }
      ]
    },
    {
      "metadata": {
        "id": "A-QjxmT3dsc0",
        "colab_type": "text"
      },
      "source": [
        "ดังนั้น เมื่อ slicer ของเรารองรับการ slice หลายมิติ เราอาจใช้ syntax การ slice ที่เหมือนมาจากภาษาอื่นมากกว่าไพธอนก็ได้ (ใช้ลักษณะนี้กับ list ไม่ได้)\n",
        "\n",
        "(โค้ดด้านล่างจะมีปัญหาเรื่อง [floating point precision](https://th.wikipedia.org/wiki/%E0%B8%88%E0%B8%B3%E0%B8%99%E0%B8%A7%E0%B8%99%E0%B8%88%E0%B8%B8%E0%B8%94%E0%B8%A5%E0%B8%AD%E0%B8%A2%E0%B8%95%E0%B8%B1%E0%B8%A7))"
      ],
      "cell_type": "markdown"
    },
    {
      "metadata": {
        "id": "V-eUAzRmd3Ki",
        "colab_type": "code",
        "colab": {
          "autoexec": {
            "startup": false,
            "wait_interval": 0
          },
          "output_extras": [
            {
              "item_id": 1
            }
          ],
          "base_uri": "https://localhost:8080/",
          "height": 35
        },
        "outputId": "1e1b84af-4951-40af-fec6-8592824670f6",
        "executionInfo": {
          "status": "ok",
          "timestamp": 1512399023376,
          "user_tz": -420,
          "elapsed": 676,
          "user": {
            "displayName": "Sirakorn Lamyai",
            "photoUrl": "//lh4.googleusercontent.com/-wZrHO4ylioI/AAAAAAAAAAI/AAAAAAAAiTI/MHjf1ZzXuz0/s50-c-k-no/photo.jpg",
            "userId": "112598566285839351739"
          }
        }
      },
      "source": [
        "array_a[3, 4]"
      ],
      "cell_type": "code",
      "execution_count": 17,
      "outputs": [
        {
          "output_type": "execute_result",
          "data": {
            "text/plain": [
              "3.3999999999999999"
            ]
          },
          "metadata": {
            "tags": []
          },
          "execution_count": 17
        }
      ]
    },
    {
      "metadata": {
        "id": "pdG4M6B7hEFI",
        "colab_type": "text"
      },
      "source": [
        "นอกจากนั้น เราสามารถยุบ NumPy array หลายมิติให้สามารถ iterate วนในอาร์เรย์ได้ ด้วย property `flat` หรือเมธอด `ravel()`"
      ],
      "cell_type": "markdown"
    },
    {
      "metadata": {
        "id": "xQ4dM03vhDcG",
        "colab_type": "code",
        "colab": {
          "autoexec": {
            "startup": false,
            "wait_interval": 0
          },
          "output_extras": [
            {
              "item_id": 1
            }
          ],
          "base_uri": "https://localhost:8080/",
          "height": 459
        },
        "outputId": "e0611106-b88b-4081-8ab9-866590b297a7",
        "executionInfo": {
          "status": "ok",
          "timestamp": 1512399024742,
          "user_tz": -420,
          "elapsed": 922,
          "user": {
            "displayName": "Sirakorn Lamyai",
            "photoUrl": "//lh4.googleusercontent.com/-wZrHO4ylioI/AAAAAAAAAAI/AAAAAAAAiTI/MHjf1ZzXuz0/s50-c-k-no/photo.jpg",
            "userId": "112598566285839351739"
          }
        }
      },
      "source": [
        "for i in array_a.flat:\n",
        "  print(i)"
      ],
      "cell_type": "code",
      "execution_count": 18,
      "outputs": [
        {
          "output_type": "stream",
          "text": [
            "0.0\n",
            "0.1\n",
            "0.2\n",
            "0.3\n",
            "0.4\n",
            "1.0\n",
            "1.1\n",
            "1.2\n",
            "1.3\n",
            "1.4\n",
            "2.0\n",
            "2.1\n",
            "2.2\n",
            "2.3\n",
            "2.4\n",
            "3.0\n",
            "3.1\n",
            "3.2\n",
            "3.3\n",
            "3.4\n",
            "4.0\n",
            "4.1\n",
            "4.2\n",
            "4.3\n",
            "4.4\n"
          ],
          "name": "stdout"
        }
      ]
    },
    {
      "metadata": {
        "id": "nYvzo9WJhffO",
        "colab_type": "code",
        "colab": {
          "autoexec": {
            "startup": false,
            "wait_interval": 0
          },
          "output_extras": [
            {
              "item_id": 1
            }
          ],
          "base_uri": "https://localhost:8080/",
          "height": 70
        },
        "outputId": "1ce678cc-8a3e-4500-edd8-f42a7a51f74f",
        "executionInfo": {
          "status": "ok",
          "timestamp": 1512399025871,
          "user_tz": -420,
          "elapsed": 897,
          "user": {
            "displayName": "Sirakorn Lamyai",
            "photoUrl": "//lh4.googleusercontent.com/-wZrHO4ylioI/AAAAAAAAAAI/AAAAAAAAiTI/MHjf1ZzXuz0/s50-c-k-no/photo.jpg",
            "userId": "112598566285839351739"
          }
        }
      },
      "source": [
        "array_a.ravel()"
      ],
      "cell_type": "code",
      "execution_count": 19,
      "outputs": [
        {
          "output_type": "execute_result",
          "data": {
            "text/plain": [
              "array([ 0. ,  0.1,  0.2,  0.3,  0.4,  1. ,  1.1,  1.2,  1.3,  1.4,  2. ,\n",
              "        2.1,  2.2,  2.3,  2.4,  3. ,  3.1,  3.2,  3.3,  3.4,  4. ,  4.1,\n",
              "        4.2,  4.3,  4.4])"
            ]
          },
          "metadata": {
            "tags": []
          },
          "execution_count": 19
        }
      ]
    },
    {
      "metadata": {
        "id": "g1m7k4zHeZRX",
        "colab_type": "text"
      },
      "source": [
        "## ฟังก์ชั่นทางคณิตศาสตร์ของ NumPy\n",
        "\n",
        "NumPy มาพร้อมฟังก์ชั่นทางคณิตศาสตร์ซึ่งสามารถใช้กับ NumPy array ได้"
      ],
      "cell_type": "markdown"
    },
    {
      "metadata": {
        "id": "D7SYJq6c-Nr_",
        "colab_type": "code",
        "colab": {
          "autoexec": {
            "startup": false,
            "wait_interval": 0
          },
          "output_extras": [
            {
              "item_id": 1
            }
          ],
          "base_uri": "https://localhost:8080/",
          "height": 70
        },
        "outputId": "369c6930-a424-4023-948a-64b8e555ab76",
        "executionInfo": {
          "status": "ok",
          "timestamp": 1512399026934,
          "user_tz": -420,
          "elapsed": 872,
          "user": {
            "displayName": "Sirakorn Lamyai",
            "photoUrl": "//lh4.googleusercontent.com/-wZrHO4ylioI/AAAAAAAAAAI/AAAAAAAAiTI/MHjf1ZzXuz0/s50-c-k-no/photo.jpg",
            "userId": "112598566285839351739"
          }
        }
      },
      "source": [
        "m = numpy.array([\n",
        "    [1, 2, 3],\n",
        "    [4, 5, 6],\n",
        "    [7, 8, 9]\n",
        "])\n",
        "# m = numpy.arange(9).reshape((3, 3))+1\n",
        "\n",
        "n = numpy.array([\n",
        "    [9, 8, 7],\n",
        "    [6, 5, 4],\n",
        "    [3, 2, 1]\n",
        "])\n",
        "# n = numpy.arange(9, -1, -1).reshape((3, 3))\n",
        "\n",
        "print(numpy.add(m, n))\n",
        "# ที่จริงจะ print(m+n) เลยก็ได้"
      ],
      "cell_type": "code",
      "execution_count": 20,
      "outputs": [
        {
          "output_type": "stream",
          "text": [
            "[[10 10 10]\n",
            " [10 10 10]\n",
            " [10 10 10]]\n"
          ],
          "name": "stdout"
        }
      ]
    },
    {
      "metadata": {
        "id": "_hxKtWFs_izJ",
        "colab_type": "code",
        "colab": {
          "autoexec": {
            "startup": false,
            "wait_interval": 0
          },
          "output_extras": [
            {
              "item_id": 1
            }
          ],
          "base_uri": "https://localhost:8080/",
          "height": 123
        },
        "outputId": "ccca25d7-b102-43fe-ed7e-ee2c5f7045ae",
        "executionInfo": {
          "status": "ok",
          "timestamp": 1512399027847,
          "user_tz": -420,
          "elapsed": 757,
          "user": {
            "displayName": "Sirakorn Lamyai",
            "photoUrl": "//lh4.googleusercontent.com/-wZrHO4ylioI/AAAAAAAAAAI/AAAAAAAAiTI/MHjf1ZzXuz0/s50-c-k-no/photo.jpg",
            "userId": "112598566285839351739"
          }
        }
      },
      "source": [
        "o = numpy.arange(0, 4.1, 0.2) * math.pi\n",
        "# o = [0, 0.2*pi, 0.4*pi, ..., 2*pi]\n",
        "\n",
        "sin_values = numpy.sin(o)\n",
        "print(sin_values)"
      ],
      "cell_type": "code",
      "execution_count": 21,
      "outputs": [
        {
          "output_type": "stream",
          "text": [
            "[  0.00000000e+00   5.87785252e-01   9.51056516e-01   9.51056516e-01\n",
            "   5.87785252e-01   1.22464680e-16  -5.87785252e-01  -9.51056516e-01\n",
            "  -9.51056516e-01  -5.87785252e-01  -2.44929360e-16   5.87785252e-01\n",
            "   9.51056516e-01   9.51056516e-01   5.87785252e-01   3.67394040e-16\n",
            "  -5.87785252e-01  -9.51056516e-01  -9.51056516e-01  -5.87785252e-01\n",
            "  -4.89858720e-16]\n"
          ],
          "name": "stdout"
        }
      ]
    },
    {
      "metadata": {
        "id": "bJA4Ao_v_pLx",
        "colab_type": "code",
        "colab": {
          "autoexec": {
            "startup": false,
            "wait_interval": 0
          },
          "output_extras": [
            {
              "item_id": 1
            }
          ],
          "base_uri": "https://localhost:8080/",
          "height": 388
        },
        "outputId": "285fd27d-3f31-42e2-d1d8-f51e492471ef",
        "executionInfo": {
          "status": "ok",
          "timestamp": 1512399028686,
          "user_tz": -420,
          "elapsed": 676,
          "user": {
            "displayName": "Sirakorn Lamyai",
            "photoUrl": "//lh4.googleusercontent.com/-wZrHO4ylioI/AAAAAAAAAAI/AAAAAAAAiTI/MHjf1ZzXuz0/s50-c-k-no/photo.jpg",
            "userId": "112598566285839351739"
          }
        }
      },
      "source": [
        "for sin_value in sin_values:\n",
        "  print(\" \"*(int(sin_value*5)+5) + \"*\")\n",
        "  \n",
        "# แสดงผลกราฟ sin แนวตั้ง จากค่า sin ที่คิดได้"
      ],
      "cell_type": "code",
      "execution_count": 22,
      "outputs": [
        {
          "output_type": "stream",
          "text": [
            "     *\n",
            "       *\n",
            "         *\n",
            "         *\n",
            "       *\n",
            "     *\n",
            "   *\n",
            " *\n",
            " *\n",
            "   *\n",
            "     *\n",
            "       *\n",
            "         *\n",
            "         *\n",
            "       *\n",
            "     *\n",
            "   *\n",
            " *\n",
            " *\n",
            "   *\n",
            "     *\n"
          ],
          "name": "stdout"
        }
      ]
    },
    {
      "metadata": {
        "id": "Nrf4Syqw8K_Q",
        "colab_type": "text"
      },
      "source": [
        "เราเรียกฟังก์ชั่นเหล่านี้ว่า `ufunc` (Universal functions) ซึ่งมีฟังก์ชั่นที่น่าสนใจ (หรือกล่าวได้ว่าใช้บ่อย) ดังนี้\n",
        "* add\n",
        "* subtract\n",
        "* multiply\n",
        "* divide\n",
        "* mod\n",
        "* sqrt\n",
        "* sin\n",
        "* cos\n",
        "* tan\n",
        "* arcsin\n",
        "* arccos\n",
        "* arctan\n",
        "\n",
        "หากสนใจสามารถดูรายการ `ufunc` ทั้งหมดที่มีได้[ที่นี่](https://docs.scipy.org/doc/numpy-1.13.0/reference/ufuncs.html#available-ufuncs)"
      ],
      "cell_type": "markdown"
    },
    {
      "metadata": {
        "id": "3tm-LIYQiCMT",
        "colab_type": "text"
      },
      "source": [
        "## ฟังก์ชั่นทางเมทริกซ์ [ไม่ออกสอบ]\n",
        "\n",
        "เราทราบดีว่าเราสามารถสร้าง NumPy array แทนเมทริกซ์ได้"
      ],
      "cell_type": "markdown"
    },
    {
      "metadata": {
        "id": "ll9yYtdiiDov",
        "colab_type": "code",
        "colab": {
          "autoexec": {
            "startup": false,
            "wait_interval": 0
          }
        }
      },
      "source": [
        "# สร้างเมทริกซ์เลขสุ่มของ [0, 1) ขนาด 4*4, คูณด้วย 10 แล้วแปลงเป็น int ทั้งหมด\n",
        "\n",
        "matrix_a = (numpy.random.rand(4,4)*10).astype(int)\n",
        "matrix_b = (numpy.random.rand(4,4)*10).astype(int)"
      ],
      "cell_type": "code",
      "execution_count": 0,
      "outputs": []
    },
    {
      "metadata": {
        "id": "CfCOL75piobm",
        "colab_type": "code",
        "colab": {
          "autoexec": {
            "startup": false,
            "wait_interval": 0
          },
          "output_extras": [
            {
              "item_id": 1
            }
          ],
          "base_uri": "https://localhost:8080/",
          "height": 88
        },
        "outputId": "dc9e9056-5fdb-4da2-90f3-6556ea8a31e8",
        "executionInfo": {
          "status": "ok",
          "timestamp": 1512399030507,
          "user_tz": -420,
          "elapsed": 667,
          "user": {
            "displayName": "Sirakorn Lamyai",
            "photoUrl": "//lh4.googleusercontent.com/-wZrHO4ylioI/AAAAAAAAAAI/AAAAAAAAiTI/MHjf1ZzXuz0/s50-c-k-no/photo.jpg",
            "userId": "112598566285839351739"
          }
        }
      },
      "source": [
        "matrix_a"
      ],
      "cell_type": "code",
      "execution_count": 24,
      "outputs": [
        {
          "output_type": "execute_result",
          "data": {
            "text/plain": [
              "array([[4, 9, 2, 0],\n",
              "       [5, 2, 6, 3],\n",
              "       [9, 8, 7, 9],\n",
              "       [9, 5, 9, 4]])"
            ]
          },
          "metadata": {
            "tags": []
          },
          "execution_count": 24
        }
      ]
    },
    {
      "metadata": {
        "id": "eu9ueaUgipWO",
        "colab_type": "code",
        "colab": {
          "autoexec": {
            "startup": false,
            "wait_interval": 0
          },
          "output_extras": [
            {
              "item_id": 1
            }
          ],
          "base_uri": "https://localhost:8080/",
          "height": 88
        },
        "outputId": "ef790aa9-f88b-4b60-a14c-99d7d4432f64",
        "executionInfo": {
          "status": "ok",
          "timestamp": 1512399031527,
          "user_tz": -420,
          "elapsed": 892,
          "user": {
            "displayName": "Sirakorn Lamyai",
            "photoUrl": "//lh4.googleusercontent.com/-wZrHO4ylioI/AAAAAAAAAAI/AAAAAAAAiTI/MHjf1ZzXuz0/s50-c-k-no/photo.jpg",
            "userId": "112598566285839351739"
          }
        }
      },
      "source": [
        "matrix_b"
      ],
      "cell_type": "code",
      "execution_count": 25,
      "outputs": [
        {
          "output_type": "execute_result",
          "data": {
            "text/plain": [
              "array([[9, 2, 0, 1],\n",
              "       [9, 3, 1, 5],\n",
              "       [4, 3, 9, 5],\n",
              "       [6, 8, 8, 5]])"
            ]
          },
          "metadata": {
            "tags": []
          },
          "execution_count": 25
        }
      ]
    },
    {
      "metadata": {
        "id": "2gywzdmOjLPs",
        "colab_type": "text"
      },
      "source": [
        "เราสามารถเปลี่ยนขนาดของ NumPy array ได้ด้วยคำสั่ง `reshape()`"
      ],
      "cell_type": "markdown"
    },
    {
      "metadata": {
        "id": "oCKGEIcLjQte",
        "colab_type": "code",
        "colab": {
          "autoexec": {
            "startup": false,
            "wait_interval": 0
          },
          "output_extras": [
            {
              "item_id": 1
            }
          ],
          "base_uri": "https://localhost:8080/",
          "height": 158
        },
        "outputId": "cf6fa268-a3b6-48a4-bbee-5fbc9d6aead5",
        "executionInfo": {
          "status": "ok",
          "timestamp": 1512399032529,
          "user_tz": -420,
          "elapsed": 677,
          "user": {
            "displayName": "Sirakorn Lamyai",
            "photoUrl": "//lh4.googleusercontent.com/-wZrHO4ylioI/AAAAAAAAAAI/AAAAAAAAiTI/MHjf1ZzXuz0/s50-c-k-no/photo.jpg",
            "userId": "112598566285839351739"
          }
        }
      },
      "source": [
        "matrix_a.reshape(8, 2)"
      ],
      "cell_type": "code",
      "execution_count": 26,
      "outputs": [
        {
          "output_type": "execute_result",
          "data": {
            "text/plain": [
              "array([[4, 9],\n",
              "       [2, 0],\n",
              "       [5, 2],\n",
              "       [6, 3],\n",
              "       [9, 8],\n",
              "       [7, 9],\n",
              "       [9, 5],\n",
              "       [9, 4]])"
            ]
          },
          "metadata": {
            "tags": []
          },
          "execution_count": 26
        }
      ]
    },
    {
      "metadata": {
        "id": "M3lM57z-jUNx",
        "colab_type": "text"
      },
      "source": [
        "และหาทรานส์โพสของ NumPy array ได้ด้วยพารามิเตอร์ `T`"
      ],
      "cell_type": "markdown"
    },
    {
      "metadata": {
        "id": "5Wd84FvMjZn-",
        "colab_type": "code",
        "colab": {
          "autoexec": {
            "startup": false,
            "wait_interval": 0
          },
          "output_extras": [
            {
              "item_id": 1
            }
          ],
          "base_uri": "https://localhost:8080/",
          "height": 88
        },
        "outputId": "5e8d2f6f-a74d-4e05-dc82-2a656a300b47",
        "executionInfo": {
          "status": "ok",
          "timestamp": 1512399033410,
          "user_tz": -420,
          "elapsed": 689,
          "user": {
            "displayName": "Sirakorn Lamyai",
            "photoUrl": "//lh4.googleusercontent.com/-wZrHO4ylioI/AAAAAAAAAAI/AAAAAAAAiTI/MHjf1ZzXuz0/s50-c-k-no/photo.jpg",
            "userId": "112598566285839351739"
          }
        }
      },
      "source": [
        "matrix_a.T"
      ],
      "cell_type": "code",
      "execution_count": 27,
      "outputs": [
        {
          "output_type": "execute_result",
          "data": {
            "text/plain": [
              "array([[4, 5, 9, 9],\n",
              "       [9, 2, 8, 5],\n",
              "       [2, 6, 7, 9],\n",
              "       [0, 3, 9, 4]])"
            ]
          },
          "metadata": {
            "tags": []
          },
          "execution_count": 27
        }
      ]
    },
    {
      "metadata": {
        "id": "Lb-MAG8XkDJV",
        "colab_type": "text"
      },
      "source": [
        "### การคูณเมทริกซ์ [ไม่ออกสอบ]\n",
        "\n",
        "หากเราจับ `matrix_a * matrix_b` ตรงๆ เราจะได้ผลลัพธ์ของ A\\*B เป็นการคูณเรียงตัว ($(A*B)_{ij} = A_{ij} \\times B_{ij}$)"
      ],
      "cell_type": "markdown"
    },
    {
      "metadata": {
        "id": "zBhx2PM9kZQ4",
        "colab_type": "code",
        "colab": {
          "autoexec": {
            "startup": false,
            "wait_interval": 0
          },
          "output_extras": [
            {
              "item_id": 1
            }
          ],
          "base_uri": "https://localhost:8080/",
          "height": 88
        },
        "outputId": "2e535a5e-624b-4254-b0cb-2faca6ff5d5e",
        "executionInfo": {
          "status": "ok",
          "timestamp": 1512399034402,
          "user_tz": -420,
          "elapsed": 756,
          "user": {
            "displayName": "Sirakorn Lamyai",
            "photoUrl": "//lh4.googleusercontent.com/-wZrHO4ylioI/AAAAAAAAAAI/AAAAAAAAiTI/MHjf1ZzXuz0/s50-c-k-no/photo.jpg",
            "userId": "112598566285839351739"
          }
        }
      },
      "source": [
        "matrix_a * matrix_b"
      ],
      "cell_type": "code",
      "execution_count": 28,
      "outputs": [
        {
          "output_type": "execute_result",
          "data": {
            "text/plain": [
              "array([[36, 18,  0,  0],\n",
              "       [45,  6,  6, 15],\n",
              "       [36, 24, 63, 45],\n",
              "       [54, 40, 72, 20]])"
            ]
          },
          "metadata": {
            "tags": []
          },
          "execution_count": 28
        }
      ]
    },
    {
      "metadata": {
        "id": "rPE_UrcEkcIb",
        "colab_type": "text"
      },
      "source": [
        "หากต้องการคูณเมทริกซ์ ให้ใช้คำสั่ง `numpy.dot()`"
      ],
      "cell_type": "markdown"
    },
    {
      "metadata": {
        "id": "31Z7WvPeke9f",
        "colab_type": "code",
        "colab": {
          "autoexec": {
            "startup": false,
            "wait_interval": 0
          },
          "output_extras": [
            {
              "item_id": 1
            }
          ],
          "base_uri": "https://localhost:8080/",
          "height": 88
        },
        "outputId": "cda012d4-6a15-45e9-b791-73f2707e6270",
        "executionInfo": {
          "status": "ok",
          "timestamp": 1512399035282,
          "user_tz": -420,
          "elapsed": 725,
          "user": {
            "displayName": "Sirakorn Lamyai",
            "photoUrl": "//lh4.googleusercontent.com/-wZrHO4ylioI/AAAAAAAAAAI/AAAAAAAAiTI/MHjf1ZzXuz0/s50-c-k-no/photo.jpg",
            "userId": "112598566285839351739"
          }
        }
      },
      "source": [
        "numpy.dot(matrix_a, matrix_b)"
      ],
      "cell_type": "code",
      "execution_count": 29,
      "outputs": [
        {
          "output_type": "execute_result",
          "data": {
            "text/plain": [
              "array([[125,  41,  27,  59],\n",
              "       [105,  58,  80,  60],\n",
              "       [235, 135, 143, 129],\n",
              "       [186,  92, 118,  99]])"
            ]
          },
          "metadata": {
            "tags": []
          },
          "execution_count": 29
        }
      ]
    },
    {
      "metadata": {
        "id": "POEHfhWSk1d-",
        "colab_type": "text"
      },
      "source": [
        "ในขณะเดียวกันก็มีคำสั่ง `numpy.cross()` สำหรับครอสเวกเตอร์เช่นกัน (ใม่ใช่ matrix แล้ว)"
      ],
      "cell_type": "markdown"
    },
    {
      "metadata": {
        "id": "PVdZS-gZkwkU",
        "colab_type": "code",
        "colab": {
          "autoexec": {
            "startup": false,
            "wait_interval": 0
          },
          "output_extras": [
            {
              "item_id": 1
            }
          ],
          "base_uri": "https://localhost:8080/",
          "height": 35
        },
        "outputId": "49f64ab7-b2c3-4dbe-c151-d6345e3ecc26",
        "executionInfo": {
          "status": "ok",
          "timestamp": 1512399036194,
          "user_tz": -420,
          "elapsed": 653,
          "user": {
            "displayName": "Sirakorn Lamyai",
            "photoUrl": "//lh4.googleusercontent.com/-wZrHO4ylioI/AAAAAAAAAAI/AAAAAAAAiTI/MHjf1ZzXuz0/s50-c-k-no/photo.jpg",
            "userId": "112598566285839351739"
          }
        }
      },
      "source": [
        "numpy.cross(vec_u, vec_v)\n",
        "# ถ้าจำไม่ได้ว่า vec_u, vec_v มาจากไหน ให้ขึ้นไปบนสุด"
      ],
      "cell_type": "code",
      "execution_count": 30,
      "outputs": [
        {
          "output_type": "execute_result",
          "data": {
            "text/plain": [
              "array([-1,  2, -1])"
            ]
          },
          "metadata": {
            "tags": []
          },
          "execution_count": 30
        }
      ]
    },
    {
      "metadata": {
        "id": "h9iihxO6lGMh",
        "colab_type": "text"
      },
      "source": [
        "### ดีเทอร์มิแนนท์ และอินเวิร์ส [ไม่ออกสอบ]"
      ],
      "cell_type": "markdown"
    },
    {
      "metadata": {
        "id": "GbtMcettlfl2",
        "colab_type": "text"
      },
      "source": [
        "ไลบรารี NumPy มีไลบรารีย่อย `numpy.linalg` สำหรับจัดการ linear algebra เป็นพิเศษ คำสั่งทางเมทริกซ์หลายคำสั่งอยู่ในไลบรารีย่อยนี้\n",
        "\n",
        "สามารถหาดีเทอร์มิแนนท์ได้ด้วยคำสั่ง `numpy.linalg.det()` และหาอินเวิร์สได้ด้วยคำสั่ง `numpy.linalg.inv()`"
      ],
      "cell_type": "markdown"
    },
    {
      "metadata": {
        "id": "tZAmFgVzlboX",
        "colab_type": "code",
        "colab": {
          "autoexec": {
            "startup": false,
            "wait_interval": 0
          },
          "output_extras": [
            {
              "item_id": 1
            }
          ],
          "base_uri": "https://localhost:8080/",
          "height": 35
        },
        "outputId": "e0111536-eb3e-47c6-da0c-a27a1698d41a",
        "executionInfo": {
          "status": "ok",
          "timestamp": 1512399037041,
          "user_tz": -420,
          "elapsed": 708,
          "user": {
            "displayName": "Sirakorn Lamyai",
            "photoUrl": "//lh4.googleusercontent.com/-wZrHO4ylioI/AAAAAAAAAAI/AAAAAAAAiTI/MHjf1ZzXuz0/s50-c-k-no/photo.jpg",
            "userId": "112598566285839351739"
          }
        }
      },
      "source": [
        "numpy.linalg.det(matrix_a)"
      ],
      "cell_type": "code",
      "execution_count": 31,
      "outputs": [
        {
          "output_type": "execute_result",
          "data": {
            "text/plain": [
              "-310.99999999999966"
            ]
          },
          "metadata": {
            "tags": []
          },
          "execution_count": 31
        }
      ]
    },
    {
      "metadata": {
        "id": "c-6qNqlZlnNt",
        "colab_type": "code",
        "colab": {
          "autoexec": {
            "startup": false,
            "wait_interval": 0
          },
          "output_extras": [
            {
              "item_id": 1
            }
          ],
          "base_uri": "https://localhost:8080/",
          "height": 88
        },
        "outputId": "0eee5f51-4fdf-4a93-d494-9c5eb0bcd3b1",
        "executionInfo": {
          "status": "ok",
          "timestamp": 1512399037957,
          "user_tz": -420,
          "elapsed": 760,
          "user": {
            "displayName": "Sirakorn Lamyai",
            "photoUrl": "//lh4.googleusercontent.com/-wZrHO4ylioI/AAAAAAAAAAI/AAAAAAAAiTI/MHjf1ZzXuz0/s50-c-k-no/photo.jpg",
            "userId": "112598566285839351739"
          }
        }
      },
      "source": [
        "numpy.linalg.inv(matrix_a)"
      ],
      "cell_type": "code",
      "execution_count": 32,
      "outputs": [
        {
          "output_type": "execute_result",
          "data": {
            "text/plain": [
              "array([[-0.26688103, -1.45016077,  0.04180064,  0.99356913],\n",
              "       [ 0.18971061,  0.39228296,  0.00643087, -0.30868167],\n",
              "       [ 0.18006431,  1.13504823, -0.11254019, -0.59807074],\n",
              "       [-0.04180064,  0.21864952,  0.1511254 , -0.25401929]])"
            ]
          },
          "metadata": {
            "tags": []
          },
          "execution_count": 32
        }
      ]
    },
    {
      "metadata": {
        "id": "CfWYQJbnlqGg",
        "colab_type": "code",
        "colab": {
          "autoexec": {
            "startup": false,
            "wait_interval": 0
          },
          "output_extras": [
            {
              "item_id": 1
            }
          ],
          "base_uri": "https://localhost:8080/",
          "height": 158
        },
        "outputId": "e9bbbe53-cba7-4011-960d-7f0ead306d33",
        "executionInfo": {
          "status": "ok",
          "timestamp": 1512399039071,
          "user_tz": -420,
          "elapsed": 995,
          "user": {
            "displayName": "Sirakorn Lamyai",
            "photoUrl": "//lh4.googleusercontent.com/-wZrHO4ylioI/AAAAAAAAAAI/AAAAAAAAiTI/MHjf1ZzXuz0/s50-c-k-no/photo.jpg",
            "userId": "112598566285839351739"
          }
        }
      },
      "source": [
        "numpy.dot(matrix_a, numpy.linalg.inv(matrix_a))\n",
        "# สังเกตว่าค่ามีความใกล้เคียงเมทริกซ์เอกลักษณ์ ที่ไม่เป๊ะเพราะ floating point precision"
      ],
      "cell_type": "code",
      "execution_count": 33,
      "outputs": [
        {
          "output_type": "execute_result",
          "data": {
            "text/plain": [
              "array([[  1.00000000e+00,  -1.33226763e-15,   5.55111512e-17,\n",
              "          2.22044605e-16],\n",
              "       [  1.94289029e-16,   1.00000000e+00,  -8.32667268e-17,\n",
              "         -3.88578059e-16],\n",
              "       [  8.32667268e-17,  -5.82867088e-16,   1.00000000e+00,\n",
              "         -2.77555756e-16],\n",
              "       [  8.32667268e-17,  -1.22124533e-15,  -1.11022302e-16,\n",
              "          1.00000000e+00]])"
            ]
          },
          "metadata": {
            "tags": []
          },
          "execution_count": 33
        }
      ]
    }
  ]
}