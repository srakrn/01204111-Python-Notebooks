{
  "nbformat": 4,
  "nbformat_minor": 0,
  "metadata": {
    "colab": {
      "name": "Untitled0.ipynb",
      "version": "0.3.2",
      "views": {},
      "default_view": {},
      "provenance": []
    }
  },
  "cells": [
    {
      "metadata": {
        "id": "NutvBzo_VcpT",
        "colab_type": "text"
      },
      "source": [
        "# NumPy แบบเร่งรัด\n",
        "### @srakrn"
      ],
      "cell_type": "markdown"
    },
    {
      "metadata": {
        "id": "oQ0wod-gVhw-",
        "colab_type": "text"
      },
      "source": [
        "## รู้จัก NumPy\n",
        "\n",
        "NumPy เป็นไลบรารี่สำหรับการทำงานทางคณิตศาสตร์ที่ทรงพลัง หนึ่งในตัวอย่างที่ผู้เขียนมักหยิบมาเพื่อยกตัวอย่างความสามารถของ NumPy คือการดำเนินการทางเวกเตอร์ของ NumPy\n",
        "\n",
        "หากเรามีเวกเตอร์ $\\vec{u}=2\\hat{i}+3\\hat{j}+4\\hat{k}$ และ $\\vec{v}=3\\hat{i}+4\\hat{j}+5\\hat{k}$ เราอาจเขียนแทนค่าของ $\\vec{u}$ และ $\\vec{v}$ ได้ด้วย Tuple ดังนี้"
      ],
      "cell_type": "markdown"
    },
    {
      "metadata": {
        "id": "SEGIIsVlWJcW",
        "colab_type": "code",
        "colab": {
          "autoexec": {
            "startup": false,
            "wait_interval": 0
          }
        }
      },
      "source": [
        "vec_u_tuple = (2, 3, 4)\n",
        "vec_v_tuple = (3, 4, 5)"
      ],
      "cell_type": "code",
      "execution_count": 0,
      "outputs": []
    },
    {
      "metadata": {
        "id": "NKe1pZlJWO2V",
        "colab_type": "text"
      },
      "source": [
        "หากเราต้องการหาค่าของ $\\vec{u}+\\vec{v}$ เราจะพบว่าเมื่อเรานำตัวแปรทั้งสองตัวมาบวกกัน..."
      ],
      "cell_type": "markdown"
    },
    {
      "metadata": {
        "id": "0l15DZEYWWYI",
        "colab_type": "code",
        "colab": {
          "autoexec": {
            "startup": false,
            "wait_interval": 0
          },
          "output_extras": [
            {
              "item_id": 1
            }
          ],
          "base_uri": "https://localhost:8080/",
          "height": 35
        },
        "outputId": "fa6d2cff-1b9d-42cf-98ec-88424d1eaa68",
        "executionInfo": {
          "status": "ok",
          "timestamp": 1510626828277,
          "user_tz": -420,
          "elapsed": 1021,
          "user": {
            "displayName": "Sirakorn Lamyai",
            "photoUrl": "//lh4.googleusercontent.com/-wZrHO4ylioI/AAAAAAAAAAI/AAAAAAAAiTI/MHjf1ZzXuz0/s50-c-k-no/photo.jpg",
            "userId": "112598566285839351739"
          }
        }
      },
      "source": [
        "vec_u_tuple + vec_v_tuple"
      ],
      "cell_type": "code",
      "execution_count": 2,
      "outputs": [
        {
          "output_type": "execute_result",
          "data": {
            "text/plain": [
              "(2, 3, 4, 3, 4, 5)"
            ]
          },
          "metadata": {
            "tags": []
          },
          "execution_count": 2
        }
      ]
    },
    {
      "metadata": {
        "id": "JvHWV8FqWZ-E",
        "colab_type": "text"
      },
      "source": [
        "จะกลายเป็นการทำ Tuple มาต่อกันแทน"
      ],
      "cell_type": "markdown"
    },
    {
      "metadata": {
        "id": "papRVyISWeIQ",
        "colab_type": "text"
      },
      "source": [
        "## การนำเข้าโมดูล NumPy\n",
        "\n",
        "การนำเข้าไลบรารี NumPy สามารถทำได้โดยใช้คำสั่ง"
      ],
      "cell_type": "markdown"
    },
    {
      "metadata": {
        "id": "LLKEvKybWkuc",
        "colab_type": "code",
        "colab": {
          "autoexec": {
            "startup": false,
            "wait_interval": 0
          }
        }
      },
      "source": [
        "import numpy\n",
        "# จะเห็นว่าใช้วิธีเดียวกับ import math เลย\n",
        "import math"
      ],
      "cell_type": "code",
      "execution_count": 0,
      "outputs": []
    },
    {
      "metadata": {
        "id": "pmh3SYArWo5Q",
        "colab_type": "text"
      },
      "source": [
        "ซึ่งจะทำให้ได้ชุดคำสั่งจากไลบรารี NumPy ตามที่ต้องการ"
      ],
      "cell_type": "markdown"
    },
    {
      "metadata": {
        "id": "hgm8MYEwWyeR",
        "colab_type": "text"
      },
      "source": [
        "## numpy.array"
      ],
      "cell_type": "markdown"
    },
    {
      "metadata": {
        "id": "Qv2ITBB0W2c7",
        "colab_type": "text"
      },
      "source": [
        "NumPy มาพร้อมชนิดข้อมูลหนึ่งตัวที่สำคัญนั่นคือ `numpy.array` เราสามารถแปลงลิสต์ หรือทูเปิลใดๆ ไปเป็น NumPy array ได้ด้วยการใช้คำสั่ง `numpy.array()` ครอบ (เช่นเดียวกับการแปลง int/float)"
      ],
      "cell_type": "markdown"
    },
    {
      "metadata": {
        "id": "roOXxHOkXFXx",
        "colab_type": "code",
        "colab": {
          "autoexec": {
            "startup": false,
            "wait_interval": 0
          }
        }
      },
      "source": [
        "vec_u = numpy.array(vec_u_tuple)\n",
        "vec_v = numpy.array(vec_v_tuple)"
      ],
      "cell_type": "code",
      "execution_count": 0,
      "outputs": []
    },
    {
      "metadata": {
        "id": "lcpG3d4oXMYp",
        "colab_type": "text"
      },
      "source": [
        "### การดำเนินการทางคณิตศาสตร์ของ NumPy array\n",
        "\n",
        "เราจะพบว่าเมื่อเรานำ `vec_u` และ `vec_v` มาบวกกัน"
      ],
      "cell_type": "markdown"
    },
    {
      "metadata": {
        "id": "s3BV-qjwXQuL",
        "colab_type": "code",
        "colab": {
          "autoexec": {
            "startup": false,
            "wait_interval": 0
          },
          "output_extras": [
            {
              "item_id": 1
            }
          ],
          "base_uri": "https://localhost:8080/",
          "height": 35
        },
        "outputId": "4c138fd4-7f96-4260-f351-dcc24c69cb56",
        "executionInfo": {
          "status": "ok",
          "timestamp": 1510626831819,
          "user_tz": -420,
          "elapsed": 867,
          "user": {
            "displayName": "Sirakorn Lamyai",
            "photoUrl": "//lh4.googleusercontent.com/-wZrHO4ylioI/AAAAAAAAAAI/AAAAAAAAiTI/MHjf1ZzXuz0/s50-c-k-no/photo.jpg",
            "userId": "112598566285839351739"
          }
        }
      },
      "source": [
        "vec_u + vec_v"
      ],
      "cell_type": "code",
      "execution_count": 5,
      "outputs": [
        {
          "output_type": "execute_result",
          "data": {
            "text/plain": [
              "array([5, 7, 9])"
            ]
          },
          "metadata": {
            "tags": []
          },
          "execution_count": 5
        }
      ]
    },
    {
      "metadata": {
        "id": "IyXZJwBtXTgv",
        "colab_type": "text"
      },
      "source": [
        "จะได้ค่าของ $\\vec{u}+\\vec{v}$ ตามที่ต้องการ นั่นหมายถึงว่าชนิดข้อมูล `numpy.array` ถูกออกแบบโดยเน้นการใช้งานทางคณิตศาสตร์เป็นหลัก\n",
        "\n",
        "ในขณะเดียวกัน เราสามารถใช้ตัวดำเนินการ + - * / กับ `numpy.array` ได้ด้วย ซึ่งจะให้ผลเป็นการที่สมาชิกทุกตัวของ `numpy.array` ถูกกระทำ"
      ],
      "cell_type": "markdown"
    },
    {
      "metadata": {
        "id": "wKaCxszjX0GC",
        "colab_type": "code",
        "colab": {
          "autoexec": {
            "startup": false,
            "wait_interval": 0
          },
          "output_extras": [
            {
              "item_id": 1
            }
          ],
          "base_uri": "https://localhost:8080/",
          "height": 35
        },
        "outputId": "58435b77-bc24-4882-9d0c-915f6be192c4",
        "executionInfo": {
          "status": "ok",
          "timestamp": 1510626856021,
          "user_tz": -420,
          "elapsed": 1090,
          "user": {
            "displayName": "Sirakorn Lamyai",
            "photoUrl": "//lh4.googleusercontent.com/-wZrHO4ylioI/AAAAAAAAAAI/AAAAAAAAiTI/MHjf1ZzXuz0/s50-c-k-no/photo.jpg",
            "userId": "112598566285839351739"
          }
        }
      },
      "source": [
        "vec_u"
      ],
      "cell_type": "code",
      "execution_count": 7,
      "outputs": [
        {
          "output_type": "execute_result",
          "data": {
            "text/plain": [
              "array([2, 3, 4])"
            ]
          },
          "metadata": {
            "tags": []
          },
          "execution_count": 7
        }
      ]
    },
    {
      "metadata": {
        "id": "xveAoNDXYGVB",
        "colab_type": "code",
        "colab": {
          "autoexec": {
            "startup": false,
            "wait_interval": 0
          },
          "output_extras": [
            {
              "item_id": 1
            }
          ],
          "base_uri": "https://localhost:8080/",
          "height": 35
        },
        "outputId": "e146b994-0506-4710-86ed-595aec66f5a1",
        "executionInfo": {
          "status": "ok",
          "timestamp": 1510626858008,
          "user_tz": -420,
          "elapsed": 907,
          "user": {
            "displayName": "Sirakorn Lamyai",
            "photoUrl": "//lh4.googleusercontent.com/-wZrHO4ylioI/AAAAAAAAAAI/AAAAAAAAiTI/MHjf1ZzXuz0/s50-c-k-no/photo.jpg",
            "userId": "112598566285839351739"
          }
        }
      },
      "source": [
        "vec_u + 2"
      ],
      "cell_type": "code",
      "execution_count": 8,
      "outputs": [
        {
          "output_type": "execute_result",
          "data": {
            "text/plain": [
              "array([4, 5, 6])"
            ]
          },
          "metadata": {
            "tags": []
          },
          "execution_count": 8
        }
      ]
    },
    {
      "metadata": {
        "id": "bCtyMGMJYHXr",
        "colab_type": "code",
        "colab": {
          "autoexec": {
            "startup": false,
            "wait_interval": 0
          },
          "output_extras": [
            {
              "item_id": 1
            }
          ],
          "base_uri": "https://localhost:8080/",
          "height": 35
        },
        "outputId": "ce315e5b-4b7b-4553-8ac2-0ac95d7eaf12",
        "executionInfo": {
          "status": "ok",
          "timestamp": 1510626859987,
          "user_tz": -420,
          "elapsed": 915,
          "user": {
            "displayName": "Sirakorn Lamyai",
            "photoUrl": "//lh4.googleusercontent.com/-wZrHO4ylioI/AAAAAAAAAAI/AAAAAAAAiTI/MHjf1ZzXuz0/s50-c-k-no/photo.jpg",
            "userId": "112598566285839351739"
          }
        }
      },
      "source": [
        "vec_u * 3"
      ],
      "cell_type": "code",
      "execution_count": 9,
      "outputs": [
        {
          "output_type": "execute_result",
          "data": {
            "text/plain": [
              "array([ 6,  9, 12])"
            ]
          },
          "metadata": {
            "tags": []
          },
          "execution_count": 9
        }
      ]
    },
    {
      "metadata": {
        "id": "Z8j-iDwVYQUt",
        "colab_type": "text"
      },
      "source": [
        "### `numpy.arange()`\n",
        "\n",
        "เราสามารถใช้คำสั่ง `numpy.arange()` สร้าง NumPy array ที่จะให้ผลลัพธ์ลักษณะเดียวกับ `range()` ของไพธอนได้"
      ],
      "cell_type": "markdown"
    },
    {
      "metadata": {
        "id": "nXf7FpptYbDe",
        "colab_type": "code",
        "colab": {
          "autoexec": {
            "startup": false,
            "wait_interval": 0
          },
          "output_extras": [
            {
              "item_id": 1
            }
          ],
          "base_uri": "https://localhost:8080/",
          "height": 52
        },
        "outputId": "a9681c3d-60fa-417b-ce4b-2d810a0b36a1",
        "executionInfo": {
          "status": "ok",
          "timestamp": 1510626996782,
          "user_tz": -420,
          "elapsed": 1000,
          "user": {
            "displayName": "Sirakorn Lamyai",
            "photoUrl": "//lh4.googleusercontent.com/-wZrHO4ylioI/AAAAAAAAAAI/AAAAAAAAiTI/MHjf1ZzXuz0/s50-c-k-no/photo.jpg",
            "userId": "112598566285839351739"
          }
        }
      },
      "source": [
        "# สร้าง range ของ [1, 5) โดยเพิ่มขึ้นทีละ 0.2\n",
        "numpy.arange(1, 5, 0.2)"
      ],
      "cell_type": "code",
      "execution_count": 13,
      "outputs": [
        {
          "output_type": "execute_result",
          "data": {
            "text/plain": [
              "array([ 1. ,  1.2,  1.4,  1.6,  1.8,  2. ,  2.2,  2.4,  2.6,  2.8,  3. ,\n",
              "        3.2,  3.4,  3.6,  3.8,  4. ,  4.2,  4.4,  4.6,  4.8])"
            ]
          },
          "metadata": {
            "tags": []
          },
          "execution_count": 13
        }
      ]
    },
    {
      "metadata": {
        "id": "xanRqXrgYMzF",
        "colab_type": "text"
      },
      "source": [
        "### array ขนาดหลายมิติ\n",
        "\n",
        "ในขณะเดียวกัน NumPy array ไม่ได้จำกัดอยู่เพียงแค่ขนาดหนึ่งมิติ เราสามารถขยาย array ออกไปเป็นสอง หรือสามมิติได้ ตัวอย่างด้านล่างคือ array ขนาดสองมิติ"
      ],
      "cell_type": "markdown"
    },
    {
      "metadata": {
        "id": "n-u40y-2Y0MA",
        "colab_type": "code",
        "colab": {
          "autoexec": {
            "startup": false,
            "wait_interval": 0
          },
          "output_extras": [
            {
              "item_id": 1
            }
          ],
          "base_uri": "https://localhost:8080/",
          "height": 70
        },
        "outputId": "620109f1-6dac-4060-af90-54b8665c3a1b",
        "executionInfo": {
          "status": "ok",
          "timestamp": 1510627120292,
          "user_tz": -420,
          "elapsed": 935,
          "user": {
            "displayName": "Sirakorn Lamyai",
            "photoUrl": "//lh4.googleusercontent.com/-wZrHO4ylioI/AAAAAAAAAAI/AAAAAAAAiTI/MHjf1ZzXuz0/s50-c-k-no/photo.jpg",
            "userId": "112598566285839351739"
          }
        }
      },
      "source": [
        "numpy.array([\n",
        "    [1, 2, 3],\n",
        "    [4, 5, 6],\n",
        "    [7, 8, 9]\n",
        "])"
      ],
      "cell_type": "code",
      "execution_count": 15,
      "outputs": [
        {
          "output_type": "execute_result",
          "data": {
            "text/plain": [
              "array([[1, 2, 3],\n",
              "       [4, 5, 6],\n",
              "       [7, 8, 9]])"
            ]
          },
          "metadata": {
            "tags": []
          },
          "execution_count": 15
        }
      ]
    },
    {
      "metadata": {
        "id": "OOVKmobbZLvn",
        "colab_type": "text"
      },
      "source": [
        "เราสามารถสร้าง array ขนาด n มิติของค่า 0 ได้ด้วยคำสั่ง `numpy.zeros()`"
      ],
      "cell_type": "markdown"
    },
    {
      "metadata": {
        "id": "x8k3-Hp_ZTkg",
        "colab_type": "code",
        "colab": {
          "autoexec": {
            "startup": false,
            "wait_interval": 0
          },
          "output_extras": [
            {
              "item_id": 1
            }
          ],
          "base_uri": "https://localhost:8080/",
          "height": 52
        },
        "outputId": "9a08ddfa-3049-4df8-e7d8-93754d9bd964",
        "executionInfo": {
          "status": "ok",
          "timestamp": 1510627204669,
          "user_tz": -420,
          "elapsed": 986,
          "user": {
            "displayName": "Sirakorn Lamyai",
            "photoUrl": "//lh4.googleusercontent.com/-wZrHO4ylioI/AAAAAAAAAAI/AAAAAAAAiTI/MHjf1ZzXuz0/s50-c-k-no/photo.jpg",
            "userId": "112598566285839351739"
          }
        }
      },
      "source": [
        "# สร้าง NumPy array ขนาด 2*3 ที่มีแต่ค่า 0\n",
        "numpy.zeros([2, 3])"
      ],
      "cell_type": "code",
      "execution_count": 17,
      "outputs": [
        {
          "output_type": "execute_result",
          "data": {
            "text/plain": [
              "array([[ 0.,  0.,  0.],\n",
              "       [ 0.,  0.,  0.]])"
            ]
          },
          "metadata": {
            "tags": []
          },
          "execution_count": 17
        }
      ]
    },
    {
      "metadata": {
        "id": "dhT78xdVZeHk",
        "colab_type": "text"
      },
      "source": [
        "และสร้าง array ในรูปแบบเดียวกันของค่า 1 ได้ด้วยคำสั่ง `numpy.ones()`"
      ],
      "cell_type": "markdown"
    },
    {
      "metadata": {
        "id": "439AHKfkZjIU",
        "colab_type": "code",
        "colab": {
          "autoexec": {
            "startup": false,
            "wait_interval": 0
          },
          "output_extras": [
            {
              "item_id": 1
            }
          ],
          "base_uri": "https://localhost:8080/",
          "height": 88
        },
        "outputId": "ab37731d-83ab-4889-c008-5503de3e3e6a",
        "executionInfo": {
          "status": "ok",
          "timestamp": 1510627247158,
          "user_tz": -420,
          "elapsed": 863,
          "user": {
            "displayName": "Sirakorn Lamyai",
            "photoUrl": "//lh4.googleusercontent.com/-wZrHO4ylioI/AAAAAAAAAAI/AAAAAAAAiTI/MHjf1ZzXuz0/s50-c-k-no/photo.jpg",
            "userId": "112598566285839351739"
          }
        }
      },
      "source": [
        "# สร้าง NumPy array ขนาด 4*5 ที่มีแต่ค่า 1\n",
        "numpy.ones([4, 5])"
      ],
      "cell_type": "code",
      "execution_count": 19,
      "outputs": [
        {
          "output_type": "execute_result",
          "data": {
            "text/plain": [
              "array([[ 1.,  1.,  1.,  1.,  1.],\n",
              "       [ 1.,  1.,  1.,  1.,  1.],\n",
              "       [ 1.,  1.,  1.,  1.,  1.],\n",
              "       [ 1.,  1.,  1.,  1.,  1.]])"
            ]
          },
          "metadata": {
            "tags": []
          },
          "execution_count": 19
        }
      ]
    },
    {
      "metadata": {
        "id": "aaTvORyHZpK7",
        "colab_type": "text"
      },
      "source": [
        "ฟังก์ชั่นในการช่วยสร้าง NumPy array ยังมีอีกเยอะ เช่นฟังก์ชั่นด้านล่างนี้*เสก*เมทริกซ์เอกลักษณ์มาให้เราได้ทันที"
      ],
      "cell_type": "markdown"
    },
    {
      "metadata": {
        "id": "zPMObXBTZ3j4",
        "colab_type": "code",
        "colab": {
          "autoexec": {
            "startup": false,
            "wait_interval": 0
          },
          "output_extras": [
            {
              "item_id": 1
            }
          ],
          "base_uri": "https://localhost:8080/",
          "height": 88
        },
        "outputId": "4e33c087-abf3-4c20-c525-66297577e4de",
        "executionInfo": {
          "status": "ok",
          "timestamp": 1510627319974,
          "user_tz": -420,
          "elapsed": 989,
          "user": {
            "displayName": "Sirakorn Lamyai",
            "photoUrl": "//lh4.googleusercontent.com/-wZrHO4ylioI/AAAAAAAAAAI/AAAAAAAAiTI/MHjf1ZzXuz0/s50-c-k-no/photo.jpg",
            "userId": "112598566285839351739"
          }
        }
      },
      "source": [
        "numpy.identity(4)"
      ],
      "cell_type": "code",
      "execution_count": 20,
      "outputs": [
        {
          "output_type": "execute_result",
          "data": {
            "text/plain": [
              "array([[ 1.,  0.,  0.,  0.],\n",
              "       [ 0.,  1.,  0.,  0.],\n",
              "       [ 0.,  0.,  1.,  0.],\n",
              "       [ 0.,  0.,  0.,  1.]])"
            ]
          },
          "metadata": {
            "tags": []
          },
          "execution_count": 20
        }
      ]
    },
    {
      "metadata": {
        "id": "4rX-vTUNaCar",
        "colab_type": "text"
      },
      "source": [
        "### Slicing สำหรับ NumPy array"
      ],
      "cell_type": "markdown"
    },
    {
      "metadata": {
        "id": "BE2bMCBWaHVx",
        "colab_type": "text"
      },
      "source": [
        "กำหนด `array_a` เป็นอาร์เรย์ของค่าด้านล่าง"
      ],
      "cell_type": "markdown"
    },
    {
      "metadata": {
        "id": "mUrQFpD_aNjm",
        "colab_type": "code",
        "colab": {
          "autoexec": {
            "startup": false,
            "wait_interval": 0
          }
        }
      },
      "source": [
        "array_a = numpy.array([\n",
        "    [0.0, 0.1, 0.2, 0.3, 0.4],\n",
        "    [1.0, 1.1, 1.2, 1.3, 1.4],\n",
        "    [2.0, 2.1, 2.2, 2.3, 2.4],\n",
        "    [3.0, 3.1, 3.2, 3.3, 3.4],\n",
        "    [4.0, 4.1, 4.2, 4.3, 4.4]\n",
        "])\n",
        "\n",
        "# array_a = numpy.array([x+numpy.arange(0, 0.5, 0.1) for x in range(5)])"
      ],
      "cell_type": "code",
      "execution_count": 0,
      "outputs": []
    },
    {
      "metadata": {
        "id": "plINjewXacy1",
        "colab_type": "text"
      },
      "source": [
        "เราทราบดีอยู่แล้วว่าเราสามารถ slice ข้อมูลตามปกติในแบบไพธอนได้"
      ],
      "cell_type": "markdown"
    },
    {
      "metadata": {
        "id": "l2VTRLLwaktV",
        "colab_type": "code",
        "colab": {
          "autoexec": {
            "startup": false,
            "wait_interval": 0
          },
          "output_extras": [
            {
              "item_id": 1
            }
          ],
          "base_uri": "https://localhost:8080/",
          "height": 52
        },
        "outputId": "23b99722-e947-4d83-dbb2-d0e5d0ada113",
        "executionInfo": {
          "status": "ok",
          "timestamp": 1510627620830,
          "user_tz": -420,
          "elapsed": 1027,
          "user": {
            "displayName": "Sirakorn Lamyai",
            "photoUrl": "//lh4.googleusercontent.com/-wZrHO4ylioI/AAAAAAAAAAI/AAAAAAAAiTI/MHjf1ZzXuz0/s50-c-k-no/photo.jpg",
            "userId": "112598566285839351739"
          }
        }
      },
      "source": [
        "array_a[0:2]"
      ],
      "cell_type": "code",
      "execution_count": 31,
      "outputs": [
        {
          "output_type": "execute_result",
          "data": {
            "text/plain": [
              "array([[ 0. ,  0.1,  0.2,  0.3,  0.4],\n",
              "       [ 1. ,  1.1,  1.2,  1.3,  1.4]])"
            ]
          },
          "metadata": {
            "tags": []
          },
          "execution_count": 31
        }
      ]
    },
    {
      "metadata": {
        "id": "xomHJX6SapzC",
        "colab_type": "text"
      },
      "source": [
        "แต่หนึ่งในความสะดวกคือ เราสามารถ slice ข้อมูลในแนวตั้งได้ด้วย โดยใช้ `,` (comma) คั่น slicer"
      ],
      "cell_type": "markdown"
    },
    {
      "metadata": {
        "id": "Q_UaILfRavjJ",
        "colab_type": "code",
        "colab": {
          "autoexec": {
            "startup": false,
            "wait_interval": 0
          },
          "output_extras": [
            {
              "item_id": 1
            }
          ],
          "base_uri": "https://localhost:8080/",
          "height": 52
        },
        "outputId": "445b5f0b-cf4b-4925-b86c-60fc911a204e",
        "executionInfo": {
          "status": "ok",
          "timestamp": 1510627622903,
          "user_tz": -420,
          "elapsed": 868,
          "user": {
            "displayName": "Sirakorn Lamyai",
            "photoUrl": "//lh4.googleusercontent.com/-wZrHO4ylioI/AAAAAAAAAAI/AAAAAAAAiTI/MHjf1ZzXuz0/s50-c-k-no/photo.jpg",
            "userId": "112598566285839351739"
          }
        }
      },
      "source": [
        "array_a[0:2, 1:4]"
      ],
      "cell_type": "code",
      "execution_count": 32,
      "outputs": [
        {
          "output_type": "execute_result",
          "data": {
            "text/plain": [
              "array([[ 0.1,  0.2,  0.3],\n",
              "       [ 1.1,  1.2,  1.3]])"
            ]
          },
          "metadata": {
            "tags": []
          },
          "execution_count": 32
        }
      ]
    }
  ]
}