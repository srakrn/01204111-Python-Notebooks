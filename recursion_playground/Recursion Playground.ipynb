{
 "cells": [
  {
   "cell_type": "markdown",
   "metadata": {},
   "source": [
    "# Recursion Speed Measurement\n",
    "\n",
    "## ทดลอง Jupyter Notebook"
   ]
  },
  {
   "cell_type": "code",
   "execution_count": 9,
   "metadata": {},
   "outputs": [
    {
     "name": "stdout",
     "output_type": "stream",
     "text": [
      "Enter your name: Tanm\n",
      "Hello, Tanm!\n"
     ]
    }
   ],
   "source": [
    "# กดตรงช่องนี้แล้วกดรัน (ปุ่มคล้ายๆ ปุ่ม play ด้านบน)\n",
    "# การกดช่องนี้จะเป็นการประกาศฟังก์ชั่นที่ช่วยในการคำนวนต่างๆ สำหรับ playground นี้ด้วย\n",
    "\n",
    "import math\n",
    "import numpy as np\n",
    "import matplotlib.pyplot as plt\n",
    "from recursive_playground import *\n",
    "\n",
    "name = input(\"Enter your name: \")\n",
    "print(\"Hello, {}!\".format(name))"
   ]
  },
  {
   "cell_type": "markdown",
   "metadata": {},
   "source": [
    "## การพิจารณาฟังก์ชั่น Fibonacci สามแบบ\n",
    "\n",
    "ขั้นแรก เรามี `fib_rec(n)` ซึ่งเป็นฟังก์ชั่น Fibonacci แบบ recursive"
   ]
  },
  {
   "cell_type": "code",
   "execution_count": 10,
   "metadata": {
    "collapsed": true
   },
   "outputs": [],
   "source": [
    "def fib_rec(n):\n",
    "    if n==1 or n==2:\n",
    "        return 1\n",
    "    return fib(n-1)+fib(n-2)\n",
    "\n",
    "# กดช่องนี้ แล้วกดรันด้วย"
   ]
  },
  {
   "cell_type": "markdown",
   "metadata": {},
   "source": [
    "ต่อไป เรามี `fib_rec_m(n)` ซึ่งจะพิจารณาค่า่ของ fibonacci แบบ recursive __แต่จะมีการเก็บค่าที่เคยคำนวนไปแล้วใส่ dict__"
   ]
  },
  {
   "cell_type": "code",
   "execution_count": 11,
   "metadata": {
    "collapsed": true
   },
   "outputs": [],
   "source": [
    "computed_fib = {}\n",
    "def fib_rec_m(n):\n",
    "    if n==1 or n==2:\n",
    "        return 1\n",
    "    elif n not in computed_fib:\n",
    "        computed_fib[n] = fib(n-1)+fib(n-2)\n",
    "    return computed_fib[n]\n",
    "\n",
    "# กดช่องนี้ แล้วกดรันด้วย"
   ]
  },
  {
   "cell_type": "markdown",
   "metadata": {},
   "source": [
    "สุดท้ายเรามี `fib_loop(n)` ซึ่งใช้ลูปในการคิด"
   ]
  },
  {
   "cell_type": "code",
   "execution_count": 12,
   "metadata": {
    "collapsed": true
   },
   "outputs": [],
   "source": [
    "def fib_loop(n):\n",
    "    a0 = 1\n",
    "    a1 = 1\n",
    "    a2 = 1\n",
    "    for i in range(n-1):\n",
    "        a2 = a0+a1\n",
    "        a0 = a1\n",
    "        a1 = a2\n",
    "    return a2\n",
    "\n",
    "# กดช่องนี้ แล้วกดรันด้วย"
   ]
  },
  {
   "cell_type": "markdown",
   "metadata": {},
   "source": [
    "ทดลองรันโค้ดด้านล่างเพื่อดูว่า เวลาสำหรับฟังก์ชั่นต่างๆ เป็นอย่างไร"
   ]
  },
  {
   "cell_type": "code",
   "execution_count": null,
   "metadata": {},
   "outputs": [
    {
     "name": "stdout",
     "output_type": "stream",
     "text": [
      " 1: Fibonacci function, no memorisation\n",
      " 2: Fibonacci function, with memorisation\n",
      " 3: Fibonacci function, loop\n",
      "Enter 1-3: 1\n",
      "Enter start and end value, seperated by space: 1 50\n"
     ]
    }
   ],
   "source": [
    "print(\" 1: Fibonacci function, no memorisation\")\n",
    "print(\" 2: Fibonacci function, with memorisation\")\n",
    "print(\" 3: Fibonacci function, loop\")\n",
    "n = int(input(\"Enter 1-3: \"))\n",
    "\n",
    "start, end = list(map(int, input(\"Enter start and end value, seperated by space: \").split()))\n",
    "\n",
    "functions = [fib_rec, fib_rec_m, fib_loop]\n",
    "reg = ['exponential', 'linear', 'linear']\n",
    "fib = functions[n-1]\n",
    "model = reg[n-1]\n",
    "\n",
    "n, t, r, polyfit = compute_time(fib, start, end+1, regression=model)\n",
    "\n",
    "print(\"\\nn\\tTime\")\n",
    "for i in range(len(n)):\n",
    "    print(\"{}\\t{:.20f}\".format(n[i], t[i]))\n",
    "\n",
    "time_plot(n, r,\n",
    "          t, model, polyfit)"
   ]
  },
  {
   "cell_type": "code",
   "execution_count": null,
   "metadata": {
    "collapsed": true
   },
   "outputs": [],
   "source": []
  }
 ],
 "metadata": {
  "kernelspec": {
   "display_name": "Python 3",
   "language": "python",
   "name": "python3"
  },
  "language_info": {
   "codemirror_mode": {
    "name": "ipython",
    "version": 3
   },
   "file_extension": ".py",
   "mimetype": "text/x-python",
   "name": "python",
   "nbconvert_exporter": "python",
   "pygments_lexer": "ipython3",
   "version": "3.5.2"
  }
 },
 "nbformat": 4,
 "nbformat_minor": 2
}
