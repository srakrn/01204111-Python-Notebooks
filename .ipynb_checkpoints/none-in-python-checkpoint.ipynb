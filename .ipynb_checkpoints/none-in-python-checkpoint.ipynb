{
 "cells": [
  {
   "cell_type": "markdown",
   "metadata": {},
   "source": [
    "# None ในไพธอน\n",
    "\n",
    "สำหรับผู้เขียน ไพธอนถือว่าเป็นภาษา__มหัศจรรย์__ เพราะเป็นภาษาที่ข้ามหลักการของชนิดข้อมูล (datatype) ไปได้ทั้งหมด\n",
    "\n",
    "ในทางทฤษฎี เราสามารถกล่าวถึงการนิยามตัวแปร และการบ่งชี้ชนิดข้อมูลในภาษาไพธอนได้ในสามแง่มุมดังนี้\n",
    "\n",
    "* __Dynamic language__ นั่นคือ ไพธอนเป็นภาษาที่ไม่ยึดกับชนิดตัวแปร เมื่อประกาศตัวแปรใดตัวแปรหนึ่ง สามารถใส่ค่าซึ่งเป็นข้อมูลคนละชนิดกับค่าตั้งต้นให้ตัวแปรนั้นได้\n",
    "* __Dynamic typed__ นั่นคือ เป็นภาษาที่ไม่ต้องประกาศตัวแปรก่อนใช้\n",
    "* __Strong typed__ นั่นคือ ไม่สามารถทำโอเปอเรเตอร์ข้ามชนิดตัวแปรได้ (เช่น `'a'+2` ไม่ได้ `'a2'` -- ภาษาบางภาษา เช่น JavaScript ทำแบบนี้ได้)\n",
    "\n",
    "## ทบทวน Datatypes พื้นฐาน\n",
    "\n",
    "เราทราบกันดีอยู่แล้วว่าไพธอนมีชนิดข้อมูลหลักๆ สามชนิด นั่นคือ `int`, `float`, และ `string` (เพื่อความกระชับ จะไม่ยก `list`, `tuple,` และ `dict` มาอธิบาย)"
   ]
  },
  {
   "cell_type": "code",
   "execution_count": 19,
   "metadata": {},
   "outputs": [
    {
     "name": "stdout",
     "output_type": "stream",
     "text": [
      "<class 'int'>\n",
      "<class 'float'>\n",
      "<class 'str'>\n"
     ]
    }
   ],
   "source": [
    "a = 1\n",
    "print(type(a))\n",
    "b = 2.718281828459045\n",
    "print(type(b))\n",
    "c = \"Aitakatta\"\n",
    "print(type(c))"
   ]
  },
  {
   "cell_type": "markdown",
   "metadata": {},
   "source": [
    "แต่หนึ่งในชนิดข้อมูลที่ไพธอนมี คือ `None` ซึ่งไม่ใช่การไม่มีตัวแปร แต่เป็นการที่ตัวแปรไม่มีค่า\n",
    "\n",
    "พิจารณาโค้ดตัวอย่างสองโค้ดนี้"
   ]
  },
  {
   "cell_type": "code",
   "execution_count": 20,
   "metadata": {},
   "outputs": [
    {
     "ename": "NameError",
     "evalue": "name 'some_undeclared_var' is not defined",
     "output_type": "error",
     "traceback": [
      "\u001b[0;31m---------------------------------------------------------------------------\u001b[0m",
      "\u001b[0;31mNameError\u001b[0m                                 Traceback (most recent call last)",
      "\u001b[0;32m<ipython-input-20-fa051ab1e7fc>\u001b[0m in \u001b[0;36m<module>\u001b[0;34m()\u001b[0m\n\u001b[1;32m      1\u001b[0m \u001b[0;31m# First example code\u001b[0m\u001b[0;34m\u001b[0m\u001b[0;34m\u001b[0m\u001b[0m\n\u001b[0;32m----> 2\u001b[0;31m \u001b[0mprint\u001b[0m\u001b[0;34m(\u001b[0m\u001b[0msome_undeclared_var\u001b[0m\u001b[0;34m)\u001b[0m\u001b[0;34m\u001b[0m\u001b[0m\n\u001b[0m",
      "\u001b[0;31mNameError\u001b[0m: name 'some_undeclared_var' is not defined"
     ]
    }
   ],
   "source": [
    "# First example code\n",
    "print(some_undeclared_var)"
   ]
  },
  {
   "cell_type": "code",
   "execution_count": 21,
   "metadata": {},
   "outputs": [
    {
     "name": "stdout",
     "output_type": "stream",
     "text": [
      "Value of none_var is: None\n",
      "Type of none_var is: <class 'NoneType'>\n"
     ]
    }
   ],
   "source": [
    "# Second example code\n",
    "none_var = None\n",
    "print(\"Value of none_var is: {}\".format(none_var))\n",
    "print(\"Type of none_var is: {}\".format(type(none_var)))"
   ]
  },
  {
   "cell_type": "markdown",
   "metadata": {},
   "source": [
    "สิ่งที่ต่างกันคือ กรณีแรก ตัวแปร `some_undeclared_var` ไม่มีอยู่จริง (ดังนั้นเราจึงบอกค่าของมันไม่ได้) แต่ตัวแปร `none_var` มีตัวตนแต่ไม่มีค่า (นั่นคือค่าเป็น None)\n",
    "\n",
    "คำถามคือ ชนิดตัวแปร `None` มีประโยชน์อย่างไร? ผู้เขียนขอแนะนำให้พิจารณาโค้ดตัวอย่างต่อไปนี้"
   ]
  },
  {
   "cell_type": "code",
   "execution_count": 22,
   "metadata": {},
   "outputs": [
    {
     "name": "stdout",
     "output_type": "stream",
     "text": [
      "Hello!!\n"
     ]
    }
   ],
   "source": [
    "def my_first_function():\n",
    "    print(\"Hello!!\")\n",
    "    \n",
    "my_first_fn_value = my_first_function()"
   ]
  },
  {
   "cell_type": "markdown",
   "metadata": {},
   "source": [
    "(นิสิตที่ไม่เคยเขียนโปรแกรมมิ่งภาษาอื่นมาก่อน สามารถอ่านข้ามตรงนี้ไปได้ และอ่านต่อหลัง__ข้อความตัวหนา__)\n",
    "\n",
    "หากท่านคุ้นเคยกับการเขียนโปรแกรมในภาษาเก่าๆ มาก่อน จะพบว่าฟังก์ชั่นจะต้องส่งคืนค่าเป็นชนิดตัวแปรตามที่นิยามเท่านั้น เช่นโค้ดฟังก์ชั่นภาษาซีด้านล่าง\n",
    "\n",
    "```c\n",
    "void my_first_function(){\n",
    "    printf(\"Hello!!!\\n\");\n",
    "}\n",
    "```\n",
    "\n",
    "หากเราทดลองเติม `return 0;` ให้โค้ด จะพบว่าคอมไพล์เลอร์แจ้งว่าเกิดข้อผิดพลาด เพราะฟังก์ชั่นนิยามว่าจะไม่ส่งคืนค่า (void function) แต่กลับมีความพยายามในการส่งคืนค่า int ออกไป) ซึ่งพฤติกรรมของไพธอนต่างจากพฤติกรรมภาษาซีชัดเจน\n",
    "\n",
    "### (นิสิตที่อ่านข้าม ให้กลับมาอ่านต่อตรงนี้)\n",
    "\n",
    "เราจะพบว่า เราสามารถเรียกค่าของ `my_first_fn_value` ได้โดยที่ไม่ error ทั้งที่ `my_first_function` ไม่ส่งคืนค่าอะไรมาเลย"
   ]
  },
  {
   "cell_type": "code",
   "execution_count": 23,
   "metadata": {},
   "outputs": [
    {
     "name": "stdout",
     "output_type": "stream",
     "text": [
      "Value of my_first_fn_value is: None\n"
     ]
    }
   ],
   "source": [
    "print(\"Value of my_first_fn_value is: {}\".format(my_first_fn_value))"
   ]
  },
  {
   "cell_type": "markdown",
   "metadata": {},
   "source": [
    "จะพบว่า ค่าของ `my_first_fn_value` นั้นคือไม่มี __กล่าวคือเป็น None__ ซึ่งจากโค้ดดังกล่าว นิสิตน่าจะพอเห็นภาพว่าชนิดข้อมูล `None` นั้นมีประโยชน์ในไพธอนอย่างไร\n",
    "\n",
    "หากไม่เห็นภาพ อาจพิจารณาโค้ดด้านล่างเพิ่ม"
   ]
  },
  {
   "cell_type": "code",
   "execution_count": 24,
   "metadata": {},
   "outputs": [
    {
     "name": "stdout",
     "output_type": "stream",
     "text": [
      "type of return_types('int'): <class 'int'>\n",
      "type of return_types('float'): <class 'float'>\n",
      "type of return_types('str'): <class 'str'>\n",
      "type of return_types('yay'): <class 'NoneType'>\n"
     ]
    }
   ],
   "source": [
    "def return_types(t):\n",
    "    if t=='int':\n",
    "        return 1\n",
    "    elif t=='float':\n",
    "        return 1.2\n",
    "    elif t=='str':\n",
    "        return \"1\"\n",
    "    \n",
    "print(\"type of return_types('int'): {}\".format(type(return_types('int'))))\n",
    "print(\"type of return_types('float'): {}\".format(type(return_types('float'))))\n",
    "print(\"type of return_types('str'): {}\".format(type(return_types('str'))))\n",
    "print(\"type of return_types('yay'): {}\".format(type(return_types('yay'))))"
   ]
  },
  {
   "cell_type": "markdown",
   "metadata": {},
   "source": [
    "หากไม่มี `None` ในภาษาไพธอน เมื่อผู้ใช้ใส่ค่านอกเหนือจาก `int`, `float`, และ `str` โปรแกรมอาจจะทำงานผิดพลาดเพราะไม่สามารถเลือกค่าออกไปแสดงผลได้\n",
    "\n",
    "ดังนั้น `None` จึงเป็นหนึ่งในชนิดตัวแปรหลักของภาษาไพธอน ซึ่งสำคัญไม่แพ้ตัวแปรชนิดอื่นเลย"
   ]
  }
 ],
 "metadata": {
  "kernelspec": {
   "display_name": "Python 3",
   "language": "python",
   "name": "python3"
  },
  "language_info": {
   "codemirror_mode": {
    "name": "ipython",
    "version": 3
   },
   "file_extension": ".py",
   "mimetype": "text/x-python",
   "name": "python",
   "nbconvert_exporter": "python",
   "pygments_lexer": "ipython3",
   "version": "3.5.2"
  }
 },
 "nbformat": 4,
 "nbformat_minor": 2
}
